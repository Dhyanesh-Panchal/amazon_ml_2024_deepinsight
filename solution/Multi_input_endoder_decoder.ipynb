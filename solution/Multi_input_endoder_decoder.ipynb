{
 "cells": [
  {
   "cell_type": "markdown",
   "metadata": {},
   "source": [
    "graph TD\n",
    "    A[Input Image] --> B[Vision Encoder]\n",
    "    C[Text Query] --> D[Text Encoder]\n",
    "    B --> E[Cross-Attention Transformer]\n",
    "    D --> E\n",
    "    E --> F[Decoder]\n",
    "    F --> G[Output Text]"
   ]
  },
  {
   "cell_type": "code",
   "execution_count": null,
   "metadata": {},
   "outputs": [],
   "source": []
  }
 ],
 "metadata": {
  "language_info": {
   "name": "python"
  }
 },
 "nbformat": 4,
 "nbformat_minor": 2
}
