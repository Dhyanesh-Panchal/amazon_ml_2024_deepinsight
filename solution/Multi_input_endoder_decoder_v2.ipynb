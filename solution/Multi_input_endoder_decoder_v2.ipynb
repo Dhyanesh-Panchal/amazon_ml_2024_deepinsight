{
  "cells": [
    {
      "cell_type": "markdown",
      "metadata": {
        "id": "view-in-github",
        "colab_type": "text"
      },
      "source": [
        "<a href=\"https://colab.research.google.com/github/Dhyanesh-Panchal/amazon_ml_2024_deepinsight/blob/master/solution/Multi_input_endoder_decoder_v2.ipynb\" target=\"_parent\"><img src=\"https://colab.research.google.com/assets/colab-badge.svg\" alt=\"Open In Colab\"/></a>"
      ]
    },
    {
      "cell_type": "markdown",
      "metadata": {
        "id": "ZjJxiyGl70hZ"
      },
      "source": [
        "graph TD\n",
        "    A[Input Image] --> B[Vision Encoder]\n",
        "    C[Text Query] --> D[Text Encoder]\n",
        "    B --> E[Cross-Attention Transformer]\n",
        "    D --> E\n",
        "    E --> F[Decoder]\n",
        "    F --> G[Output Text]"
      ]
    },
    {
      "cell_type": "code",
      "execution_count": 70,
      "metadata": {
        "id": "1nbhSPbo70ha"
      },
      "outputs": [],
      "source": [
        "import torch\n",
        "import torch.nn as nn\n",
        "from transformers import ViTModel\n",
        "\n",
        "import torchvision.models as models\n",
        "import torch.optim as optim\n",
        "from torch.utils.data import Dataset\n",
        "from torch.utils.data import DataLoader\n",
        "from torchvision import transforms\n",
        "from torch.nn.utils.rnn import pad_sequence\n",
        "\n",
        "from PIL import Image\n",
        "import requests\n",
        "from io import BytesIO\n",
        "\n",
        "import pandas as pd\n",
        "import numpy as np\n",
        "import re\n",
        "from typing import List, Tuple\n",
        "from tqdm import tqdm\n",
        "\n",
        "from sklearn.model_selection import train_test_split"
      ]
    },
    {
      "cell_type": "markdown",
      "source": [
        "## Model & Supporter Classes"
      ],
      "metadata": {
        "id": "pgz_2fatG1FL"
      }
    },
    {
      "cell_type": "code",
      "source": [
        "class OutputTokenizer:\n",
        "    def __init__(self, unit_list: List[str]):\n",
        "        self.unit_list = unit_list\n",
        "        self.unit_to_id = {unit: i for i, unit in enumerate(unit_list)}\n",
        "        self.id_to_unit = {i: unit for i, unit in enumerate(unit_list)}\n",
        "        self.num_units = len(unit_list)\n",
        "\n",
        "        # Special tokens\n",
        "        self.PAD_token = 0\n",
        "        self.SOS_token = 1\n",
        "        self.EOS_token = 2\n",
        "        self.UNK_token = 3 # for Unknown tokens\n",
        "\n",
        "        # Vocabulary size: special tokens + digits + decimal point + units\n",
        "        self.vocab_size = 4 + 10 + 1 + self.num_units\n",
        "\n",
        "    def tokenize(self, text: str, max_length: int = 50) -> List[int]:\n",
        "        # Split the input into number and unit\n",
        "        match = re.match(r'(\\d+\\.?\\d*)\\s*(\\w+)', text.strip())\n",
        "        if not match:\n",
        "            return [self.SOS_token, self.UNK_token, self.EOS_token] + [self.PAD_token] * (max_length - 3)\n",
        "\n",
        "        number, unit = match.groups()\n",
        "\n",
        "        # Tokenize the number\n",
        "        number_tokens = [int(digit) + 4 for digit in number if digit.isdigit()]\n",
        "        if '.' in number:\n",
        "            number_tokens.insert(number.index('.'), 14)  # 14 is the token for decimal point\n",
        "\n",
        "        # Tokenize the unit\n",
        "        unit_token = self.unit_to_id.get(unit, self.UNK_token)\n",
        "\n",
        "        # Combine tokens\n",
        "        tokens = [self.SOS_token] + number_tokens + [unit_token + 15] + [self.EOS_token]\n",
        "\n",
        "        # Pad or truncate to max_length\n",
        "        if len(tokens) < max_length:\n",
        "            tokens += [self.PAD_token] * (max_length - len(tokens))\n",
        "        else:\n",
        "            tokens = tokens[:max_length-1] + [self.EOS_token]\n",
        "\n",
        "        return tokens\n",
        "\n",
        "    def detokenize(self, tokens: List[int]) -> str:\n",
        "        number = ''\n",
        "        unit = ''\n",
        "        for token in tokens:\n",
        "            if token == self.SOS_token or token == self.PAD_token:\n",
        "                continue\n",
        "            elif token == self.EOS_token:\n",
        "                break\n",
        "            elif 4 <= token <= 13:\n",
        "                number += str(token - 4)\n",
        "            elif token == 14:\n",
        "                number += '.'\n",
        "            elif token >= 15:\n",
        "                unit = self.id_to_unit.get(token - 15, 'UNK')\n",
        "\n",
        "        return f\"{number} {unit}\"\n",
        "\n",
        "    def decode(self, token_ids: List[int]) -> str:\n",
        "        return self.detokenize(token_ids)\n"
      ],
      "metadata": {
        "id": "fl8sFTfL-5-N"
      },
      "execution_count": 71,
      "outputs": []
    },
    {
      "cell_type": "code",
      "source": [
        "class EntityPredictorVisionBasedModel_v2(nn.Module):\n",
        "    def __init__(self, num_entity_names, num_group_ids, num_units):\n",
        "        super().__init__()\n",
        "\n",
        "        # Specialized Image Processing\n",
        "        self.cnn = models.resnet50(pretrained=True)\n",
        "        self.cnn.fc = nn.Identity()  # Remove the final fully connected layer\n",
        "\n",
        "        self.vit = ViTModel.from_pretrained('google/vit-base-patch16-224-in21k')\n",
        "\n",
        "        # Combine CNN and ViT features\n",
        "        self.feature_combiner = nn.Linear(2048 + 768, 1024)\n",
        "\n",
        "        # Entity and Group Embeddings\n",
        "        self.entity_embedding = nn.Embedding(num_entity_names, 256)\n",
        "        self.group_embedding = nn.Embedding(num_group_ids, 256)\n",
        "\n",
        "        # Feature Fusion\n",
        "        self.fusion_layer = nn.Linear(1024 + 512, 512)\n",
        "\n",
        "        # Explicit Numerical Reasoning\n",
        "        self.numerical_layer = nn.Sequential(\n",
        "            nn.Linear(512, 256),\n",
        "            nn.ReLU(),\n",
        "            nn.Linear(256, 128),\n",
        "            nn.ReLU(),\n",
        "            nn.Linear(128, 1)  # Output a single number\n",
        "        )\n",
        "\n",
        "        # Unit Classification\n",
        "        self.unit_classifier = nn.Linear(512, num_units)\n",
        "\n",
        "    def forward(self, images, entity_names, group_ids):\n",
        "        # Process images\n",
        "        cnn_features = self.cnn(images)\n",
        "        vit_features = self.vit(images).last_hidden_state[:, 0, :]  # Use [CLS] token\n",
        "        combined_image_features = torch.cat((cnn_features, vit_features), dim=1)\n",
        "        image_features = self.feature_combiner(combined_image_features)\n",
        "\n",
        "        # Process entity and group information\n",
        "        entity_features = self.entity_embedding(entity_names)\n",
        "        group_features = self.group_embedding(group_ids)\n",
        "        context_features = torch.cat((entity_features, group_features), dim=1)\n",
        "\n",
        "        # Fuse all features\n",
        "        fused_features = self.fusion_layer(torch.cat((image_features, context_features), dim=1))\n",
        "\n",
        "        # Predict numerical value\n",
        "        numerical_value = self.numerical_layer(fused_features)\n",
        "\n",
        "        # Predict unit\n",
        "        unit_logits = self.unit_classifier(fused_features)\n",
        "\n",
        "        return numerical_value, unit_logits"
      ],
      "metadata": {
        "id": "pQL0tIeB74Cb"
      },
      "execution_count": 72,
      "outputs": []
    },
    {
      "cell_type": "code",
      "source": [
        "class ProductImageDataset(Dataset):\n",
        "    def __init__(self, df, unit_to_index, transform=None):\n",
        "        self.df = df\n",
        "        self.unit_to_index = unit_to_index\n",
        "        self.transform = transform or transforms.Compose([\n",
        "            transforms.Resize((224, 224)),\n",
        "            transforms.ToTensor(),\n",
        "            transforms.Normalize(mean=[0.485, 0.456, 0.406], std=[0.229, 0.224, 0.225])\n",
        "        ])\n",
        "\n",
        "    def __len__(self):\n",
        "        return len(self.df)\n",
        "\n",
        "    def __getitem__(self, idx):\n",
        "        row = self.df.iloc[idx]\n",
        "\n",
        "        # Load image\n",
        "        response = requests.get(row['image_link'], timeout=10)\n",
        "        response.raise_for_status()\n",
        "        img = Image.open(BytesIO(response.content)).convert('RGB')\n",
        "        img = self.transform(img)\n",
        "\n",
        "        # Get other data\n",
        "        entity_name = torch.tensor(row['entity_name_index'], dtype=torch.long)\n",
        "        group_id = torch.tensor(row['group_id_index'], dtype=torch.long)\n",
        "\n",
        "        # Parse the entity_value into numerical value and unit\n",
        "        value, unit = self.parse_entity_value(row['entity_value'])\n",
        "\n",
        "        return img, entity_name, group_id, value, unit\n",
        "\n",
        "    def parse_entity_value(self, entity_value):\n",
        "        # Implement parsing logic here\n",
        "        parts = entity_value.split()\n",
        "        value = float(parts[0])\n",
        "        unit_str = parts[1]\n",
        "\n",
        "        # Convert unit string to index\n",
        "        unit_index = self.unit_to_index.get(unit_str, 0)  # Use 0 as default if unit not found\n",
        "\n",
        "        return torch.tensor(value, dtype=torch.float), torch.tensor(unit_index, dtype=torch.long)"
      ],
      "metadata": {
        "id": "OBQ-vgiiFfhT"
      },
      "execution_count": 73,
      "outputs": []
    },
    {
      "cell_type": "markdown",
      "source": [
        "## Training"
      ],
      "metadata": {
        "id": "N7G5z2N9GGIS"
      }
    },
    {
      "cell_type": "code",
      "source": [
        "# Set random seed for reproducibility\n",
        "torch.manual_seed(42)"
      ],
      "metadata": {
        "colab": {
          "base_uri": "https://localhost:8080/"
        },
        "id": "TuvghQbuGALl",
        "outputId": "e6829975-1b3c-4aa5-cac9-93594a143d59"
      },
      "execution_count": 74,
      "outputs": [
        {
          "output_type": "execute_result",
          "data": {
            "text/plain": [
              "<torch._C.Generator at 0x7af954b28c70>"
            ]
          },
          "metadata": {},
          "execution_count": 74
        }
      ]
    },
    {
      "cell_type": "code",
      "source": [
        "# Check if CUDA is available\n",
        "device = torch.device(\"cuda\" if torch.cuda.is_available() else \"cpu\")\n",
        "print(f\"Using device: {device}\")"
      ],
      "metadata": {
        "colab": {
          "base_uri": "https://localhost:8080/"
        },
        "id": "Fod2VdFdGAkf",
        "outputId": "0f8d1385-3835-4def-9ea8-10733011833f"
      },
      "execution_count": 75,
      "outputs": [
        {
          "output_type": "stream",
          "name": "stdout",
          "text": [
            "Using device: cpu\n"
          ]
        }
      ]
    },
    {
      "cell_type": "code",
      "source": [
        "df = pd.read_csv('https://raw.githubusercontent.com/Dhyanesh-Panchal/amazon_ml_2024_deepinsight/refs/heads/master/student_resource%203/dataset/filtered_train.csv')\n",
        "df.head(2)"
      ],
      "metadata": {
        "colab": {
          "base_uri": "https://localhost:8080/",
          "height": 112
        },
        "id": "bNTQSt1SANbQ",
        "outputId": "d3388b67-9cd9-4d65-f239-eb32a931716e"
      },
      "execution_count": 76,
      "outputs": [
        {
          "output_type": "execute_result",
          "data": {
            "text/plain": [
              "   index                                         image_link  group_id  \\\n",
              "0      0  https://m.media-amazon.com/images/I/61I9XdN6OF...    748919   \n",
              "1      1  https://m.media-amazon.com/images/I/71gSRbyXmo...    916768   \n",
              "\n",
              "   entity_name entity_value  \n",
              "0  item_weight   500.0 gram  \n",
              "1  item_volume      1.0 cup  "
            ],
            "text/html": [
              "\n",
              "  <div id=\"df-a49a9327-f6a5-4857-9243-7dc0908154f3\" class=\"colab-df-container\">\n",
              "    <div>\n",
              "<style scoped>\n",
              "    .dataframe tbody tr th:only-of-type {\n",
              "        vertical-align: middle;\n",
              "    }\n",
              "\n",
              "    .dataframe tbody tr th {\n",
              "        vertical-align: top;\n",
              "    }\n",
              "\n",
              "    .dataframe thead th {\n",
              "        text-align: right;\n",
              "    }\n",
              "</style>\n",
              "<table border=\"1\" class=\"dataframe\">\n",
              "  <thead>\n",
              "    <tr style=\"text-align: right;\">\n",
              "      <th></th>\n",
              "      <th>index</th>\n",
              "      <th>image_link</th>\n",
              "      <th>group_id</th>\n",
              "      <th>entity_name</th>\n",
              "      <th>entity_value</th>\n",
              "    </tr>\n",
              "  </thead>\n",
              "  <tbody>\n",
              "    <tr>\n",
              "      <th>0</th>\n",
              "      <td>0</td>\n",
              "      <td>https://m.media-amazon.com/images/I/61I9XdN6OF...</td>\n",
              "      <td>748919</td>\n",
              "      <td>item_weight</td>\n",
              "      <td>500.0 gram</td>\n",
              "    </tr>\n",
              "    <tr>\n",
              "      <th>1</th>\n",
              "      <td>1</td>\n",
              "      <td>https://m.media-amazon.com/images/I/71gSRbyXmo...</td>\n",
              "      <td>916768</td>\n",
              "      <td>item_volume</td>\n",
              "      <td>1.0 cup</td>\n",
              "    </tr>\n",
              "  </tbody>\n",
              "</table>\n",
              "</div>\n",
              "    <div class=\"colab-df-buttons\">\n",
              "\n",
              "  <div class=\"colab-df-container\">\n",
              "    <button class=\"colab-df-convert\" onclick=\"convertToInteractive('df-a49a9327-f6a5-4857-9243-7dc0908154f3')\"\n",
              "            title=\"Convert this dataframe to an interactive table.\"\n",
              "            style=\"display:none;\">\n",
              "\n",
              "  <svg xmlns=\"http://www.w3.org/2000/svg\" height=\"24px\" viewBox=\"0 -960 960 960\">\n",
              "    <path d=\"M120-120v-720h720v720H120Zm60-500h600v-160H180v160Zm220 220h160v-160H400v160Zm0 220h160v-160H400v160ZM180-400h160v-160H180v160Zm440 0h160v-160H620v160ZM180-180h160v-160H180v160Zm440 0h160v-160H620v160Z\"/>\n",
              "  </svg>\n",
              "    </button>\n",
              "\n",
              "  <style>\n",
              "    .colab-df-container {\n",
              "      display:flex;\n",
              "      gap: 12px;\n",
              "    }\n",
              "\n",
              "    .colab-df-convert {\n",
              "      background-color: #E8F0FE;\n",
              "      border: none;\n",
              "      border-radius: 50%;\n",
              "      cursor: pointer;\n",
              "      display: none;\n",
              "      fill: #1967D2;\n",
              "      height: 32px;\n",
              "      padding: 0 0 0 0;\n",
              "      width: 32px;\n",
              "    }\n",
              "\n",
              "    .colab-df-convert:hover {\n",
              "      background-color: #E2EBFA;\n",
              "      box-shadow: 0px 1px 2px rgba(60, 64, 67, 0.3), 0px 1px 3px 1px rgba(60, 64, 67, 0.15);\n",
              "      fill: #174EA6;\n",
              "    }\n",
              "\n",
              "    .colab-df-buttons div {\n",
              "      margin-bottom: 4px;\n",
              "    }\n",
              "\n",
              "    [theme=dark] .colab-df-convert {\n",
              "      background-color: #3B4455;\n",
              "      fill: #D2E3FC;\n",
              "    }\n",
              "\n",
              "    [theme=dark] .colab-df-convert:hover {\n",
              "      background-color: #434B5C;\n",
              "      box-shadow: 0px 1px 3px 1px rgba(0, 0, 0, 0.15);\n",
              "      filter: drop-shadow(0px 1px 2px rgba(0, 0, 0, 0.3));\n",
              "      fill: #FFFFFF;\n",
              "    }\n",
              "  </style>\n",
              "\n",
              "    <script>\n",
              "      const buttonEl =\n",
              "        document.querySelector('#df-a49a9327-f6a5-4857-9243-7dc0908154f3 button.colab-df-convert');\n",
              "      buttonEl.style.display =\n",
              "        google.colab.kernel.accessAllowed ? 'block' : 'none';\n",
              "\n",
              "      async function convertToInteractive(key) {\n",
              "        const element = document.querySelector('#df-a49a9327-f6a5-4857-9243-7dc0908154f3');\n",
              "        const dataTable =\n",
              "          await google.colab.kernel.invokeFunction('convertToInteractive',\n",
              "                                                    [key], {});\n",
              "        if (!dataTable) return;\n",
              "\n",
              "        const docLinkHtml = 'Like what you see? Visit the ' +\n",
              "          '<a target=\"_blank\" href=https://colab.research.google.com/notebooks/data_table.ipynb>data table notebook</a>'\n",
              "          + ' to learn more about interactive tables.';\n",
              "        element.innerHTML = '';\n",
              "        dataTable['output_type'] = 'display_data';\n",
              "        await google.colab.output.renderOutput(dataTable, element);\n",
              "        const docLink = document.createElement('div');\n",
              "        docLink.innerHTML = docLinkHtml;\n",
              "        element.appendChild(docLink);\n",
              "      }\n",
              "    </script>\n",
              "  </div>\n",
              "\n",
              "\n",
              "<div id=\"df-064e0c2c-8589-49b3-850e-b09e89f9473f\">\n",
              "  <button class=\"colab-df-quickchart\" onclick=\"quickchart('df-064e0c2c-8589-49b3-850e-b09e89f9473f')\"\n",
              "            title=\"Suggest charts\"\n",
              "            style=\"display:none;\">\n",
              "\n",
              "<svg xmlns=\"http://www.w3.org/2000/svg\" height=\"24px\"viewBox=\"0 0 24 24\"\n",
              "     width=\"24px\">\n",
              "    <g>\n",
              "        <path d=\"M19 3H5c-1.1 0-2 .9-2 2v14c0 1.1.9 2 2 2h14c1.1 0 2-.9 2-2V5c0-1.1-.9-2-2-2zM9 17H7v-7h2v7zm4 0h-2V7h2v10zm4 0h-2v-4h2v4z\"/>\n",
              "    </g>\n",
              "</svg>\n",
              "  </button>\n",
              "\n",
              "<style>\n",
              "  .colab-df-quickchart {\n",
              "      --bg-color: #E8F0FE;\n",
              "      --fill-color: #1967D2;\n",
              "      --hover-bg-color: #E2EBFA;\n",
              "      --hover-fill-color: #174EA6;\n",
              "      --disabled-fill-color: #AAA;\n",
              "      --disabled-bg-color: #DDD;\n",
              "  }\n",
              "\n",
              "  [theme=dark] .colab-df-quickchart {\n",
              "      --bg-color: #3B4455;\n",
              "      --fill-color: #D2E3FC;\n",
              "      --hover-bg-color: #434B5C;\n",
              "      --hover-fill-color: #FFFFFF;\n",
              "      --disabled-bg-color: #3B4455;\n",
              "      --disabled-fill-color: #666;\n",
              "  }\n",
              "\n",
              "  .colab-df-quickchart {\n",
              "    background-color: var(--bg-color);\n",
              "    border: none;\n",
              "    border-radius: 50%;\n",
              "    cursor: pointer;\n",
              "    display: none;\n",
              "    fill: var(--fill-color);\n",
              "    height: 32px;\n",
              "    padding: 0;\n",
              "    width: 32px;\n",
              "  }\n",
              "\n",
              "  .colab-df-quickchart:hover {\n",
              "    background-color: var(--hover-bg-color);\n",
              "    box-shadow: 0 1px 2px rgba(60, 64, 67, 0.3), 0 1px 3px 1px rgba(60, 64, 67, 0.15);\n",
              "    fill: var(--button-hover-fill-color);\n",
              "  }\n",
              "\n",
              "  .colab-df-quickchart-complete:disabled,\n",
              "  .colab-df-quickchart-complete:disabled:hover {\n",
              "    background-color: var(--disabled-bg-color);\n",
              "    fill: var(--disabled-fill-color);\n",
              "    box-shadow: none;\n",
              "  }\n",
              "\n",
              "  .colab-df-spinner {\n",
              "    border: 2px solid var(--fill-color);\n",
              "    border-color: transparent;\n",
              "    border-bottom-color: var(--fill-color);\n",
              "    animation:\n",
              "      spin 1s steps(1) infinite;\n",
              "  }\n",
              "\n",
              "  @keyframes spin {\n",
              "    0% {\n",
              "      border-color: transparent;\n",
              "      border-bottom-color: var(--fill-color);\n",
              "      border-left-color: var(--fill-color);\n",
              "    }\n",
              "    20% {\n",
              "      border-color: transparent;\n",
              "      border-left-color: var(--fill-color);\n",
              "      border-top-color: var(--fill-color);\n",
              "    }\n",
              "    30% {\n",
              "      border-color: transparent;\n",
              "      border-left-color: var(--fill-color);\n",
              "      border-top-color: var(--fill-color);\n",
              "      border-right-color: var(--fill-color);\n",
              "    }\n",
              "    40% {\n",
              "      border-color: transparent;\n",
              "      border-right-color: var(--fill-color);\n",
              "      border-top-color: var(--fill-color);\n",
              "    }\n",
              "    60% {\n",
              "      border-color: transparent;\n",
              "      border-right-color: var(--fill-color);\n",
              "    }\n",
              "    80% {\n",
              "      border-color: transparent;\n",
              "      border-right-color: var(--fill-color);\n",
              "      border-bottom-color: var(--fill-color);\n",
              "    }\n",
              "    90% {\n",
              "      border-color: transparent;\n",
              "      border-bottom-color: var(--fill-color);\n",
              "    }\n",
              "  }\n",
              "</style>\n",
              "\n",
              "  <script>\n",
              "    async function quickchart(key) {\n",
              "      const quickchartButtonEl =\n",
              "        document.querySelector('#' + key + ' button');\n",
              "      quickchartButtonEl.disabled = true;  // To prevent multiple clicks.\n",
              "      quickchartButtonEl.classList.add('colab-df-spinner');\n",
              "      try {\n",
              "        const charts = await google.colab.kernel.invokeFunction(\n",
              "            'suggestCharts', [key], {});\n",
              "      } catch (error) {\n",
              "        console.error('Error during call to suggestCharts:', error);\n",
              "      }\n",
              "      quickchartButtonEl.classList.remove('colab-df-spinner');\n",
              "      quickchartButtonEl.classList.add('colab-df-quickchart-complete');\n",
              "    }\n",
              "    (() => {\n",
              "      let quickchartButtonEl =\n",
              "        document.querySelector('#df-064e0c2c-8589-49b3-850e-b09e89f9473f button');\n",
              "      quickchartButtonEl.style.display =\n",
              "        google.colab.kernel.accessAllowed ? 'block' : 'none';\n",
              "    })();\n",
              "  </script>\n",
              "</div>\n",
              "\n",
              "    </div>\n",
              "  </div>\n"
            ],
            "application/vnd.google.colaboratory.intrinsic+json": {
              "type": "dataframe",
              "variable_name": "df"
            }
          },
          "metadata": {},
          "execution_count": 76
        }
      ]
    },
    {
      "cell_type": "code",
      "source": [
        "df = df.dropna(subset=['entity_value'])"
      ],
      "metadata": {
        "id": "kXe2VT4YGNt-"
      },
      "execution_count": 77,
      "outputs": []
    },
    {
      "cell_type": "code",
      "source": [
        "df.info()"
      ],
      "metadata": {
        "id": "Ck4X6oSmGTPX",
        "outputId": "a01f65d2-e0e7-4bb2-c2bb-a376195d2482",
        "colab": {
          "base_uri": "https://localhost:8080/"
        }
      },
      "execution_count": 78,
      "outputs": [
        {
          "output_type": "stream",
          "name": "stdout",
          "text": [
            "<class 'pandas.core.frame.DataFrame'>\n",
            "RangeIndex: 260311 entries, 0 to 260310\n",
            "Data columns (total 5 columns):\n",
            " #   Column        Non-Null Count   Dtype \n",
            "---  ------        --------------   ----- \n",
            " 0   index         260311 non-null  int64 \n",
            " 1   image_link    260311 non-null  object\n",
            " 2   group_id      260311 non-null  int64 \n",
            " 3   entity_name   260311 non-null  object\n",
            " 4   entity_value  260311 non-null  object\n",
            "dtypes: int64(2), object(3)\n",
            "memory usage: 9.9+ MB\n"
          ]
        }
      ]
    },
    {
      "cell_type": "code",
      "source": [
        "# Create mappings for entity names and group IDs\n",
        "entity_to_index = {entity: idx for idx, entity in enumerate(df['entity_name'].unique())}\n",
        "group_to_index = {group: idx for idx, group in enumerate(df['group_id'].unique())}\n",
        "\n",
        "df['entity_name_index'] = df['entity_name'].map(entity_to_index)\n",
        "df['group_id_index'] = df['group_id'].map(group_to_index)"
      ],
      "metadata": {
        "id": "wItxKFaOAI6V"
      },
      "execution_count": 79,
      "outputs": []
    },
    {
      "cell_type": "code",
      "source": [
        "# Prepare unit list\n",
        "df['entity_value_unit'] = df['entity_value'].apply(lambda x: \" \".join(x.split(\" \")[1:]))\n",
        "unit_to_index = {unit: idx for idx, unit in enumerate(df['entity_value_unit'].unique())}"
      ],
      "metadata": {
        "id": "ZPIGeOF-GXGA"
      },
      "execution_count": 80,
      "outputs": []
    },
    {
      "cell_type": "code",
      "source": [
        "# Split the data\n",
        "train_df, val_df = train_test_split(df, test_size=0.2, random_state=42)"
      ],
      "metadata": {
        "id": "VkAU-eq_Grr9"
      },
      "execution_count": 81,
      "outputs": []
    },
    {
      "cell_type": "code",
      "source": [
        "# Create datasets\n",
        "train_dataset = ProductImageDataset(train_df, unit_to_index)\n",
        "val_dataset = ProductImageDataset(val_df, unit_to_index)"
      ],
      "metadata": {
        "id": "y-13Cf-BHHoh"
      },
      "execution_count": 82,
      "outputs": []
    },
    {
      "cell_type": "code",
      "source": [
        "def custom_collate(batch):\n",
        "    # Separate the batch into individual components\n",
        "    images, entity_names, group_ids, targets = zip(*batch)\n",
        "\n",
        "    # Stack images, entity_names, and group_ids (assuming they're already tensors of uniform size)\n",
        "    images = torch.stack(images, 0)\n",
        "    entity_names = torch.stack(entity_names, 0)\n",
        "    group_ids = torch.stack(group_ids, 0)\n",
        "\n",
        "    # Pad the target sequences\n",
        "    targets = pad_sequence(targets, batch_first=True, padding_value=0)\n",
        "\n",
        "    return images, entity_names, group_ids, targets"
      ],
      "metadata": {
        "id": "LIPD1XCvJZVs"
      },
      "execution_count": 83,
      "outputs": []
    },
    {
      "cell_type": "code",
      "source": [
        "# Create dataloaders\n",
        "train_loader = DataLoader(train_dataset, batch_size=32, shuffle=True, num_workers=4)\n",
        "val_loader = DataLoader(val_dataset, batch_size=32, shuffle=False, num_workers=4)\n"
      ],
      "metadata": {
        "colab": {
          "base_uri": "https://localhost:8080/"
        },
        "id": "pPyMGq03HNMj",
        "outputId": "72a7b895-9959-45e5-e98e-89a55534143c"
      },
      "execution_count": 84,
      "outputs": [
        {
          "output_type": "stream",
          "name": "stderr",
          "text": [
            "/usr/local/lib/python3.10/dist-packages/torch/utils/data/dataloader.py:557: UserWarning: This DataLoader will create 4 worker processes in total. Our suggested max number of worker in current system is 2, which is smaller than what this DataLoader is going to create. Please be aware that excessive worker creation might get DataLoader running slow or even freeze, lower the worker number to avoid potential slowness/freeze if necessary.\n",
            "  warnings.warn(_create_warning_msg(\n"
          ]
        }
      ]
    },
    {
      "cell_type": "code",
      "source": [
        "# Initialise the Model\n",
        "model = EntityPredictorVisionBasedModel_v2(\n",
        "    num_entity_names=len(entity_to_index),\n",
        "    num_group_ids=len(group_to_index),\n",
        "    num_units=len(unit_to_index)\n",
        ")"
      ],
      "metadata": {
        "colab": {
          "base_uri": "https://localhost:8080/"
        },
        "id": "Lyj5YpNsHXcS",
        "outputId": "d6880b88-1e28-4625-f993-c3a10f7ea8cb"
      },
      "execution_count": 85,
      "outputs": [
        {
          "output_type": "stream",
          "name": "stderr",
          "text": [
            "/usr/local/lib/python3.10/dist-packages/torchvision/models/_utils.py:208: UserWarning: The parameter 'pretrained' is deprecated since 0.13 and may be removed in the future, please use 'weights' instead.\n",
            "  warnings.warn(\n",
            "/usr/local/lib/python3.10/dist-packages/torchvision/models/_utils.py:223: UserWarning: Arguments other than a weight enum or `None` for 'weights' are deprecated since 0.13 and may be removed in the future. The current behavior is equivalent to passing `weights=ResNet50_Weights.IMAGENET1K_V1`. You can also use `weights=ResNet50_Weights.DEFAULT` to get the most up-to-date weights.\n",
            "  warnings.warn(msg)\n"
          ]
        }
      ]
    },
    {
      "cell_type": "code",
      "source": [
        "# Set device\n",
        "device = torch.device(\"cuda\" if torch.cuda.is_available() else \"cpu\")"
      ],
      "metadata": {
        "id": "KUK_mZOPRXb1"
      },
      "execution_count": 86,
      "outputs": []
    },
    {
      "cell_type": "code",
      "source": [
        "def train_model(model, train_loader, val_loader, num_epochs, device):\n",
        "    model.to(device)\n",
        "\n",
        "    # Define loss functions\n",
        "    value_criterion = nn.MSELoss()\n",
        "    unit_criterion = nn.CrossEntropyLoss()\n",
        "\n",
        "    # Define optimizer\n",
        "    optimizer = optim.Adam(model.parameters(), lr=0.001)\n",
        "\n",
        "    for epoch in range(num_epochs):\n",
        "        model.train()\n",
        "        total_loss = 0.0\n",
        "\n",
        "        for images, entity_names, group_ids, true_values, true_units in tqdm(train_loader, desc=f\"Epoch {epoch+1}/{num_epochs}\"):\n",
        "            images = images.to(device)\n",
        "            entity_names = entity_names.to(device)\n",
        "            group_ids = group_ids.to(device)\n",
        "            true_values = true_values.to(device)\n",
        "            true_units = true_units.to(device)\n",
        "\n",
        "            # Forward pass\n",
        "            pred_values, pred_units = model(images, entity_names, group_ids)\n",
        "\n",
        "            # Compute losses\n",
        "            value_loss = value_criterion(pred_values.squeeze(), true_values)\n",
        "            unit_loss = unit_criterion(pred_units, true_units)\n",
        "\n",
        "            # Combine losses\n",
        "            loss = value_loss + unit_loss\n",
        "\n",
        "            # Backward pass and optimize\n",
        "            optimizer.zero_grad()\n",
        "            loss.backward()\n",
        "            optimizer.step()\n",
        "\n",
        "            total_loss += loss.item()\n",
        "\n",
        "        avg_loss = total_loss / len(train_loader)\n",
        "        print(f\"Epoch {epoch+1}/{num_epochs}, Average Loss: {avg_loss:.4f}\")\n",
        "\n",
        "        # Validation\n",
        "        model.eval()\n",
        "        val_loss = 0.0\n",
        "        correct_units = 0\n",
        "        total_samples = 0\n",
        "\n",
        "        with torch.no_grad():\n",
        "            for images, entity_names, group_ids, true_values, true_units in val_loader:\n",
        "                images = images.to(device)\n",
        "                entity_names = entity_names.to(device)\n",
        "                group_ids = group_ids.to(device)\n",
        "                true_values = true_values.to(device)\n",
        "                true_units = true_units.to(device)\n",
        "\n",
        "                pred_values, pred_units = model(images, entity_names, group_ids)\n",
        "\n",
        "                value_loss = value_criterion(pred_values.squeeze(), true_values)\n",
        "                unit_loss = unit_criterion(pred_units, true_units)\n",
        "                loss = value_loss + unit_loss\n",
        "\n",
        "                val_loss += loss.item()\n",
        "\n",
        "                _, predicted_units = torch.max(pred_units, 1)\n",
        "                correct_units += (predicted_units == true_units).sum().item()\n",
        "                total_samples += true_units.size(0)\n",
        "\n",
        "        avg_val_loss = val_loss / len(val_loader)\n",
        "        unit_accuracy = correct_units / total_samples\n",
        "        print(f\"Validation Loss: {avg_val_loss:.4f}, Unit Accuracy: {unit_accuracy:.4f}\")\n",
        "\n",
        "    return model"
      ],
      "metadata": {
        "id": "ayhKYX4DK_f_"
      },
      "execution_count": 87,
      "outputs": []
    },
    {
      "cell_type": "code",
      "source": [
        "# # Define loss function and optimizer\n",
        "# criterion = nn.CrossEntropyLoss(ignore_index=tokenizer.PAD_token)\n",
        "# optimizer = optim.Adam(model.parameters(), lr=1e-4)"
      ],
      "metadata": {
        "id": "jqO4PlSXHhrq"
      },
      "execution_count": 88,
      "outputs": []
    },
    {
      "cell_type": "code",
      "source": [
        "num_epochs = 1"
      ],
      "metadata": {
        "id": "J85wWNQkIPU4"
      },
      "execution_count": 89,
      "outputs": []
    },
    {
      "cell_type": "code",
      "source": [
        "trained_model = train_model(model, train_loader, val_loader, num_epochs, device)"
      ],
      "metadata": {
        "colab": {
          "base_uri": "https://localhost:8080/"
        },
        "id": "Z-HY9n7IIdyp",
        "outputId": "19c09c0d-2a8c-43fc-be62-a5431cc285dd"
      },
      "execution_count": null,
      "outputs": [
        {
          "output_type": "stream",
          "name": "stderr",
          "text": [
            "Epoch 1/1:   0%|          | 2/6508 [03:24<182:47:56, 101.15s/it]"
          ]
        }
      ]
    },
    {
      "cell_type": "code",
      "source": [],
      "metadata": {
        "id": "0T62URf_JyA-"
      },
      "execution_count": null,
      "outputs": []
    }
  ],
  "metadata": {
    "language_info": {
      "name": "python"
    },
    "colab": {
      "provenance": [],
      "gpuType": "T4",
      "include_colab_link": true
    },
    "accelerator": "GPU",
    "kernelspec": {
      "name": "python3",
      "display_name": "Python 3"
    }
  },
  "nbformat": 4,
  "nbformat_minor": 0
}