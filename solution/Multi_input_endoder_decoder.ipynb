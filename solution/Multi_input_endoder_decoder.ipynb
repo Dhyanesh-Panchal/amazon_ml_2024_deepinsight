{
  "cells": [
    {
      "cell_type": "markdown",
      "metadata": {
        "id": "view-in-github",
        "colab_type": "text"
      },
      "source": [
        "<a href=\"https://colab.research.google.com/github/Dhyanesh-Panchal/amazon_ml_2024_deepinsight/blob/master/solution/Multi_input_endoder_decoder.ipynb\" target=\"_parent\"><img src=\"https://colab.research.google.com/assets/colab-badge.svg\" alt=\"Open In Colab\"/></a>"
      ]
    },
    {
      "cell_type": "markdown",
      "metadata": {
        "id": "ZjJxiyGl70hZ"
      },
      "source": [
        "graph TD\n",
        "    A[Input Image] --> B[Vision Encoder]\n",
        "    C[Text Query] --> D[Text Encoder]\n",
        "    B --> E[Cross-Attention Transformer]\n",
        "    D --> E\n",
        "    E --> F[Decoder]\n",
        "    F --> G[Output Text]"
      ]
    },
    {
      "cell_type": "code",
      "execution_count": 1,
      "metadata": {
        "id": "1nbhSPbo70ha"
      },
      "outputs": [],
      "source": [
        "import torch\n",
        "import torch.nn as nn\n",
        "from transformers import ViTModel\n",
        "\n",
        "import torch.optim as optim\n",
        "from torch.utils.data import Dataset\n",
        "from torch.utils.data import DataLoader\n",
        "from torchvision import transforms\n",
        "from torch.nn.utils.rnn import pad_sequence\n",
        "\n",
        "from PIL import Image\n",
        "import requests\n",
        "from io import BytesIO\n",
        "\n",
        "import pandas as pd\n",
        "import numpy as np\n",
        "import re\n",
        "from typing import List, Tuple\n",
        "from tqdm import tqdm\n",
        "\n",
        "from sklearn.model_selection import train_test_split"
      ]
    },
    {
      "cell_type": "markdown",
      "source": [
        "## Model & Supporter Classes"
      ],
      "metadata": {
        "id": "pgz_2fatG1FL"
      }
    },
    {
      "cell_type": "code",
      "source": [
        "class OutputTokenizer:\n",
        "    def __init__(self, unit_list: List[str]):\n",
        "        self.unit_list = unit_list\n",
        "        self.unit_to_id = {unit: i for i, unit in enumerate(unit_list)}\n",
        "        self.id_to_unit = {i: unit for i, unit in enumerate(unit_list)}\n",
        "        self.num_units = len(unit_list)\n",
        "\n",
        "        # Special tokens\n",
        "        self.PAD_token = 0\n",
        "        self.SOS_token = 1\n",
        "        self.EOS_token = 2\n",
        "        self.UNK_token = 3 # for Unknown tokens\n",
        "\n",
        "        # Vocabulary size: special tokens + digits + decimal point + units\n",
        "        self.vocab_size = 4 + 10 + 1 + self.num_units\n",
        "\n",
        "    def tokenize(self, text: str, max_length: int = 50) -> List[int]:\n",
        "        # Split the input into number and unit\n",
        "        match = re.match(r'(\\d+\\.?\\d*)\\s*(\\w+)', text.strip())\n",
        "        if not match:\n",
        "            return [self.SOS_token, self.UNK_token, self.EOS_token] + [self.PAD_token] * (max_length - 3)\n",
        "\n",
        "        number, unit = match.groups()\n",
        "\n",
        "        # Tokenize the number\n",
        "        number_tokens = [int(digit) + 4 for digit in number if digit.isdigit()]\n",
        "        if '.' in number:\n",
        "            number_tokens.insert(number.index('.'), 14)  # 14 is the token for decimal point\n",
        "\n",
        "        # Tokenize the unit\n",
        "        unit_token = self.unit_to_id.get(unit, self.UNK_token)\n",
        "\n",
        "        # Combine tokens\n",
        "        tokens = [self.SOS_token] + number_tokens + [unit_token + 15] + [self.EOS_token]\n",
        "\n",
        "        # Pad or truncate to max_length\n",
        "        if len(tokens) < max_length:\n",
        "            tokens += [self.PAD_token] * (max_length - len(tokens))\n",
        "        else:\n",
        "            tokens = tokens[:max_length-1] + [self.EOS_token]\n",
        "\n",
        "        return tokens\n",
        "\n",
        "    def detokenize(self, tokens: List[int]) -> str:\n",
        "        number = ''\n",
        "        unit = ''\n",
        "        for token in tokens:\n",
        "            if token == self.SOS_token or token == self.PAD_token:\n",
        "                continue\n",
        "            elif token == self.EOS_token:\n",
        "                break\n",
        "            elif 4 <= token <= 13:\n",
        "                number += str(token - 4)\n",
        "            elif token == 14:\n",
        "                number += '.'\n",
        "            elif token >= 15:\n",
        "                unit = self.id_to_unit.get(token - 15, 'UNK')\n",
        "\n",
        "        return f\"{number} {unit}\"\n",
        "\n",
        "    def decode(self, token_ids: List[int]) -> str:\n",
        "        return self.detokenize(token_ids)\n"
      ],
      "metadata": {
        "id": "fl8sFTfL-5-N"
      },
      "execution_count": 2,
      "outputs": []
    },
    {
      "cell_type": "code",
      "source": [
        "class EntityPredictorVisionBasedModel(nn.Module):\n",
        "    def __init__(self, num_entity_names, num_group_ids, vocab_size, max_length=50):\n",
        "        super().__init__()\n",
        "        self.image_encoder = ViTModel.from_pretrained('google/vit-base-patch16-224-in21k')\n",
        "\n",
        "        self.entity_embedding = nn.Embedding(num_entity_names, 768)\n",
        "        self.group_embedding = nn.Embedding(num_group_ids, 768)\n",
        "\n",
        "        self.cross_attention = nn.MultiheadAttention(embed_dim=768, num_heads=8)\n",
        "\n",
        "        self.decoder = nn.TransformerDecoder(\n",
        "            nn.TransformerDecoderLayer(d_model=768, nhead=8),\n",
        "            num_layers=6\n",
        "        )\n",
        "\n",
        "        self.output_layer = nn.Linear(768, vocab_size)\n",
        "        self.embedding = nn.Embedding(vocab_size, 768)\n",
        "\n",
        "        self.max_length = max_length\n",
        "\n",
        "    def forward(self, images, entity_names, group_ids, target_texts=None):\n",
        "        # Encode images\n",
        "        image_features = self.image_encoder(images).last_hidden_state\n",
        "\n",
        "        # Encode entity names and group IDs\n",
        "        entity_embeddings = self.entity_embedding(entity_names)\n",
        "        group_embeddings = self.group_embedding(group_ids)\n",
        "\n",
        "        # Combine entity and group embeddings\n",
        "        query = entity_embeddings + group_embeddings\n",
        "        query = query.unsqueeze(1).repeat(1, self.max_length, 1)\n",
        "\n",
        "        # Cross-attention\n",
        "        image_features = image_features.transpose(0, 1)\n",
        "        query = query.transpose(0, 1)\n",
        "        attended_features, _ = self.cross_attention(query, image_features, image_features)\n",
        "\n",
        "        batch_size = images.size(0)\n",
        "        seq_length = self.max_length\n",
        "\n",
        "        if self.training and target_texts is not None:\n",
        "            # During training, use teacher forcing\n",
        "            decoder_inputs = self.embedding(target_texts[:, :-1])\n",
        "            decoder_outputs = self.decode(decoder_inputs, attended_features)\n",
        "        else:\n",
        "            # During validation/inference, generate the full sequence\n",
        "            decoder_input = torch.zeros((batch_size, 1, 768), device=images.device)\n",
        "            decoder_outputs = []\n",
        "\n",
        "            for _ in range(seq_length):\n",
        "                step_output = self.decode(decoder_input, attended_features)\n",
        "                decoder_outputs.append(step_output)\n",
        "                next_token = step_output.argmax(dim=-1)\n",
        "                decoder_input = self.embedding(next_token)\n",
        "\n",
        "            decoder_outputs = torch.cat(decoder_outputs, dim=1)\n",
        "\n",
        "        return decoder_outputs\n",
        "\n",
        "    def decode(self, decoder_input, attended_features):\n",
        "        # Transpose for decoder\n",
        "        decoder_input = decoder_input.transpose(0, 1)\n",
        "\n",
        "        # Decode\n",
        "        decoder_output = self.decoder(decoder_input, attended_features)\n",
        "\n",
        "        # Generate output probabilities\n",
        "        output_probs = self.output_layer(decoder_output.transpose(0, 1))\n",
        "\n",
        "        return output_probs\n",
        "\n",
        "    def generate(self, images, entity_names, group_ids):\n",
        "        self.eval()\n",
        "        with torch.no_grad():\n",
        "            output_probs = self(images, entity_names, group_ids)\n",
        "            generated_tokens = output_probs.argmax(dim=-1)\n",
        "        return generated_tokens"
      ],
      "metadata": {
        "id": "pQL0tIeB74Cb"
      },
      "execution_count": 3,
      "outputs": []
    },
    {
      "cell_type": "code",
      "source": [
        "# Helper functions\n",
        "def entity_to_index(entity_names):\n",
        "    unique_entities = sorted(set(entity_names))\n",
        "    entity_to_idx = {entity: idx for idx, entity in enumerate(unique_entities)}\n",
        "    return [entity_to_idx[entity] for entity in entity_names]\n",
        "\n",
        "def group_to_index(group_ids):\n",
        "    unique_groups = sorted(set(group_ids))\n",
        "    group_to_idx = {group: idx for idx, group in enumerate(unique_groups)}\n",
        "    return [group_to_idx[group] for group in group_ids]\n"
      ],
      "metadata": {
        "id": "akUBHLaY8J1S"
      },
      "execution_count": 4,
      "outputs": []
    },
    {
      "cell_type": "code",
      "source": [
        "class ProductImageDataset(Dataset):\n",
        "    def __init__(self, df, tokenizer, transform=None, max_length=50):\n",
        "        self.df = df\n",
        "        self.tokenizer = tokenizer\n",
        "        self.max_length = max_length\n",
        "        self.transform = transform or transforms.Compose([\n",
        "            transforms.Resize((224, 224)),\n",
        "            transforms.ToTensor(),\n",
        "            transforms.Normalize(mean=[0.485, 0.456, 0.406], std=[0.229, 0.224, 0.225])\n",
        "        ])\n",
        "\n",
        "    def __len__(self):\n",
        "        return len(self.df)\n",
        "\n",
        "    def __getitem__(self, idx):\n",
        "        try:\n",
        "            row = self.df.iloc[idx]\n",
        "\n",
        "            # Load image from URL\n",
        "            response = requests.get(row['image_link'], timeout=10)\n",
        "            response.raise_for_status()\n",
        "            img = Image.open(BytesIO(response.content)).convert('RGB')\n",
        "            img = self.transform(img)\n",
        "\n",
        "            # Prepare other inputs\n",
        "            entity_name = torch.tensor(row['entity_name_index'], dtype=torch.long)\n",
        "            group_id = torch.tensor(row['group_id_index'], dtype=torch.long)\n",
        "\n",
        "            # Prepare target\n",
        "            target = row['entity_value']\n",
        "            target = self.tokenizer.tokenize(target, max_length=self.max_length)\n",
        "            target = torch.tensor(target, dtype=torch.long)\n",
        "\n",
        "            return img, entity_name, group_id, target\n",
        "\n",
        "        except Exception as e:\n",
        "            print(f\"Error loading data at index {idx}: {str(e)}\")\n",
        "            # Return a default value with correct shapes\n",
        "            return torch.zeros((3, 224, 224)), torch.tensor(0, dtype=torch.long), torch.tensor(0, dtype=torch.long), torch.tensor([0] * self.max_length, dtype=torch.long)"
      ],
      "metadata": {
        "id": "OBQ-vgiiFfhT"
      },
      "execution_count": 5,
      "outputs": []
    },
    {
      "cell_type": "markdown",
      "source": [
        "## Training"
      ],
      "metadata": {
        "id": "N7G5z2N9GGIS"
      }
    },
    {
      "cell_type": "code",
      "source": [
        "# Set random seed for reproducibility\n",
        "torch.manual_seed(42)"
      ],
      "metadata": {
        "colab": {
          "base_uri": "https://localhost:8080/"
        },
        "id": "TuvghQbuGALl",
        "outputId": "23097004-8a5c-40d0-be43-fbd276ead6c5"
      },
      "execution_count": 6,
      "outputs": [
        {
          "output_type": "execute_result",
          "data": {
            "text/plain": [
              "<torch._C.Generator at 0x7edde43a09f0>"
            ]
          },
          "metadata": {},
          "execution_count": 6
        }
      ]
    },
    {
      "cell_type": "code",
      "source": [
        "# Check if CUDA is available\n",
        "device = torch.device(\"cuda\" if torch.cuda.is_available() else \"cpu\")\n",
        "print(f\"Using device: {device}\")"
      ],
      "metadata": {
        "colab": {
          "base_uri": "https://localhost:8080/"
        },
        "id": "Fod2VdFdGAkf",
        "outputId": "adccfd2e-2931-4aba-e48b-a2ef9d7fb715"
      },
      "execution_count": 7,
      "outputs": [
        {
          "output_type": "stream",
          "name": "stdout",
          "text": [
            "Using device: cuda\n"
          ]
        }
      ]
    },
    {
      "cell_type": "code",
      "source": [
        "df = pd.read_csv('https://raw.githubusercontent.com/Dhyanesh-Panchal/amazon_ml_2024_deepinsight/refs/heads/master/student_resource%203/dataset/filtered_train.csv')\n",
        "df.head(2)"
      ],
      "metadata": {
        "colab": {
          "base_uri": "https://localhost:8080/",
          "height": 112
        },
        "id": "bNTQSt1SANbQ",
        "outputId": "58a15ef4-0b0c-493e-a463-9eda47c19e31"
      },
      "execution_count": 8,
      "outputs": [
        {
          "output_type": "execute_result",
          "data": {
            "text/plain": [
              "   index                                         image_link  group_id  \\\n",
              "0      0  https://m.media-amazon.com/images/I/61I9XdN6OF...    748919   \n",
              "1      1  https://m.media-amazon.com/images/I/71gSRbyXmo...    916768   \n",
              "\n",
              "   entity_name entity_value  \n",
              "0  item_weight   500.0 gram  \n",
              "1  item_volume      1.0 cup  "
            ],
            "text/html": [
              "\n",
              "  <div id=\"df-a46a7153-293f-477f-a446-d52faabfa281\" class=\"colab-df-container\">\n",
              "    <div>\n",
              "<style scoped>\n",
              "    .dataframe tbody tr th:only-of-type {\n",
              "        vertical-align: middle;\n",
              "    }\n",
              "\n",
              "    .dataframe tbody tr th {\n",
              "        vertical-align: top;\n",
              "    }\n",
              "\n",
              "    .dataframe thead th {\n",
              "        text-align: right;\n",
              "    }\n",
              "</style>\n",
              "<table border=\"1\" class=\"dataframe\">\n",
              "  <thead>\n",
              "    <tr style=\"text-align: right;\">\n",
              "      <th></th>\n",
              "      <th>index</th>\n",
              "      <th>image_link</th>\n",
              "      <th>group_id</th>\n",
              "      <th>entity_name</th>\n",
              "      <th>entity_value</th>\n",
              "    </tr>\n",
              "  </thead>\n",
              "  <tbody>\n",
              "    <tr>\n",
              "      <th>0</th>\n",
              "      <td>0</td>\n",
              "      <td>https://m.media-amazon.com/images/I/61I9XdN6OF...</td>\n",
              "      <td>748919</td>\n",
              "      <td>item_weight</td>\n",
              "      <td>500.0 gram</td>\n",
              "    </tr>\n",
              "    <tr>\n",
              "      <th>1</th>\n",
              "      <td>1</td>\n",
              "      <td>https://m.media-amazon.com/images/I/71gSRbyXmo...</td>\n",
              "      <td>916768</td>\n",
              "      <td>item_volume</td>\n",
              "      <td>1.0 cup</td>\n",
              "    </tr>\n",
              "  </tbody>\n",
              "</table>\n",
              "</div>\n",
              "    <div class=\"colab-df-buttons\">\n",
              "\n",
              "  <div class=\"colab-df-container\">\n",
              "    <button class=\"colab-df-convert\" onclick=\"convertToInteractive('df-a46a7153-293f-477f-a446-d52faabfa281')\"\n",
              "            title=\"Convert this dataframe to an interactive table.\"\n",
              "            style=\"display:none;\">\n",
              "\n",
              "  <svg xmlns=\"http://www.w3.org/2000/svg\" height=\"24px\" viewBox=\"0 -960 960 960\">\n",
              "    <path d=\"M120-120v-720h720v720H120Zm60-500h600v-160H180v160Zm220 220h160v-160H400v160Zm0 220h160v-160H400v160ZM180-400h160v-160H180v160Zm440 0h160v-160H620v160ZM180-180h160v-160H180v160Zm440 0h160v-160H620v160Z\"/>\n",
              "  </svg>\n",
              "    </button>\n",
              "\n",
              "  <style>\n",
              "    .colab-df-container {\n",
              "      display:flex;\n",
              "      gap: 12px;\n",
              "    }\n",
              "\n",
              "    .colab-df-convert {\n",
              "      background-color: #E8F0FE;\n",
              "      border: none;\n",
              "      border-radius: 50%;\n",
              "      cursor: pointer;\n",
              "      display: none;\n",
              "      fill: #1967D2;\n",
              "      height: 32px;\n",
              "      padding: 0 0 0 0;\n",
              "      width: 32px;\n",
              "    }\n",
              "\n",
              "    .colab-df-convert:hover {\n",
              "      background-color: #E2EBFA;\n",
              "      box-shadow: 0px 1px 2px rgba(60, 64, 67, 0.3), 0px 1px 3px 1px rgba(60, 64, 67, 0.15);\n",
              "      fill: #174EA6;\n",
              "    }\n",
              "\n",
              "    .colab-df-buttons div {\n",
              "      margin-bottom: 4px;\n",
              "    }\n",
              "\n",
              "    [theme=dark] .colab-df-convert {\n",
              "      background-color: #3B4455;\n",
              "      fill: #D2E3FC;\n",
              "    }\n",
              "\n",
              "    [theme=dark] .colab-df-convert:hover {\n",
              "      background-color: #434B5C;\n",
              "      box-shadow: 0px 1px 3px 1px rgba(0, 0, 0, 0.15);\n",
              "      filter: drop-shadow(0px 1px 2px rgba(0, 0, 0, 0.3));\n",
              "      fill: #FFFFFF;\n",
              "    }\n",
              "  </style>\n",
              "\n",
              "    <script>\n",
              "      const buttonEl =\n",
              "        document.querySelector('#df-a46a7153-293f-477f-a446-d52faabfa281 button.colab-df-convert');\n",
              "      buttonEl.style.display =\n",
              "        google.colab.kernel.accessAllowed ? 'block' : 'none';\n",
              "\n",
              "      async function convertToInteractive(key) {\n",
              "        const element = document.querySelector('#df-a46a7153-293f-477f-a446-d52faabfa281');\n",
              "        const dataTable =\n",
              "          await google.colab.kernel.invokeFunction('convertToInteractive',\n",
              "                                                    [key], {});\n",
              "        if (!dataTable) return;\n",
              "\n",
              "        const docLinkHtml = 'Like what you see? Visit the ' +\n",
              "          '<a target=\"_blank\" href=https://colab.research.google.com/notebooks/data_table.ipynb>data table notebook</a>'\n",
              "          + ' to learn more about interactive tables.';\n",
              "        element.innerHTML = '';\n",
              "        dataTable['output_type'] = 'display_data';\n",
              "        await google.colab.output.renderOutput(dataTable, element);\n",
              "        const docLink = document.createElement('div');\n",
              "        docLink.innerHTML = docLinkHtml;\n",
              "        element.appendChild(docLink);\n",
              "      }\n",
              "    </script>\n",
              "  </div>\n",
              "\n",
              "\n",
              "<div id=\"df-51c55db3-0046-4eea-b391-0c811295e3cd\">\n",
              "  <button class=\"colab-df-quickchart\" onclick=\"quickchart('df-51c55db3-0046-4eea-b391-0c811295e3cd')\"\n",
              "            title=\"Suggest charts\"\n",
              "            style=\"display:none;\">\n",
              "\n",
              "<svg xmlns=\"http://www.w3.org/2000/svg\" height=\"24px\"viewBox=\"0 0 24 24\"\n",
              "     width=\"24px\">\n",
              "    <g>\n",
              "        <path d=\"M19 3H5c-1.1 0-2 .9-2 2v14c0 1.1.9 2 2 2h14c1.1 0 2-.9 2-2V5c0-1.1-.9-2-2-2zM9 17H7v-7h2v7zm4 0h-2V7h2v10zm4 0h-2v-4h2v4z\"/>\n",
              "    </g>\n",
              "</svg>\n",
              "  </button>\n",
              "\n",
              "<style>\n",
              "  .colab-df-quickchart {\n",
              "      --bg-color: #E8F0FE;\n",
              "      --fill-color: #1967D2;\n",
              "      --hover-bg-color: #E2EBFA;\n",
              "      --hover-fill-color: #174EA6;\n",
              "      --disabled-fill-color: #AAA;\n",
              "      --disabled-bg-color: #DDD;\n",
              "  }\n",
              "\n",
              "  [theme=dark] .colab-df-quickchart {\n",
              "      --bg-color: #3B4455;\n",
              "      --fill-color: #D2E3FC;\n",
              "      --hover-bg-color: #434B5C;\n",
              "      --hover-fill-color: #FFFFFF;\n",
              "      --disabled-bg-color: #3B4455;\n",
              "      --disabled-fill-color: #666;\n",
              "  }\n",
              "\n",
              "  .colab-df-quickchart {\n",
              "    background-color: var(--bg-color);\n",
              "    border: none;\n",
              "    border-radius: 50%;\n",
              "    cursor: pointer;\n",
              "    display: none;\n",
              "    fill: var(--fill-color);\n",
              "    height: 32px;\n",
              "    padding: 0;\n",
              "    width: 32px;\n",
              "  }\n",
              "\n",
              "  .colab-df-quickchart:hover {\n",
              "    background-color: var(--hover-bg-color);\n",
              "    box-shadow: 0 1px 2px rgba(60, 64, 67, 0.3), 0 1px 3px 1px rgba(60, 64, 67, 0.15);\n",
              "    fill: var(--button-hover-fill-color);\n",
              "  }\n",
              "\n",
              "  .colab-df-quickchart-complete:disabled,\n",
              "  .colab-df-quickchart-complete:disabled:hover {\n",
              "    background-color: var(--disabled-bg-color);\n",
              "    fill: var(--disabled-fill-color);\n",
              "    box-shadow: none;\n",
              "  }\n",
              "\n",
              "  .colab-df-spinner {\n",
              "    border: 2px solid var(--fill-color);\n",
              "    border-color: transparent;\n",
              "    border-bottom-color: var(--fill-color);\n",
              "    animation:\n",
              "      spin 1s steps(1) infinite;\n",
              "  }\n",
              "\n",
              "  @keyframes spin {\n",
              "    0% {\n",
              "      border-color: transparent;\n",
              "      border-bottom-color: var(--fill-color);\n",
              "      border-left-color: var(--fill-color);\n",
              "    }\n",
              "    20% {\n",
              "      border-color: transparent;\n",
              "      border-left-color: var(--fill-color);\n",
              "      border-top-color: var(--fill-color);\n",
              "    }\n",
              "    30% {\n",
              "      border-color: transparent;\n",
              "      border-left-color: var(--fill-color);\n",
              "      border-top-color: var(--fill-color);\n",
              "      border-right-color: var(--fill-color);\n",
              "    }\n",
              "    40% {\n",
              "      border-color: transparent;\n",
              "      border-right-color: var(--fill-color);\n",
              "      border-top-color: var(--fill-color);\n",
              "    }\n",
              "    60% {\n",
              "      border-color: transparent;\n",
              "      border-right-color: var(--fill-color);\n",
              "    }\n",
              "    80% {\n",
              "      border-color: transparent;\n",
              "      border-right-color: var(--fill-color);\n",
              "      border-bottom-color: var(--fill-color);\n",
              "    }\n",
              "    90% {\n",
              "      border-color: transparent;\n",
              "      border-bottom-color: var(--fill-color);\n",
              "    }\n",
              "  }\n",
              "</style>\n",
              "\n",
              "  <script>\n",
              "    async function quickchart(key) {\n",
              "      const quickchartButtonEl =\n",
              "        document.querySelector('#' + key + ' button');\n",
              "      quickchartButtonEl.disabled = true;  // To prevent multiple clicks.\n",
              "      quickchartButtonEl.classList.add('colab-df-spinner');\n",
              "      try {\n",
              "        const charts = await google.colab.kernel.invokeFunction(\n",
              "            'suggestCharts', [key], {});\n",
              "      } catch (error) {\n",
              "        console.error('Error during call to suggestCharts:', error);\n",
              "      }\n",
              "      quickchartButtonEl.classList.remove('colab-df-spinner');\n",
              "      quickchartButtonEl.classList.add('colab-df-quickchart-complete');\n",
              "    }\n",
              "    (() => {\n",
              "      let quickchartButtonEl =\n",
              "        document.querySelector('#df-51c55db3-0046-4eea-b391-0c811295e3cd button');\n",
              "      quickchartButtonEl.style.display =\n",
              "        google.colab.kernel.accessAllowed ? 'block' : 'none';\n",
              "    })();\n",
              "  </script>\n",
              "</div>\n",
              "\n",
              "    </div>\n",
              "  </div>\n"
            ],
            "application/vnd.google.colaboratory.intrinsic+json": {
              "type": "dataframe",
              "variable_name": "df"
            }
          },
          "metadata": {},
          "execution_count": 8
        }
      ]
    },
    {
      "cell_type": "code",
      "source": [
        "df = df.dropna(subset=['entity_value'])"
      ],
      "metadata": {
        "id": "kXe2VT4YGNt-"
      },
      "execution_count": 9,
      "outputs": []
    },
    {
      "cell_type": "markdown",
      "source": [
        "### Lets sample a small subset"
      ],
      "metadata": {
        "id": "aLXqZDtJeZL-"
      }
    },
    {
      "cell_type": "code",
      "source": [
        "train_batch_no = 1\n",
        "train_batch_size = 25000"
      ],
      "metadata": {
        "id": "zZjO-WvKmkMJ"
      },
      "execution_count": 10,
      "outputs": []
    },
    {
      "cell_type": "code",
      "source": [
        "df = df[(train_batch_no-1)*train_batch_size : (train_batch_no)*train_batch_size]"
      ],
      "metadata": {
        "id": "Q3g57hikeduP"
      },
      "execution_count": 11,
      "outputs": []
    },
    {
      "cell_type": "code",
      "source": [
        "df.info()"
      ],
      "metadata": {
        "colab": {
          "base_uri": "https://localhost:8080/"
        },
        "id": "Ck4X6oSmGTPX",
        "outputId": "f6f4b266-a7d8-4925-fa16-2625e214487e"
      },
      "execution_count": 12,
      "outputs": [
        {
          "output_type": "stream",
          "name": "stdout",
          "text": [
            "<class 'pandas.core.frame.DataFrame'>\n",
            "RangeIndex: 25000 entries, 0 to 24999\n",
            "Data columns (total 5 columns):\n",
            " #   Column        Non-Null Count  Dtype \n",
            "---  ------        --------------  ----- \n",
            " 0   index         25000 non-null  int64 \n",
            " 1   image_link    25000 non-null  object\n",
            " 2   group_id      25000 non-null  int64 \n",
            " 3   entity_name   25000 non-null  object\n",
            " 4   entity_value  25000 non-null  object\n",
            "dtypes: int64(2), object(3)\n",
            "memory usage: 976.7+ KB\n"
          ]
        }
      ]
    },
    {
      "cell_type": "code",
      "source": [
        "# Prepare entity names and group IDs\n",
        "entity_to_index = {entity: idx for idx, entity in enumerate(df['entity_name'].unique())}\n",
        "group_to_index = {group: idx for idx, group in enumerate(df['group_id'].unique())}"
      ],
      "metadata": {
        "id": "wItxKFaOAI6V"
      },
      "execution_count": 13,
      "outputs": []
    },
    {
      "cell_type": "code",
      "source": [
        "df['entity_name_index'] = df['entity_name'].map(entity_to_index)\n",
        "df['group_id_index'] = df['group_id'].map(group_to_index)"
      ],
      "metadata": {
        "id": "DMGaO97qGDeX"
      },
      "execution_count": 14,
      "outputs": []
    },
    {
      "cell_type": "code",
      "source": [
        "# Prepare unit list\n",
        "df['entity_value_unit'] = df['entity_value'].apply(lambda x: \" \".join(x.split(\" \")[1:]))\n",
        "unit_list = df['entity_value_unit'].unique().tolist()"
      ],
      "metadata": {
        "id": "ZPIGeOF-GXGA"
      },
      "execution_count": 15,
      "outputs": []
    },
    {
      "cell_type": "code",
      "source": [
        "unit_list"
      ],
      "metadata": {
        "colab": {
          "base_uri": "https://localhost:8080/"
        },
        "id": "vbi3VFWOAI5M",
        "outputId": "53bbe2ca-8725-411b-b788-8fb30936b682"
      },
      "execution_count": 16,
      "outputs": [
        {
          "output_type": "execute_result",
          "data": {
            "text/plain": [
              "['gram',\n",
              " 'cup',\n",
              " 'milligram',\n",
              " 'kilogram',\n",
              " 'ounce',\n",
              " 'gallon',\n",
              " 'volt',\n",
              " 'watt',\n",
              " 'pound',\n",
              " 'millilitre',\n",
              " 'cubic foot',\n",
              " 'fluid ounce',\n",
              " 'ton',\n",
              " 'decilitre',\n",
              " 'cubic inch',\n",
              " 'litre',\n",
              " 'microgram',\n",
              " 'centimetre',\n",
              " 'quart',\n",
              " 'horsepower',\n",
              " 'kilowatt',\n",
              " 'kilowatt hour',\n",
              " 'gigabyte',\n",
              " 'millimetre',\n",
              " 'pint',\n",
              " 'centilitre',\n",
              " 'candela',\n",
              " 'inch',\n",
              " 'person',\n",
              " 'metre',\n",
              " 'foot']"
            ]
          },
          "metadata": {},
          "execution_count": 16
        }
      ]
    },
    {
      "cell_type": "code",
      "source": [
        "# Split the data\n",
        "train_df, val_df = train_test_split(df, test_size=0.2, random_state=42)"
      ],
      "metadata": {
        "id": "VkAU-eq_Grr9"
      },
      "execution_count": 17,
      "outputs": []
    },
    {
      "cell_type": "code",
      "source": [
        "tokenizer = OutputTokenizer(unit_list)"
      ],
      "metadata": {
        "id": "BBSMla-bHAgO"
      },
      "execution_count": 18,
      "outputs": []
    },
    {
      "cell_type": "code",
      "source": [
        "train_dataset = ProductImageDataset(train_df, tokenizer, max_length=50)\n",
        "val_dataset = ProductImageDataset(val_df, tokenizer, max_length=50)"
      ],
      "metadata": {
        "id": "y-13Cf-BHHoh"
      },
      "execution_count": 19,
      "outputs": []
    },
    {
      "cell_type": "code",
      "source": [
        "train_dataset[3][0].shape"
      ],
      "metadata": {
        "colab": {
          "base_uri": "https://localhost:8080/"
        },
        "id": "tCyySsr-R7Fa",
        "outputId": "e7a3ee72-9499-4c1f-bb38-644f1209583c"
      },
      "execution_count": 20,
      "outputs": [
        {
          "output_type": "execute_result",
          "data": {
            "text/plain": [
              "torch.Size([3, 224, 224])"
            ]
          },
          "metadata": {},
          "execution_count": 20
        }
      ]
    },
    {
      "cell_type": "code",
      "source": [
        "def custom_collate(batch):\n",
        "    # Separate the batch into individual components\n",
        "    images, entity_names, group_ids, targets = zip(*batch)\n",
        "\n",
        "    # Stack images, entity_names, and group_ids (assuming they're already tensors of uniform size)\n",
        "    images = torch.stack(images, 0)\n",
        "    entity_names = torch.stack(entity_names, 0)\n",
        "    group_ids = torch.stack(group_ids, 0)\n",
        "\n",
        "    # Pad the target sequences\n",
        "    targets = pad_sequence(targets, batch_first=True, padding_value=0)\n",
        "\n",
        "    return images, entity_names, group_ids, targets"
      ],
      "metadata": {
        "id": "LIPD1XCvJZVs"
      },
      "execution_count": 21,
      "outputs": []
    },
    {
      "cell_type": "code",
      "source": [
        "# Create dataloaders\n",
        "train_loader = DataLoader(train_dataset, batch_size=32, shuffle=True, num_workers=4,collate_fn=custom_collate)\n",
        "val_loader = DataLoader(val_dataset, batch_size=32, shuffle=False, num_workers=4,collate_fn=custom_collate)\n"
      ],
      "metadata": {
        "colab": {
          "base_uri": "https://localhost:8080/"
        },
        "id": "pPyMGq03HNMj",
        "outputId": "74799032-8b60-46c2-8a5b-a2af7d3612d8"
      },
      "execution_count": 22,
      "outputs": [
        {
          "output_type": "stream",
          "name": "stderr",
          "text": [
            "/usr/local/lib/python3.10/dist-packages/torch/utils/data/dataloader.py:557: UserWarning: This DataLoader will create 4 worker processes in total. Our suggested max number of worker in current system is 2, which is smaller than what this DataLoader is going to create. Please be aware that excessive worker creation might get DataLoader running slow or even freeze, lower the worker number to avoid potential slowness/freeze if necessary.\n",
            "  warnings.warn(_create_warning_msg(\n"
          ]
        }
      ]
    },
    {
      "cell_type": "code",
      "source": [
        "# Initialise the Model\n",
        "model = EntityPredictorVisionBasedModel(\n",
        "    num_entity_names=len(entity_to_index),\n",
        "    num_group_ids=len(group_to_index),\n",
        "    vocab_size=tokenizer.vocab_size,\n",
        "    max_length=50\n",
        ").to(device)"
      ],
      "metadata": {
        "id": "Lyj5YpNsHXcS",
        "colab": {
          "base_uri": "https://localhost:8080/"
        },
        "outputId": "89fc275c-da58-4498-c702-e33ebc034ec1"
      },
      "execution_count": 23,
      "outputs": [
        {
          "output_type": "stream",
          "name": "stderr",
          "text": [
            "/usr/local/lib/python3.10/dist-packages/huggingface_hub/utils/_token.py:89: UserWarning: \n",
            "The secret `HF_TOKEN` does not exist in your Colab secrets.\n",
            "To authenticate with the Hugging Face Hub, create a token in your settings tab (https://huggingface.co/settings/tokens), set it as secret in your Google Colab and restart your session.\n",
            "You will be able to reuse this secret in all of your notebooks.\n",
            "Please note that authentication is recommended but still optional to access public models or datasets.\n",
            "  warnings.warn(\n"
          ]
        }
      ]
    },
    {
      "cell_type": "code",
      "source": [
        "def train_model(model, train_loader, val_loader, criterion, optimizer, num_epochs, device):\n",
        "    for epoch in range(num_epochs):\n",
        "        model.train()\n",
        "        total_loss = 0\n",
        "\n",
        "        for batch_idx, (img, entity_name, group_id, target) in enumerate(tqdm(train_loader, desc=f\"Epoch {epoch+1}/{num_epochs}\")):\n",
        "            img = img.to(device)\n",
        "            entity_name = entity_name.to(device)\n",
        "            group_id = group_id.to(device)\n",
        "            target = target.to(device)\n",
        "\n",
        "            optimizer.zero_grad()\n",
        "            output_probs = model(img, entity_name, group_id, target)\n",
        "\n",
        "            # Reshape output_probs and target for loss calculation\n",
        "            output_probs = output_probs.view(-1, output_probs.size(-1))\n",
        "            target = target[:, 1:].contiguous().view(-1)  # Shift target by 1 and flatten\n",
        "\n",
        "            # Create a mask to ignore padding in loss calculation\n",
        "            mask = (target != 0).float()\n",
        "\n",
        "            loss = criterion(output_probs, target)\n",
        "            loss = (loss * mask).sum() / mask.sum()  # Average loss over non-pad tokens\n",
        "\n",
        "            loss.backward()\n",
        "            optimizer.step()\n",
        "\n",
        "            total_loss += loss.item()\n",
        "\n",
        "            if batch_idx % 10 == 0:\n",
        "                print(f\"Batch {batch_idx}, Loss: {loss.item():.4f}\")\n",
        "                print(f\"Output probs shape: {output_probs.shape}\")\n",
        "                print(f\"Target shape: {target.shape}\")\n",
        "\n",
        "        avg_loss = total_loss / len(train_loader)\n",
        "        print(f\"Epoch {epoch+1}/{num_epochs}, Average Loss: {avg_loss:.4f}\")\n",
        "\n",
        "        # Validation\n",
        "        model.eval()\n",
        "        val_loss = 0\n",
        "        correct_predictions = 0\n",
        "        total_predictions = 0\n",
        "\n",
        "        with torch.no_grad():\n",
        "            for img, entity_name, group_id, target in tqdm(val_loader, desc=\"Validation\"):\n",
        "                img = img.to(device)\n",
        "                entity_name = entity_name.to(device)\n",
        "                group_id = group_id.to(device)\n",
        "                target = target.to(device)\n",
        "\n",
        "                print(f\"Validation batch shapes:\")\n",
        "                print(f\"img: {img.shape}\")\n",
        "                print(f\"entity_name: {entity_name.shape}\")\n",
        "                print(f\"group_id: {group_id.shape}\")\n",
        "                print(f\"target: {target.shape}\")\n",
        "\n",
        "                output_probs = model(img, entity_name, group_id)\n",
        "                print(f\"output_probs: {output_probs.shape}\")\n",
        "\n",
        "                # Reshape output_probs to match target size\n",
        "                output_probs = output_probs.squeeze(1)  # Remove the extra dimension\n",
        "                output_probs = output_probs.view(-1, output_probs.size(-1))\n",
        "                target = target.view(-1)\n",
        "\n",
        "                print(f\"Reshaped output_probs: {output_probs.shape}\")\n",
        "                print(f\"Reshaped target: {target.shape}\")\n",
        "\n",
        "                # Create a mask to ignore padding in loss calculation\n",
        "                mask = (target != 0).float()\n",
        "\n",
        "                loss = criterion(output_probs, target)\n",
        "                loss = (loss * mask).sum() / mask.sum()  # Average loss over non-pad tokens\n",
        "                val_loss += loss.item()\n",
        "\n",
        "                # Calculate accuracy\n",
        "                predictions = output_probs.argmax(dim=-1)\n",
        "                correct_predictions += ((predictions == target) * mask).sum().item()\n",
        "                total_predictions += mask.sum().item()\n",
        "\n",
        "        avg_val_loss = val_loss / len(val_loader)\n",
        "        accuracy = correct_predictions / total_predictions\n",
        "        print(f\"Validation Loss: {avg_val_loss:.4f}, Accuracy: {accuracy:.4f}\")\n",
        "\n",
        "    return model"
      ],
      "metadata": {
        "id": "ayhKYX4DK_f_"
      },
      "execution_count": 24,
      "outputs": []
    },
    {
      "cell_type": "code",
      "source": [
        "# Define loss function and optimizer\n",
        "criterion = nn.CrossEntropyLoss(ignore_index=tokenizer.PAD_token)\n",
        "optimizer = optim.Adam(model.parameters(), lr=1e-4)"
      ],
      "metadata": {
        "id": "jqO4PlSXHhrq"
      },
      "execution_count": 25,
      "outputs": []
    },
    {
      "cell_type": "code",
      "source": [
        "num_epochs = 1"
      ],
      "metadata": {
        "id": "J85wWNQkIPU4"
      },
      "execution_count": 33,
      "outputs": []
    },
    {
      "cell_type": "code",
      "source": [
        "model = train_model(model, train_loader, val_loader, criterion, optimizer, num_epochs, device)"
      ],
      "metadata": {
        "colab": {
          "base_uri": "https://localhost:8080/"
        },
        "id": "Z-HY9n7IIdyp",
        "outputId": "b7c2d2d7-fda9-4df4-f8f5-3f98ecca647b"
      },
      "execution_count": 35,
      "outputs": [
        {
          "output_type": "stream",
          "name": "stderr",
          "text": [
            "Epoch 1/1:   0%|          | 1/625 [00:07<1:23:10,  8.00s/it]"
          ]
        },
        {
          "output_type": "stream",
          "name": "stdout",
          "text": [
            "Batch 0, Loss: 0.3094\n",
            "Output probs shape: torch.Size([1568, 46])\n",
            "Target shape: torch.Size([1568])\n"
          ]
        },
        {
          "output_type": "stream",
          "name": "stderr",
          "text": [
            "Epoch 1/1:   2%|▏         | 11/625 [00:22<15:01,  1.47s/it]"
          ]
        },
        {
          "output_type": "stream",
          "name": "stdout",
          "text": [
            "Batch 10, Loss: 0.4889\n",
            "Output probs shape: torch.Size([1568, 46])\n",
            "Target shape: torch.Size([1568])\n"
          ]
        },
        {
          "output_type": "stream",
          "name": "stderr",
          "text": [
            "Epoch 1/1:   3%|▎         | 21/625 [00:40<20:23,  2.03s/it]"
          ]
        },
        {
          "output_type": "stream",
          "name": "stdout",
          "text": [
            "Batch 20, Loss: 0.4547\n",
            "Output probs shape: torch.Size([1568, 46])\n",
            "Target shape: torch.Size([1568])\n"
          ]
        },
        {
          "output_type": "stream",
          "name": "stderr",
          "text": [
            "Epoch 1/1:   5%|▍         | 31/625 [00:54<13:40,  1.38s/it]"
          ]
        },
        {
          "output_type": "stream",
          "name": "stdout",
          "text": [
            "Batch 30, Loss: 0.4979\n",
            "Output probs shape: torch.Size([1568, 46])\n",
            "Target shape: torch.Size([1568])\n"
          ]
        },
        {
          "output_type": "stream",
          "name": "stderr",
          "text": [
            "Epoch 1/1:   7%|▋         | 41/625 [01:11<14:41,  1.51s/it]"
          ]
        },
        {
          "output_type": "stream",
          "name": "stdout",
          "text": [
            "Batch 40, Loss: 0.4866\n",
            "Output probs shape: torch.Size([1568, 46])\n",
            "Target shape: torch.Size([1568])\n"
          ]
        },
        {
          "output_type": "stream",
          "name": "stderr",
          "text": [
            "Epoch 1/1:   8%|▊         | 49/625 [01:24<15:45,  1.64s/it]"
          ]
        },
        {
          "output_type": "stream",
          "name": "stdout",
          "text": [
            "Error loading data at index 12976: image file is truncated (2 bytes not processed)\n"
          ]
        },
        {
          "output_type": "stream",
          "name": "stderr",
          "text": [
            "Epoch 1/1:   8%|▊         | 51/625 [01:26<14:04,  1.47s/it]"
          ]
        },
        {
          "output_type": "stream",
          "name": "stdout",
          "text": [
            "Batch 50, Loss: 0.4699\n",
            "Output probs shape: torch.Size([1568, 46])\n",
            "Target shape: torch.Size([1568])\n"
          ]
        },
        {
          "output_type": "stream",
          "name": "stderr",
          "text": [
            "Epoch 1/1:  10%|▉         | 61/625 [01:43<14:52,  1.58s/it]"
          ]
        },
        {
          "output_type": "stream",
          "name": "stdout",
          "text": [
            "Batch 60, Loss: 0.3827\n",
            "Output probs shape: torch.Size([1568, 46])\n",
            "Target shape: torch.Size([1568])\n"
          ]
        },
        {
          "output_type": "stream",
          "name": "stderr",
          "text": [
            "Epoch 1/1:  11%|█▏        | 71/625 [01:59<19:16,  2.09s/it]"
          ]
        },
        {
          "output_type": "stream",
          "name": "stdout",
          "text": [
            "Batch 70, Loss: 0.3533\n",
            "Output probs shape: torch.Size([1568, 46])\n",
            "Target shape: torch.Size([1568])\n"
          ]
        },
        {
          "output_type": "stream",
          "name": "stderr",
          "text": [
            "Epoch 1/1:  13%|█▎        | 81/625 [02:14<13:09,  1.45s/it]"
          ]
        },
        {
          "output_type": "stream",
          "name": "stdout",
          "text": [
            "Batch 80, Loss: 0.5994\n",
            "Output probs shape: torch.Size([1568, 46])\n",
            "Target shape: torch.Size([1568])\n"
          ]
        },
        {
          "output_type": "stream",
          "name": "stderr",
          "text": [
            "Epoch 1/1:  15%|█▍        | 91/625 [02:33<13:59,  1.57s/it]"
          ]
        },
        {
          "output_type": "stream",
          "name": "stdout",
          "text": [
            "Batch 90, Loss: 0.3259\n",
            "Output probs shape: torch.Size([1568, 46])\n",
            "Target shape: torch.Size([1568])\n"
          ]
        },
        {
          "output_type": "stream",
          "name": "stderr",
          "text": [
            "Epoch 1/1:  16%|█▌        | 101/625 [02:50<13:24,  1.53s/it]"
          ]
        },
        {
          "output_type": "stream",
          "name": "stdout",
          "text": [
            "Batch 100, Loss: 0.3981\n",
            "Output probs shape: torch.Size([1568, 46])\n",
            "Target shape: torch.Size([1568])\n"
          ]
        },
        {
          "output_type": "stream",
          "name": "stderr",
          "text": [
            "Epoch 1/1:  18%|█▊        | 111/625 [03:08<17:38,  2.06s/it]"
          ]
        },
        {
          "output_type": "stream",
          "name": "stdout",
          "text": [
            "Batch 110, Loss: 0.2854\n",
            "Output probs shape: torch.Size([1568, 46])\n",
            "Target shape: torch.Size([1568])\n"
          ]
        },
        {
          "output_type": "stream",
          "name": "stderr",
          "text": [
            "Epoch 1/1:  19%|█▉        | 121/625 [03:21<11:28,  1.37s/it]"
          ]
        },
        {
          "output_type": "stream",
          "name": "stdout",
          "text": [
            "Batch 120, Loss: 0.4503\n",
            "Output probs shape: torch.Size([1568, 46])\n",
            "Target shape: torch.Size([1568])\n"
          ]
        },
        {
          "output_type": "stream",
          "name": "stderr",
          "text": [
            "Epoch 1/1:  21%|██        | 131/625 [03:40<13:00,  1.58s/it]"
          ]
        },
        {
          "output_type": "stream",
          "name": "stdout",
          "text": [
            "Batch 130, Loss: 0.4058\n",
            "Output probs shape: torch.Size([1568, 46])\n",
            "Target shape: torch.Size([1568])\n"
          ]
        },
        {
          "output_type": "stream",
          "name": "stderr",
          "text": [
            "Epoch 1/1:  23%|██▎       | 141/625 [03:56<12:34,  1.56s/it]"
          ]
        },
        {
          "output_type": "stream",
          "name": "stdout",
          "text": [
            "Batch 140, Loss: 0.5302\n",
            "Output probs shape: torch.Size([1568, 46])\n",
            "Target shape: torch.Size([1568])\n"
          ]
        },
        {
          "output_type": "stream",
          "name": "stderr",
          "text": [
            "Epoch 1/1:  24%|██▍       | 151/625 [04:11<14:08,  1.79s/it]"
          ]
        },
        {
          "output_type": "stream",
          "name": "stdout",
          "text": [
            "Batch 150, Loss: 0.6492\n",
            "Output probs shape: torch.Size([1568, 46])\n",
            "Target shape: torch.Size([1568])\n"
          ]
        },
        {
          "output_type": "stream",
          "name": "stderr",
          "text": [
            "Epoch 1/1:  26%|██▌       | 160/625 [04:24<10:45,  1.39s/it]"
          ]
        },
        {
          "output_type": "stream",
          "name": "stdout",
          "text": [
            "Error loading data at index 4498: 400 Client Error: Bad Request for url: https://m.media-amazon.com/images/I/1yw53vfQtS.jpg\n"
          ]
        },
        {
          "output_type": "stream",
          "name": "stderr",
          "text": [
            "\rEpoch 1/1:  26%|██▌       | 161/625 [04:25<10:36,  1.37s/it]"
          ]
        },
        {
          "output_type": "stream",
          "name": "stdout",
          "text": [
            "Batch 160, Loss: 0.4478\n",
            "Output probs shape: torch.Size([1568, 46])\n",
            "Target shape: torch.Size([1568])\n"
          ]
        },
        {
          "output_type": "stream",
          "name": "stderr",
          "text": [
            "Epoch 1/1:  27%|██▋       | 171/625 [04:44<12:35,  1.66s/it]"
          ]
        },
        {
          "output_type": "stream",
          "name": "stdout",
          "text": [
            "Batch 170, Loss: 0.5048\n",
            "Output probs shape: torch.Size([1568, 46])\n",
            "Target shape: torch.Size([1568])\n"
          ]
        },
        {
          "output_type": "stream",
          "name": "stderr",
          "text": [
            "Epoch 1/1:  29%|██▉       | 181/625 [05:01<12:26,  1.68s/it]"
          ]
        },
        {
          "output_type": "stream",
          "name": "stdout",
          "text": [
            "Batch 180, Loss: 0.4147\n",
            "Output probs shape: torch.Size([1568, 46])\n",
            "Target shape: torch.Size([1568])\n"
          ]
        },
        {
          "output_type": "stream",
          "name": "stderr",
          "text": [
            "Epoch 1/1:  31%|███       | 191/625 [05:16<14:12,  1.97s/it]"
          ]
        },
        {
          "output_type": "stream",
          "name": "stdout",
          "text": [
            "Batch 190, Loss: 0.4275\n",
            "Output probs shape: torch.Size([1568, 46])\n",
            "Target shape: torch.Size([1568])\n"
          ]
        },
        {
          "output_type": "stream",
          "name": "stderr",
          "text": [
            "Epoch 1/1:  32%|███▏      | 201/625 [05:32<10:03,  1.42s/it]"
          ]
        },
        {
          "output_type": "stream",
          "name": "stdout",
          "text": [
            "Batch 200, Loss: 0.4193\n",
            "Output probs shape: torch.Size([1568, 46])\n",
            "Target shape: torch.Size([1568])\n"
          ]
        },
        {
          "output_type": "stream",
          "name": "stderr",
          "text": [
            "Epoch 1/1:  34%|███▍      | 211/625 [05:49<12:50,  1.86s/it]"
          ]
        },
        {
          "output_type": "stream",
          "name": "stdout",
          "text": [
            "Batch 210, Loss: 0.3050\n",
            "Output probs shape: torch.Size([1568, 46])\n",
            "Target shape: torch.Size([1568])\n"
          ]
        },
        {
          "output_type": "stream",
          "name": "stderr",
          "text": [
            "Epoch 1/1:  35%|███▌      | 221/625 [06:04<10:47,  1.60s/it]"
          ]
        },
        {
          "output_type": "stream",
          "name": "stdout",
          "text": [
            "Batch 220, Loss: 0.4817\n",
            "Output probs shape: torch.Size([1568, 46])\n",
            "Target shape: torch.Size([1568])\n"
          ]
        },
        {
          "output_type": "stream",
          "name": "stderr",
          "text": [
            "Epoch 1/1:  37%|███▋      | 231/625 [06:21<10:33,  1.61s/it]"
          ]
        },
        {
          "output_type": "stream",
          "name": "stdout",
          "text": [
            "Batch 230, Loss: 0.4991\n",
            "Output probs shape: torch.Size([1568, 46])\n",
            "Target shape: torch.Size([1568])\n"
          ]
        },
        {
          "output_type": "stream",
          "name": "stderr",
          "text": [
            "Epoch 1/1:  39%|███▊      | 241/625 [06:38<09:34,  1.50s/it]"
          ]
        },
        {
          "output_type": "stream",
          "name": "stdout",
          "text": [
            "Batch 240, Loss: 0.4649\n",
            "Output probs shape: torch.Size([1568, 46])\n",
            "Target shape: torch.Size([1568])\n"
          ]
        },
        {
          "output_type": "stream",
          "name": "stderr",
          "text": [
            "Epoch 1/1:  40%|████      | 251/625 [06:56<12:47,  2.05s/it]"
          ]
        },
        {
          "output_type": "stream",
          "name": "stdout",
          "text": [
            "Batch 250, Loss: 0.3987\n",
            "Output probs shape: torch.Size([1568, 46])\n",
            "Target shape: torch.Size([1568])\n"
          ]
        },
        {
          "output_type": "stream",
          "name": "stderr",
          "text": [
            "Epoch 1/1:  40%|████      | 253/625 [06:59<10:27,  1.69s/it]"
          ]
        },
        {
          "output_type": "stream",
          "name": "stdout",
          "text": [
            "Error loading data at index 11406: 404 Client Error: Not Found for url: https://m.media-amazon.com/images/I/lwd2cSmT2ux.jpg\n"
          ]
        },
        {
          "output_type": "stream",
          "name": "stderr",
          "text": [
            "Epoch 1/1:  42%|████▏     | 261/625 [07:13<09:41,  1.60s/it]"
          ]
        },
        {
          "output_type": "stream",
          "name": "stdout",
          "text": [
            "Batch 260, Loss: 0.4035\n",
            "Output probs shape: torch.Size([1568, 46])\n",
            "Target shape: torch.Size([1568])\n"
          ]
        },
        {
          "output_type": "stream",
          "name": "stderr",
          "text": [
            "Epoch 1/1:  43%|████▎     | 271/625 [07:29<08:20,  1.41s/it]"
          ]
        },
        {
          "output_type": "stream",
          "name": "stdout",
          "text": [
            "Batch 270, Loss: 0.4025\n",
            "Output probs shape: torch.Size([1568, 46])\n",
            "Target shape: torch.Size([1568])\n"
          ]
        },
        {
          "output_type": "stream",
          "name": "stderr",
          "text": [
            "Epoch 1/1:  45%|████▍     | 281/625 [07:46<09:11,  1.60s/it]"
          ]
        },
        {
          "output_type": "stream",
          "name": "stdout",
          "text": [
            "Batch 280, Loss: 0.3713\n",
            "Output probs shape: torch.Size([1568, 46])\n",
            "Target shape: torch.Size([1568])\n"
          ]
        },
        {
          "output_type": "stream",
          "name": "stderr",
          "text": [
            "Epoch 1/1:  47%|████▋     | 291/625 [08:02<10:11,  1.83s/it]"
          ]
        },
        {
          "output_type": "stream",
          "name": "stdout",
          "text": [
            "Batch 290, Loss: 0.4658\n",
            "Output probs shape: torch.Size([1568, 46])\n",
            "Target shape: torch.Size([1568])\n"
          ]
        },
        {
          "output_type": "stream",
          "name": "stderr",
          "text": [
            "Epoch 1/1:  48%|████▊     | 301/625 [08:17<07:28,  1.38s/it]"
          ]
        },
        {
          "output_type": "stream",
          "name": "stdout",
          "text": [
            "Batch 300, Loss: 0.4555\n",
            "Output probs shape: torch.Size([1568, 46])\n",
            "Target shape: torch.Size([1568])\n"
          ]
        },
        {
          "output_type": "stream",
          "name": "stderr",
          "text": [
            "Epoch 1/1:  50%|████▉     | 311/625 [08:34<08:34,  1.64s/it]"
          ]
        },
        {
          "output_type": "stream",
          "name": "stdout",
          "text": [
            "Batch 310, Loss: 0.3623\n",
            "Output probs shape: torch.Size([1568, 46])\n",
            "Target shape: torch.Size([1568])\n"
          ]
        },
        {
          "output_type": "stream",
          "name": "stderr",
          "text": [
            "Epoch 1/1:  51%|█████▏    | 321/625 [08:50<07:56,  1.57s/it]"
          ]
        },
        {
          "output_type": "stream",
          "name": "stdout",
          "text": [
            "Batch 320, Loss: 0.4319\n",
            "Output probs shape: torch.Size([1568, 46])\n",
            "Target shape: torch.Size([1568])\n"
          ]
        },
        {
          "output_type": "stream",
          "name": "stderr",
          "text": [
            "Epoch 1/1:  53%|█████▎    | 331/625 [09:07<09:37,  1.97s/it]"
          ]
        },
        {
          "output_type": "stream",
          "name": "stdout",
          "text": [
            "Batch 330, Loss: 0.4243\n",
            "Output probs shape: torch.Size([1568, 46])\n",
            "Target shape: torch.Size([1568])\n"
          ]
        },
        {
          "output_type": "stream",
          "name": "stderr",
          "text": [
            "Epoch 1/1:  55%|█████▍    | 341/625 [09:21<06:29,  1.37s/it]"
          ]
        },
        {
          "output_type": "stream",
          "name": "stdout",
          "text": [
            "Batch 340, Loss: 0.3742\n",
            "Output probs shape: torch.Size([1568, 46])\n",
            "Target shape: torch.Size([1568])\n"
          ]
        },
        {
          "output_type": "stream",
          "name": "stderr",
          "text": [
            "Epoch 1/1:  56%|█████▌    | 351/625 [09:40<08:44,  1.91s/it]"
          ]
        },
        {
          "output_type": "stream",
          "name": "stdout",
          "text": [
            "Batch 350, Loss: 0.4082\n",
            "Output probs shape: torch.Size([1568, 46])\n",
            "Target shape: torch.Size([1568])\n"
          ]
        },
        {
          "output_type": "stream",
          "name": "stderr",
          "text": [
            "Epoch 1/1:  57%|█████▋    | 354/625 [09:47<11:02,  2.44s/it]"
          ]
        },
        {
          "output_type": "stream",
          "name": "stdout",
          "text": [
            "Error loading data at index 16690: 400 Client Error: Bad Request for url: https://m.media-amazon.com/images/I/DzP2RMRQO0.jpg\n"
          ]
        },
        {
          "output_type": "stream",
          "name": "stderr",
          "text": [
            "Epoch 1/1:  58%|█████▊    | 361/625 [09:59<07:49,  1.78s/it]"
          ]
        },
        {
          "output_type": "stream",
          "name": "stdout",
          "text": [
            "Batch 360, Loss: 0.3930\n",
            "Output probs shape: torch.Size([1568, 46])\n",
            "Target shape: torch.Size([1568])\n"
          ]
        },
        {
          "output_type": "stream",
          "name": "stderr",
          "text": [
            "Epoch 1/1:  59%|█████▉    | 371/625 [10:14<06:23,  1.51s/it]"
          ]
        },
        {
          "output_type": "stream",
          "name": "stdout",
          "text": [
            "Batch 370, Loss: 0.3597\n",
            "Output probs shape: torch.Size([1568, 46])\n",
            "Target shape: torch.Size([1568])\n"
          ]
        },
        {
          "output_type": "stream",
          "name": "stderr",
          "text": [
            "Epoch 1/1:  61%|██████    | 381/625 [10:27<05:29,  1.35s/it]"
          ]
        },
        {
          "output_type": "stream",
          "name": "stdout",
          "text": [
            "Batch 380, Loss: 0.3825\n",
            "Output probs shape: torch.Size([1568, 46])\n",
            "Target shape: torch.Size([1568])\n"
          ]
        },
        {
          "output_type": "stream",
          "name": "stderr",
          "text": [
            "Epoch 1/1:  63%|██████▎   | 391/625 [10:44<05:31,  1.41s/it]"
          ]
        },
        {
          "output_type": "stream",
          "name": "stdout",
          "text": [
            "Batch 390, Loss: 0.8249\n",
            "Output probs shape: torch.Size([1568, 46])\n",
            "Target shape: torch.Size([1568])\n"
          ]
        },
        {
          "output_type": "stream",
          "name": "stderr",
          "text": [
            "Epoch 1/1:  64%|██████▍   | 401/625 [11:00<05:47,  1.55s/it]"
          ]
        },
        {
          "output_type": "stream",
          "name": "stdout",
          "text": [
            "Batch 400, Loss: 0.2486\n",
            "Output probs shape: torch.Size([1568, 46])\n",
            "Target shape: torch.Size([1568])\n"
          ]
        },
        {
          "output_type": "stream",
          "name": "stderr",
          "text": [
            "Epoch 1/1:  66%|██████▌   | 411/625 [11:17<06:38,  1.86s/it]"
          ]
        },
        {
          "output_type": "stream",
          "name": "stdout",
          "text": [
            "Batch 410, Loss: 0.3463\n",
            "Output probs shape: torch.Size([1568, 46])\n",
            "Target shape: torch.Size([1568])\n"
          ]
        },
        {
          "output_type": "stream",
          "name": "stderr",
          "text": [
            "Epoch 1/1:  67%|██████▋   | 421/625 [11:31<04:38,  1.37s/it]"
          ]
        },
        {
          "output_type": "stream",
          "name": "stdout",
          "text": [
            "Batch 420, Loss: 0.5105\n",
            "Output probs shape: torch.Size([1568, 46])\n",
            "Target shape: torch.Size([1568])\n"
          ]
        },
        {
          "output_type": "stream",
          "name": "stderr",
          "text": [
            "Epoch 1/1:  69%|██████▉   | 431/625 [11:47<04:28,  1.39s/it]"
          ]
        },
        {
          "output_type": "stream",
          "name": "stdout",
          "text": [
            "Batch 430, Loss: 0.3981\n",
            "Output probs shape: torch.Size([1568, 46])\n",
            "Target shape: torch.Size([1568])\n"
          ]
        },
        {
          "output_type": "stream",
          "name": "stderr",
          "text": [
            "Epoch 1/1:  71%|███████   | 441/625 [12:03<04:28,  1.46s/it]"
          ]
        },
        {
          "output_type": "stream",
          "name": "stdout",
          "text": [
            "Batch 440, Loss: 0.4844\n",
            "Output probs shape: torch.Size([1568, 46])\n",
            "Target shape: torch.Size([1568])\n"
          ]
        },
        {
          "output_type": "stream",
          "name": "stderr",
          "text": [
            "Epoch 1/1:  72%|███████▏  | 451/625 [12:20<05:08,  1.77s/it]"
          ]
        },
        {
          "output_type": "stream",
          "name": "stdout",
          "text": [
            "Batch 450, Loss: 0.6036\n",
            "Output probs shape: torch.Size([1568, 46])\n",
            "Target shape: torch.Size([1568])\n"
          ]
        },
        {
          "output_type": "stream",
          "name": "stderr",
          "text": [
            "Epoch 1/1:  74%|███████▍  | 461/625 [12:37<04:40,  1.71s/it]"
          ]
        },
        {
          "output_type": "stream",
          "name": "stdout",
          "text": [
            "Batch 460, Loss: 0.3579\n",
            "Output probs shape: torch.Size([1568, 46])\n",
            "Target shape: torch.Size([1568])\n"
          ]
        },
        {
          "output_type": "stream",
          "name": "stderr",
          "text": [
            "Epoch 1/1:  75%|███████▌  | 471/625 [12:54<04:37,  1.80s/it]"
          ]
        },
        {
          "output_type": "stream",
          "name": "stdout",
          "text": [
            "Batch 470, Loss: 0.2642\n",
            "Output probs shape: torch.Size([1568, 46])\n",
            "Target shape: torch.Size([1568])\n"
          ]
        },
        {
          "output_type": "stream",
          "name": "stderr",
          "text": [
            "Epoch 1/1:  77%|███████▋  | 481/625 [13:08<03:17,  1.37s/it]"
          ]
        },
        {
          "output_type": "stream",
          "name": "stdout",
          "text": [
            "Batch 480, Loss: 0.4186\n",
            "Output probs shape: torch.Size([1568, 46])\n",
            "Target shape: torch.Size([1568])\n"
          ]
        },
        {
          "output_type": "stream",
          "name": "stderr",
          "text": [
            "Epoch 1/1:  79%|███████▊  | 491/625 [13:24<03:28,  1.56s/it]"
          ]
        },
        {
          "output_type": "stream",
          "name": "stdout",
          "text": [
            "Batch 490, Loss: 0.5722\n",
            "Output probs shape: torch.Size([1568, 46])\n",
            "Target shape: torch.Size([1568])\n"
          ]
        },
        {
          "output_type": "stream",
          "name": "stderr",
          "text": [
            "Epoch 1/1:  80%|████████  | 501/625 [13:39<02:51,  1.38s/it]"
          ]
        },
        {
          "output_type": "stream",
          "name": "stdout",
          "text": [
            "Batch 500, Loss: 0.4940\n",
            "Output probs shape: torch.Size([1568, 46])\n",
            "Target shape: torch.Size([1568])\n"
          ]
        },
        {
          "output_type": "stream",
          "name": "stderr",
          "text": [
            "Epoch 1/1:  82%|████████▏ | 511/625 [13:55<03:05,  1.63s/it]"
          ]
        },
        {
          "output_type": "stream",
          "name": "stdout",
          "text": [
            "Batch 510, Loss: 0.3906\n",
            "Output probs shape: torch.Size([1568, 46])\n",
            "Target shape: torch.Size([1568])\n"
          ]
        },
        {
          "output_type": "stream",
          "name": "stderr",
          "text": [
            "Epoch 1/1:  83%|████████▎ | 521/625 [14:11<02:45,  1.59s/it]"
          ]
        },
        {
          "output_type": "stream",
          "name": "stdout",
          "text": [
            "Batch 520, Loss: 0.3896\n",
            "Output probs shape: torch.Size([1568, 46])\n",
            "Target shape: torch.Size([1568])\n"
          ]
        },
        {
          "output_type": "stream",
          "name": "stderr",
          "text": [
            "Epoch 1/1:  85%|████████▍ | 531/625 [14:26<02:08,  1.36s/it]"
          ]
        },
        {
          "output_type": "stream",
          "name": "stdout",
          "text": [
            "Batch 530, Loss: 0.3744\n",
            "Output probs shape: torch.Size([1568, 46])\n",
            "Target shape: torch.Size([1568])\n"
          ]
        },
        {
          "output_type": "stream",
          "name": "stderr",
          "text": [
            "Epoch 1/1:  87%|████████▋ | 541/625 [14:40<01:54,  1.36s/it]"
          ]
        },
        {
          "output_type": "stream",
          "name": "stdout",
          "text": [
            "Batch 540, Loss: 0.3288\n",
            "Output probs shape: torch.Size([1568, 46])\n",
            "Target shape: torch.Size([1568])\n"
          ]
        },
        {
          "output_type": "stream",
          "name": "stderr",
          "text": [
            "Epoch 1/1:  88%|████████▊ | 551/625 [14:56<01:44,  1.42s/it]"
          ]
        },
        {
          "output_type": "stream",
          "name": "stdout",
          "text": [
            "Batch 550, Loss: 0.3367\n",
            "Output probs shape: torch.Size([1568, 46])\n",
            "Target shape: torch.Size([1568])\n"
          ]
        },
        {
          "output_type": "stream",
          "name": "stderr",
          "text": [
            "Epoch 1/1:  90%|████████▉ | 561/625 [15:10<01:32,  1.44s/it]"
          ]
        },
        {
          "output_type": "stream",
          "name": "stdout",
          "text": [
            "Batch 560, Loss: 0.4057\n",
            "Output probs shape: torch.Size([1568, 46])\n",
            "Target shape: torch.Size([1568])\n"
          ]
        },
        {
          "output_type": "stream",
          "name": "stderr",
          "text": [
            "Epoch 1/1:  91%|█████████▏| 571/625 [15:28<01:58,  2.19s/it]"
          ]
        },
        {
          "output_type": "stream",
          "name": "stdout",
          "text": [
            "Batch 570, Loss: 0.5691\n",
            "Output probs shape: torch.Size([1568, 46])\n",
            "Target shape: torch.Size([1568])\n"
          ]
        },
        {
          "output_type": "stream",
          "name": "stderr",
          "text": [
            "Epoch 1/1:  93%|█████████▎| 581/625 [15:44<01:07,  1.53s/it]"
          ]
        },
        {
          "output_type": "stream",
          "name": "stdout",
          "text": [
            "Batch 580, Loss: 0.4580\n",
            "Output probs shape: torch.Size([1568, 46])\n",
            "Target shape: torch.Size([1568])\n"
          ]
        },
        {
          "output_type": "stream",
          "name": "stderr",
          "text": [
            "Epoch 1/1:  95%|█████████▍| 591/625 [16:01<00:56,  1.65s/it]"
          ]
        },
        {
          "output_type": "stream",
          "name": "stdout",
          "text": [
            "Batch 590, Loss: 0.4585\n",
            "Output probs shape: torch.Size([1568, 46])\n",
            "Target shape: torch.Size([1568])\n"
          ]
        },
        {
          "output_type": "stream",
          "name": "stderr",
          "text": [
            "Epoch 1/1:  96%|█████████▌| 601/625 [16:15<00:33,  1.38s/it]"
          ]
        },
        {
          "output_type": "stream",
          "name": "stdout",
          "text": [
            "Batch 600, Loss: 0.4244\n",
            "Output probs shape: torch.Size([1568, 46])\n",
            "Target shape: torch.Size([1568])\n"
          ]
        },
        {
          "output_type": "stream",
          "name": "stderr",
          "text": [
            "Epoch 1/1:  98%|█████████▊| 611/625 [16:31<00:19,  1.41s/it]"
          ]
        },
        {
          "output_type": "stream",
          "name": "stdout",
          "text": [
            "Batch 610, Loss: 0.4162\n",
            "Output probs shape: torch.Size([1568, 46])\n",
            "Target shape: torch.Size([1568])\n"
          ]
        },
        {
          "output_type": "stream",
          "name": "stderr",
          "text": [
            "Epoch 1/1:  99%|█████████▉| 621/625 [16:48<00:06,  1.65s/it]"
          ]
        },
        {
          "output_type": "stream",
          "name": "stdout",
          "text": [
            "Batch 620, Loss: 0.3912\n",
            "Output probs shape: torch.Size([1568, 46])\n",
            "Target shape: torch.Size([1568])\n"
          ]
        },
        {
          "output_type": "stream",
          "name": "stderr",
          "text": [
            "Epoch 1/1: 100%|██████████| 625/625 [16:53<00:00,  1.62s/it]\n"
          ]
        },
        {
          "output_type": "stream",
          "name": "stdout",
          "text": [
            "Epoch 1/1, Average Loss: 0.4290\n"
          ]
        },
        {
          "output_type": "stream",
          "name": "stderr",
          "text": [
            "\rValidation:   0%|          | 0/157 [00:00<?, ?it/s]"
          ]
        },
        {
          "output_type": "stream",
          "name": "stdout",
          "text": [
            "Validation batch shapes:\n",
            "img: torch.Size([32, 3, 224, 224])\n",
            "entity_name: torch.Size([32])\n",
            "group_id: torch.Size([32])\n",
            "target: torch.Size([32, 50])\n"
          ]
        },
        {
          "output_type": "stream",
          "name": "stderr",
          "text": [
            "\rValidation:   1%|          | 1/157 [00:09<23:50,  9.17s/it]"
          ]
        },
        {
          "output_type": "stream",
          "name": "stdout",
          "text": [
            "output_probs: torch.Size([32, 50, 46])\n",
            "Reshaped output_probs: torch.Size([1600, 46])\n",
            "Reshaped target: torch.Size([1600])\n",
            "Validation batch shapes:\n",
            "img: torch.Size([32, 3, 224, 224])\n",
            "entity_name: torch.Size([32])\n",
            "group_id: torch.Size([32])\n",
            "target: torch.Size([32, 50])\n"
          ]
        },
        {
          "output_type": "stream",
          "name": "stderr",
          "text": [
            "\rValidation:   1%|▏         | 2/157 [00:10<12:30,  4.84s/it]"
          ]
        },
        {
          "output_type": "stream",
          "name": "stdout",
          "text": [
            "output_probs: torch.Size([32, 50, 46])\n",
            "Reshaped output_probs: torch.Size([1600, 46])\n",
            "Reshaped target: torch.Size([1600])\n",
            "Validation batch shapes:\n",
            "img: torch.Size([32, 3, 224, 224])\n",
            "entity_name: torch.Size([32])\n",
            "group_id: torch.Size([32])\n",
            "target: torch.Size([32, 50])\n"
          ]
        },
        {
          "output_type": "stream",
          "name": "stderr",
          "text": [
            "\rValidation:   2%|▏         | 3/157 [00:12<08:54,  3.47s/it]"
          ]
        },
        {
          "output_type": "stream",
          "name": "stdout",
          "text": [
            "output_probs: torch.Size([32, 50, 46])\n",
            "Reshaped output_probs: torch.Size([1600, 46])\n",
            "Reshaped target: torch.Size([1600])\n",
            "Validation batch shapes:\n",
            "img: torch.Size([32, 3, 224, 224])\n",
            "entity_name: torch.Size([32])\n",
            "group_id: torch.Size([32])\n",
            "target: torch.Size([32, 50])\n"
          ]
        },
        {
          "output_type": "stream",
          "name": "stderr",
          "text": [
            "\rValidation:   3%|▎         | 4/157 [00:14<06:39,  2.61s/it]"
          ]
        },
        {
          "output_type": "stream",
          "name": "stdout",
          "text": [
            "output_probs: torch.Size([32, 50, 46])\n",
            "Reshaped output_probs: torch.Size([1600, 46])\n",
            "Reshaped target: torch.Size([1600])\n",
            "Validation batch shapes:\n",
            "img: torch.Size([32, 3, 224, 224])\n",
            "entity_name: torch.Size([32])\n",
            "group_id: torch.Size([32])\n",
            "target: torch.Size([32, 50])\n"
          ]
        },
        {
          "output_type": "stream",
          "name": "stderr",
          "text": [
            "\rValidation:   3%|▎         | 5/157 [00:15<05:16,  2.08s/it]"
          ]
        },
        {
          "output_type": "stream",
          "name": "stdout",
          "text": [
            "output_probs: torch.Size([32, 50, 46])\n",
            "Reshaped output_probs: torch.Size([1600, 46])\n",
            "Reshaped target: torch.Size([1600])\n",
            "Validation batch shapes:\n",
            "img: torch.Size([32, 3, 224, 224])\n",
            "entity_name: torch.Size([32])\n",
            "group_id: torch.Size([32])\n",
            "target: torch.Size([32, 50])\n"
          ]
        },
        {
          "output_type": "stream",
          "name": "stderr",
          "text": [
            "\rValidation:   4%|▍         | 6/157 [00:16<04:34,  1.82s/it]"
          ]
        },
        {
          "output_type": "stream",
          "name": "stdout",
          "text": [
            "output_probs: torch.Size([32, 50, 46])\n",
            "Reshaped output_probs: torch.Size([1600, 46])\n",
            "Reshaped target: torch.Size([1600])\n",
            "Validation batch shapes:\n",
            "img: torch.Size([32, 3, 224, 224])\n",
            "entity_name: torch.Size([32])\n",
            "group_id: torch.Size([32])\n",
            "target: torch.Size([32, 50])\n"
          ]
        },
        {
          "output_type": "stream",
          "name": "stderr",
          "text": [
            "\rValidation:   4%|▍         | 7/157 [00:17<04:08,  1.66s/it]"
          ]
        },
        {
          "output_type": "stream",
          "name": "stdout",
          "text": [
            "output_probs: torch.Size([32, 50, 46])\n",
            "Reshaped output_probs: torch.Size([1600, 46])\n",
            "Reshaped target: torch.Size([1600])\n",
            "Validation batch shapes:\n",
            "img: torch.Size([32, 3, 224, 224])\n",
            "entity_name: torch.Size([32])\n",
            "group_id: torch.Size([32])\n",
            "target: torch.Size([32, 50])\n"
          ]
        },
        {
          "output_type": "stream",
          "name": "stderr",
          "text": [
            "\rValidation:   5%|▌         | 8/157 [00:19<03:42,  1.50s/it]"
          ]
        },
        {
          "output_type": "stream",
          "name": "stdout",
          "text": [
            "output_probs: torch.Size([32, 50, 46])\n",
            "Reshaped output_probs: torch.Size([1600, 46])\n",
            "Reshaped target: torch.Size([1600])\n",
            "Validation batch shapes:\n",
            "img: torch.Size([32, 3, 224, 224])\n",
            "entity_name: torch.Size([32])\n",
            "group_id: torch.Size([32])\n",
            "target: torch.Size([32, 50])\n"
          ]
        },
        {
          "output_type": "stream",
          "name": "stderr",
          "text": [
            "\rValidation:   6%|▌         | 9/157 [00:21<04:04,  1.65s/it]"
          ]
        },
        {
          "output_type": "stream",
          "name": "stdout",
          "text": [
            "output_probs: torch.Size([32, 50, 46])\n",
            "Reshaped output_probs: torch.Size([1600, 46])\n",
            "Reshaped target: torch.Size([1600])\n",
            "Validation batch shapes:\n",
            "img: torch.Size([32, 3, 224, 224])\n",
            "entity_name: torch.Size([32])\n",
            "group_id: torch.Size([32])\n",
            "target: torch.Size([32, 50])\n"
          ]
        },
        {
          "output_type": "stream",
          "name": "stderr",
          "text": [
            "\rValidation:   6%|▋         | 10/157 [00:22<03:46,  1.54s/it]"
          ]
        },
        {
          "output_type": "stream",
          "name": "stdout",
          "text": [
            "output_probs: torch.Size([32, 50, 46])\n",
            "Reshaped output_probs: torch.Size([1600, 46])\n",
            "Reshaped target: torch.Size([1600])\n",
            "Validation batch shapes:\n",
            "img: torch.Size([32, 3, 224, 224])\n",
            "entity_name: torch.Size([32])\n",
            "group_id: torch.Size([32])\n",
            "target: torch.Size([32, 50])\n"
          ]
        },
        {
          "output_type": "stream",
          "name": "stderr",
          "text": [
            "\rValidation:   7%|▋         | 11/157 [00:24<04:03,  1.67s/it]"
          ]
        },
        {
          "output_type": "stream",
          "name": "stdout",
          "text": [
            "output_probs: torch.Size([32, 50, 46])\n",
            "Reshaped output_probs: torch.Size([1600, 46])\n",
            "Reshaped target: torch.Size([1600])\n",
            "Validation batch shapes:\n",
            "img: torch.Size([32, 3, 224, 224])\n",
            "entity_name: torch.Size([32])\n",
            "group_id: torch.Size([32])\n",
            "target: torch.Size([32, 50])\n"
          ]
        },
        {
          "output_type": "stream",
          "name": "stderr",
          "text": [
            "\rValidation:   8%|▊         | 12/157 [00:26<04:23,  1.82s/it]"
          ]
        },
        {
          "output_type": "stream",
          "name": "stdout",
          "text": [
            "output_probs: torch.Size([32, 50, 46])\n",
            "Reshaped output_probs: torch.Size([1600, 46])\n",
            "Reshaped target: torch.Size([1600])\n",
            "Validation batch shapes:\n",
            "img: torch.Size([32, 3, 224, 224])\n",
            "entity_name: torch.Size([32])\n",
            "group_id: torch.Size([32])\n",
            "target: torch.Size([32, 50])\n"
          ]
        },
        {
          "output_type": "stream",
          "name": "stderr",
          "text": [
            "\rValidation:   8%|▊         | 13/157 [00:28<04:43,  1.97s/it]"
          ]
        },
        {
          "output_type": "stream",
          "name": "stdout",
          "text": [
            "output_probs: torch.Size([32, 50, 46])\n",
            "Reshaped output_probs: torch.Size([1600, 46])\n",
            "Reshaped target: torch.Size([1600])\n",
            "Validation batch shapes:\n",
            "img: torch.Size([32, 3, 224, 224])\n",
            "entity_name: torch.Size([32])\n",
            "group_id: torch.Size([32])\n",
            "target: torch.Size([32, 50])\n"
          ]
        },
        {
          "output_type": "stream",
          "name": "stderr",
          "text": [
            "\rValidation:   9%|▉         | 14/157 [00:30<04:45,  1.99s/it]"
          ]
        },
        {
          "output_type": "stream",
          "name": "stdout",
          "text": [
            "output_probs: torch.Size([32, 50, 46])\n",
            "Reshaped output_probs: torch.Size([1600, 46])\n",
            "Reshaped target: torch.Size([1600])\n",
            "Validation batch shapes:\n",
            "img: torch.Size([32, 3, 224, 224])\n",
            "entity_name: torch.Size([32])\n",
            "group_id: torch.Size([32])\n",
            "target: torch.Size([32, 50])\n"
          ]
        },
        {
          "output_type": "stream",
          "name": "stderr",
          "text": [
            "\rValidation:  10%|▉         | 15/157 [00:32<04:43,  1.99s/it]"
          ]
        },
        {
          "output_type": "stream",
          "name": "stdout",
          "text": [
            "output_probs: torch.Size([32, 50, 46])\n",
            "Reshaped output_probs: torch.Size([1600, 46])\n",
            "Reshaped target: torch.Size([1600])\n",
            "Validation batch shapes:\n",
            "img: torch.Size([32, 3, 224, 224])\n",
            "entity_name: torch.Size([32])\n",
            "group_id: torch.Size([32])\n",
            "target: torch.Size([32, 50])\n"
          ]
        },
        {
          "output_type": "stream",
          "name": "stderr",
          "text": [
            "\rValidation:  10%|█         | 16/157 [00:34<04:36,  1.96s/it]"
          ]
        },
        {
          "output_type": "stream",
          "name": "stdout",
          "text": [
            "output_probs: torch.Size([32, 50, 46])\n",
            "Reshaped output_probs: torch.Size([1600, 46])\n",
            "Reshaped target: torch.Size([1600])\n",
            "Validation batch shapes:\n",
            "img: torch.Size([32, 3, 224, 224])\n",
            "entity_name: torch.Size([32])\n",
            "group_id: torch.Size([32])\n",
            "target: torch.Size([32, 50])\n"
          ]
        },
        {
          "output_type": "stream",
          "name": "stderr",
          "text": [
            "\rValidation:  11%|█         | 17/157 [00:35<04:04,  1.74s/it]"
          ]
        },
        {
          "output_type": "stream",
          "name": "stdout",
          "text": [
            "output_probs: torch.Size([32, 50, 46])\n",
            "Reshaped output_probs: torch.Size([1600, 46])\n",
            "Reshaped target: torch.Size([1600])\n",
            "Validation batch shapes:\n",
            "img: torch.Size([32, 3, 224, 224])\n",
            "entity_name: torch.Size([32])\n",
            "group_id: torch.Size([32])\n",
            "target: torch.Size([32, 50])\n"
          ]
        },
        {
          "output_type": "stream",
          "name": "stderr",
          "text": [
            "\rValidation:  11%|█▏        | 18/157 [00:37<03:38,  1.57s/it]"
          ]
        },
        {
          "output_type": "stream",
          "name": "stdout",
          "text": [
            "output_probs: torch.Size([32, 50, 46])\n",
            "Reshaped output_probs: torch.Size([1600, 46])\n",
            "Reshaped target: torch.Size([1600])\n",
            "Validation batch shapes:\n",
            "img: torch.Size([32, 3, 224, 224])\n",
            "entity_name: torch.Size([32])\n",
            "group_id: torch.Size([32])\n",
            "target: torch.Size([32, 50])\n"
          ]
        },
        {
          "output_type": "stream",
          "name": "stderr",
          "text": [
            "\rValidation:  12%|█▏        | 19/157 [00:38<03:17,  1.43s/it]"
          ]
        },
        {
          "output_type": "stream",
          "name": "stdout",
          "text": [
            "output_probs: torch.Size([32, 50, 46])\n",
            "Reshaped output_probs: torch.Size([1600, 46])\n",
            "Reshaped target: torch.Size([1600])\n",
            "Validation batch shapes:\n",
            "img: torch.Size([32, 3, 224, 224])\n",
            "entity_name: torch.Size([32])\n",
            "group_id: torch.Size([32])\n",
            "target: torch.Size([32, 50])\n"
          ]
        },
        {
          "output_type": "stream",
          "name": "stderr",
          "text": [
            "\rValidation:  13%|█▎        | 20/157 [00:39<03:08,  1.38s/it]"
          ]
        },
        {
          "output_type": "stream",
          "name": "stdout",
          "text": [
            "output_probs: torch.Size([32, 50, 46])\n",
            "Reshaped output_probs: torch.Size([1600, 46])\n",
            "Reshaped target: torch.Size([1600])\n",
            "Validation batch shapes:\n",
            "img: torch.Size([32, 3, 224, 224])\n",
            "entity_name: torch.Size([32])\n",
            "group_id: torch.Size([32])\n",
            "target: torch.Size([32, 50])\n"
          ]
        },
        {
          "output_type": "stream",
          "name": "stderr",
          "text": [
            "\rValidation:  13%|█▎        | 21/157 [00:40<03:00,  1.33s/it]"
          ]
        },
        {
          "output_type": "stream",
          "name": "stdout",
          "text": [
            "output_probs: torch.Size([32, 50, 46])\n",
            "Reshaped output_probs: torch.Size([1600, 46])\n",
            "Reshaped target: torch.Size([1600])\n",
            "Validation batch shapes:\n",
            "img: torch.Size([32, 3, 224, 224])\n",
            "entity_name: torch.Size([32])\n",
            "group_id: torch.Size([32])\n",
            "target: torch.Size([32, 50])\n"
          ]
        },
        {
          "output_type": "stream",
          "name": "stderr",
          "text": [
            "\rValidation:  14%|█▍        | 22/157 [00:41<02:56,  1.31s/it]"
          ]
        },
        {
          "output_type": "stream",
          "name": "stdout",
          "text": [
            "output_probs: torch.Size([32, 50, 46])\n",
            "Reshaped output_probs: torch.Size([1600, 46])\n",
            "Reshaped target: torch.Size([1600])\n",
            "Validation batch shapes:\n",
            "img: torch.Size([32, 3, 224, 224])\n",
            "entity_name: torch.Size([32])\n",
            "group_id: torch.Size([32])\n",
            "target: torch.Size([32, 50])\n"
          ]
        },
        {
          "output_type": "stream",
          "name": "stderr",
          "text": [
            "\rValidation:  15%|█▍        | 23/157 [00:43<02:53,  1.29s/it]"
          ]
        },
        {
          "output_type": "stream",
          "name": "stdout",
          "text": [
            "output_probs: torch.Size([32, 50, 46])\n",
            "Reshaped output_probs: torch.Size([1600, 46])\n",
            "Reshaped target: torch.Size([1600])\n",
            "Validation batch shapes:\n",
            "img: torch.Size([32, 3, 224, 224])\n",
            "entity_name: torch.Size([32])\n",
            "group_id: torch.Size([32])\n",
            "target: torch.Size([32, 50])\n"
          ]
        },
        {
          "output_type": "stream",
          "name": "stderr",
          "text": [
            "\rValidation:  15%|█▌        | 24/157 [00:44<03:00,  1.36s/it]"
          ]
        },
        {
          "output_type": "stream",
          "name": "stdout",
          "text": [
            "output_probs: torch.Size([32, 50, 46])\n",
            "Reshaped output_probs: torch.Size([1600, 46])\n",
            "Reshaped target: torch.Size([1600])\n",
            "Validation batch shapes:\n",
            "img: torch.Size([32, 3, 224, 224])\n",
            "entity_name: torch.Size([32])\n",
            "group_id: torch.Size([32])\n",
            "target: torch.Size([32, 50])\n"
          ]
        },
        {
          "output_type": "stream",
          "name": "stderr",
          "text": [
            "\rValidation:  16%|█▌        | 25/157 [00:47<04:10,  1.90s/it]"
          ]
        },
        {
          "output_type": "stream",
          "name": "stdout",
          "text": [
            "output_probs: torch.Size([32, 50, 46])\n",
            "Reshaped output_probs: torch.Size([1600, 46])\n",
            "Reshaped target: torch.Size([1600])\n",
            "Validation batch shapes:\n",
            "img: torch.Size([32, 3, 224, 224])\n",
            "entity_name: torch.Size([32])\n",
            "group_id: torch.Size([32])\n",
            "target: torch.Size([32, 50])\n"
          ]
        },
        {
          "output_type": "stream",
          "name": "stderr",
          "text": [
            "\rValidation:  17%|█▋        | 26/157 [00:50<04:22,  2.01s/it]"
          ]
        },
        {
          "output_type": "stream",
          "name": "stdout",
          "text": [
            "output_probs: torch.Size([32, 50, 46])\n",
            "Reshaped output_probs: torch.Size([1600, 46])\n",
            "Reshaped target: torch.Size([1600])\n",
            "Validation batch shapes:\n",
            "img: torch.Size([32, 3, 224, 224])\n",
            "entity_name: torch.Size([32])\n",
            "group_id: torch.Size([32])\n",
            "target: torch.Size([32, 50])\n"
          ]
        },
        {
          "output_type": "stream",
          "name": "stderr",
          "text": [
            "\rValidation:  17%|█▋        | 27/157 [00:52<04:24,  2.03s/it]"
          ]
        },
        {
          "output_type": "stream",
          "name": "stdout",
          "text": [
            "output_probs: torch.Size([32, 50, 46])\n",
            "Reshaped output_probs: torch.Size([1600, 46])\n",
            "Reshaped target: torch.Size([1600])\n",
            "Validation batch shapes:\n",
            "img: torch.Size([32, 3, 224, 224])\n",
            "entity_name: torch.Size([32])\n",
            "group_id: torch.Size([32])\n",
            "target: torch.Size([32, 50])\n"
          ]
        },
        {
          "output_type": "stream",
          "name": "stderr",
          "text": [
            "\rValidation:  18%|█▊        | 28/157 [00:54<04:21,  2.03s/it]"
          ]
        },
        {
          "output_type": "stream",
          "name": "stdout",
          "text": [
            "output_probs: torch.Size([32, 50, 46])\n",
            "Reshaped output_probs: torch.Size([1600, 46])\n",
            "Reshaped target: torch.Size([1600])\n",
            "Validation batch shapes:\n",
            "img: torch.Size([32, 3, 224, 224])\n",
            "entity_name: torch.Size([32])\n",
            "group_id: torch.Size([32])\n",
            "target: torch.Size([32, 50])\n"
          ]
        },
        {
          "output_type": "stream",
          "name": "stderr",
          "text": [
            "\rValidation:  18%|█▊        | 29/157 [00:56<04:15,  2.00s/it]"
          ]
        },
        {
          "output_type": "stream",
          "name": "stdout",
          "text": [
            "output_probs: torch.Size([32, 50, 46])\n",
            "Reshaped output_probs: torch.Size([1600, 46])\n",
            "Reshaped target: torch.Size([1600])\n",
            "Validation batch shapes:\n",
            "img: torch.Size([32, 3, 224, 224])\n",
            "entity_name: torch.Size([32])\n",
            "group_id: torch.Size([32])\n",
            "target: torch.Size([32, 50])\n"
          ]
        },
        {
          "output_type": "stream",
          "name": "stderr",
          "text": [
            "\rValidation:  19%|█▉        | 30/157 [00:57<03:47,  1.79s/it]"
          ]
        },
        {
          "output_type": "stream",
          "name": "stdout",
          "text": [
            "output_probs: torch.Size([32, 50, 46])\n",
            "Reshaped output_probs: torch.Size([1600, 46])\n",
            "Reshaped target: torch.Size([1600])\n",
            "Validation batch shapes:\n",
            "img: torch.Size([32, 3, 224, 224])\n",
            "entity_name: torch.Size([32])\n",
            "group_id: torch.Size([32])\n",
            "target: torch.Size([32, 50])\n"
          ]
        },
        {
          "output_type": "stream",
          "name": "stderr",
          "text": [
            "\rValidation:  20%|█▉        | 31/157 [00:58<03:25,  1.63s/it]"
          ]
        },
        {
          "output_type": "stream",
          "name": "stdout",
          "text": [
            "output_probs: torch.Size([32, 50, 46])\n",
            "Reshaped output_probs: torch.Size([1600, 46])\n",
            "Reshaped target: torch.Size([1600])\n",
            "Validation batch shapes:\n",
            "img: torch.Size([32, 3, 224, 224])\n",
            "entity_name: torch.Size([32])\n",
            "group_id: torch.Size([32])\n",
            "target: torch.Size([32, 50])\n"
          ]
        },
        {
          "output_type": "stream",
          "name": "stderr",
          "text": [
            "\rValidation:  20%|██        | 32/157 [01:00<03:10,  1.52s/it]"
          ]
        },
        {
          "output_type": "stream",
          "name": "stdout",
          "text": [
            "output_probs: torch.Size([32, 50, 46])\n",
            "Reshaped output_probs: torch.Size([1600, 46])\n",
            "Reshaped target: torch.Size([1600])\n",
            "Validation batch shapes:\n",
            "img: torch.Size([32, 3, 224, 224])\n",
            "entity_name: torch.Size([32])\n",
            "group_id: torch.Size([32])\n",
            "target: torch.Size([32, 50])\n"
          ]
        },
        {
          "output_type": "stream",
          "name": "stderr",
          "text": [
            "\rValidation:  21%|██        | 33/157 [01:01<03:02,  1.47s/it]"
          ]
        },
        {
          "output_type": "stream",
          "name": "stdout",
          "text": [
            "output_probs: torch.Size([32, 50, 46])\n",
            "Reshaped output_probs: torch.Size([1600, 46])\n",
            "Reshaped target: torch.Size([1600])\n",
            "Validation batch shapes:\n",
            "img: torch.Size([32, 3, 224, 224])\n",
            "entity_name: torch.Size([32])\n",
            "group_id: torch.Size([32])\n",
            "target: torch.Size([32, 50])\n"
          ]
        },
        {
          "output_type": "stream",
          "name": "stderr",
          "text": [
            "\rValidation:  22%|██▏       | 34/157 [01:02<02:51,  1.39s/it]"
          ]
        },
        {
          "output_type": "stream",
          "name": "stdout",
          "text": [
            "output_probs: torch.Size([32, 50, 46])\n",
            "Reshaped output_probs: torch.Size([1600, 46])\n",
            "Reshaped target: torch.Size([1600])\n",
            "Validation batch shapes:\n",
            "img: torch.Size([32, 3, 224, 224])\n",
            "entity_name: torch.Size([32])\n",
            "group_id: torch.Size([32])\n",
            "target: torch.Size([32, 50])\n"
          ]
        },
        {
          "output_type": "stream",
          "name": "stderr",
          "text": [
            "\rValidation:  22%|██▏       | 35/157 [01:03<02:50,  1.40s/it]"
          ]
        },
        {
          "output_type": "stream",
          "name": "stdout",
          "text": [
            "output_probs: torch.Size([32, 50, 46])\n",
            "Reshaped output_probs: torch.Size([1600, 46])\n",
            "Reshaped target: torch.Size([1600])\n",
            "Validation batch shapes:\n",
            "img: torch.Size([32, 3, 224, 224])\n",
            "entity_name: torch.Size([32])\n",
            "group_id: torch.Size([32])\n",
            "target: torch.Size([32, 50])\n"
          ]
        },
        {
          "output_type": "stream",
          "name": "stderr",
          "text": [
            "\rValidation:  23%|██▎       | 36/157 [01:05<02:42,  1.34s/it]"
          ]
        },
        {
          "output_type": "stream",
          "name": "stdout",
          "text": [
            "output_probs: torch.Size([32, 50, 46])\n",
            "Reshaped output_probs: torch.Size([1600, 46])\n",
            "Reshaped target: torch.Size([1600])\n",
            "Validation batch shapes:\n",
            "img: torch.Size([32, 3, 224, 224])\n",
            "entity_name: torch.Size([32])\n",
            "group_id: torch.Size([32])\n",
            "target: torch.Size([32, 50])\n"
          ]
        },
        {
          "output_type": "stream",
          "name": "stderr",
          "text": [
            "\rValidation:  24%|██▎       | 37/157 [01:06<02:53,  1.44s/it]"
          ]
        },
        {
          "output_type": "stream",
          "name": "stdout",
          "text": [
            "output_probs: torch.Size([32, 50, 46])\n",
            "Reshaped output_probs: torch.Size([1600, 46])\n",
            "Reshaped target: torch.Size([1600])\n",
            "Validation batch shapes:\n",
            "img: torch.Size([32, 3, 224, 224])\n",
            "entity_name: torch.Size([32])\n",
            "group_id: torch.Size([32])\n",
            "target: torch.Size([32, 50])\n"
          ]
        },
        {
          "output_type": "stream",
          "name": "stderr",
          "text": [
            "\rValidation:  24%|██▍       | 38/157 [01:08<03:13,  1.63s/it]"
          ]
        },
        {
          "output_type": "stream",
          "name": "stdout",
          "text": [
            "output_probs: torch.Size([32, 50, 46])\n",
            "Reshaped output_probs: torch.Size([1600, 46])\n",
            "Reshaped target: torch.Size([1600])\n",
            "Validation batch shapes:\n",
            "img: torch.Size([32, 3, 224, 224])\n",
            "entity_name: torch.Size([32])\n",
            "group_id: torch.Size([32])\n",
            "target: torch.Size([32, 50])\n"
          ]
        },
        {
          "output_type": "stream",
          "name": "stderr",
          "text": [
            "\rValidation:  25%|██▍       | 39/157 [01:11<03:30,  1.78s/it]"
          ]
        },
        {
          "output_type": "stream",
          "name": "stdout",
          "text": [
            "output_probs: torch.Size([32, 50, 46])\n",
            "Reshaped output_probs: torch.Size([1600, 46])\n",
            "Reshaped target: torch.Size([1600])\n",
            "Validation batch shapes:\n",
            "img: torch.Size([32, 3, 224, 224])\n",
            "entity_name: torch.Size([32])\n",
            "group_id: torch.Size([32])\n",
            "target: torch.Size([32, 50])\n"
          ]
        },
        {
          "output_type": "stream",
          "name": "stderr",
          "text": [
            "\rValidation:  25%|██▌       | 40/157 [01:12<03:32,  1.82s/it]"
          ]
        },
        {
          "output_type": "stream",
          "name": "stdout",
          "text": [
            "output_probs: torch.Size([32, 50, 46])\n",
            "Reshaped output_probs: torch.Size([1600, 46])\n",
            "Reshaped target: torch.Size([1600])\n",
            "Validation batch shapes:\n",
            "img: torch.Size([32, 3, 224, 224])\n",
            "entity_name: torch.Size([32])\n",
            "group_id: torch.Size([32])\n",
            "target: torch.Size([32, 50])\n"
          ]
        },
        {
          "output_type": "stream",
          "name": "stderr",
          "text": [
            "\rValidation:  26%|██▌       | 41/157 [01:15<04:06,  2.13s/it]"
          ]
        },
        {
          "output_type": "stream",
          "name": "stdout",
          "text": [
            "output_probs: torch.Size([32, 50, 46])\n",
            "Reshaped output_probs: torch.Size([1600, 46])\n",
            "Reshaped target: torch.Size([1600])\n",
            "Validation batch shapes:\n",
            "img: torch.Size([32, 3, 224, 224])\n",
            "entity_name: torch.Size([32])\n",
            "group_id: torch.Size([32])\n",
            "target: torch.Size([32, 50])\n"
          ]
        },
        {
          "output_type": "stream",
          "name": "stderr",
          "text": [
            "\rValidation:  27%|██▋       | 42/157 [01:17<03:58,  2.07s/it]"
          ]
        },
        {
          "output_type": "stream",
          "name": "stdout",
          "text": [
            "output_probs: torch.Size([32, 50, 46])\n",
            "Reshaped output_probs: torch.Size([1600, 46])\n",
            "Reshaped target: torch.Size([1600])\n",
            "Validation batch shapes:\n",
            "img: torch.Size([32, 3, 224, 224])\n",
            "entity_name: torch.Size([32])\n",
            "group_id: torch.Size([32])\n",
            "target: torch.Size([32, 50])\n"
          ]
        },
        {
          "output_type": "stream",
          "name": "stderr",
          "text": [
            "\rValidation:  27%|██▋       | 43/157 [01:19<03:34,  1.88s/it]"
          ]
        },
        {
          "output_type": "stream",
          "name": "stdout",
          "text": [
            "output_probs: torch.Size([32, 50, 46])\n",
            "Reshaped output_probs: torch.Size([1600, 46])\n",
            "Reshaped target: torch.Size([1600])\n",
            "Validation batch shapes:\n",
            "img: torch.Size([32, 3, 224, 224])\n",
            "entity_name: torch.Size([32])\n",
            "group_id: torch.Size([32])\n",
            "target: torch.Size([32, 50])\n"
          ]
        },
        {
          "output_type": "stream",
          "name": "stderr",
          "text": [
            "\rValidation:  28%|██▊       | 44/157 [01:21<03:41,  1.96s/it]"
          ]
        },
        {
          "output_type": "stream",
          "name": "stdout",
          "text": [
            "output_probs: torch.Size([32, 50, 46])\n",
            "Reshaped output_probs: torch.Size([1600, 46])\n",
            "Reshaped target: torch.Size([1600])\n",
            "Validation batch shapes:\n",
            "img: torch.Size([32, 3, 224, 224])\n",
            "entity_name: torch.Size([32])\n",
            "group_id: torch.Size([32])\n",
            "target: torch.Size([32, 50])\n"
          ]
        },
        {
          "output_type": "stream",
          "name": "stderr",
          "text": [
            "\rValidation:  29%|██▊       | 45/157 [01:23<03:45,  2.01s/it]"
          ]
        },
        {
          "output_type": "stream",
          "name": "stdout",
          "text": [
            "output_probs: torch.Size([32, 50, 46])\n",
            "Reshaped output_probs: torch.Size([1600, 46])\n",
            "Reshaped target: torch.Size([1600])\n",
            "Validation batch shapes:\n",
            "img: torch.Size([32, 3, 224, 224])\n",
            "entity_name: torch.Size([32])\n",
            "group_id: torch.Size([32])\n",
            "target: torch.Size([32, 50])\n"
          ]
        },
        {
          "output_type": "stream",
          "name": "stderr",
          "text": [
            "\rValidation:  29%|██▉       | 46/157 [01:25<03:50,  2.07s/it]"
          ]
        },
        {
          "output_type": "stream",
          "name": "stdout",
          "text": [
            "output_probs: torch.Size([32, 50, 46])\n",
            "Reshaped output_probs: torch.Size([1600, 46])\n",
            "Reshaped target: torch.Size([1600])\n",
            "Validation batch shapes:\n",
            "img: torch.Size([32, 3, 224, 224])\n",
            "entity_name: torch.Size([32])\n",
            "group_id: torch.Size([32])\n",
            "target: torch.Size([32, 50])\n"
          ]
        },
        {
          "output_type": "stream",
          "name": "stderr",
          "text": [
            "\rValidation:  30%|██▉       | 47/157 [01:27<03:54,  2.13s/it]"
          ]
        },
        {
          "output_type": "stream",
          "name": "stdout",
          "text": [
            "output_probs: torch.Size([32, 50, 46])\n",
            "Reshaped output_probs: torch.Size([1600, 46])\n",
            "Reshaped target: torch.Size([1600])\n",
            "Validation batch shapes:\n",
            "img: torch.Size([32, 3, 224, 224])\n",
            "entity_name: torch.Size([32])\n",
            "group_id: torch.Size([32])\n",
            "target: torch.Size([32, 50])\n"
          ]
        },
        {
          "output_type": "stream",
          "name": "stderr",
          "text": [
            "\rValidation:  31%|███       | 48/157 [01:30<03:54,  2.15s/it]"
          ]
        },
        {
          "output_type": "stream",
          "name": "stdout",
          "text": [
            "output_probs: torch.Size([32, 50, 46])\n",
            "Reshaped output_probs: torch.Size([1600, 46])\n",
            "Reshaped target: torch.Size([1600])\n",
            "Validation batch shapes:\n",
            "img: torch.Size([32, 3, 224, 224])\n",
            "entity_name: torch.Size([32])\n",
            "group_id: torch.Size([32])\n",
            "target: torch.Size([32, 50])\n"
          ]
        },
        {
          "output_type": "stream",
          "name": "stderr",
          "text": [
            "\rValidation:  31%|███       | 49/157 [01:33<04:45,  2.65s/it]"
          ]
        },
        {
          "output_type": "stream",
          "name": "stdout",
          "text": [
            "output_probs: torch.Size([32, 50, 46])\n",
            "Reshaped output_probs: torch.Size([1600, 46])\n",
            "Reshaped target: torch.Size([1600])\n",
            "Validation batch shapes:\n",
            "img: torch.Size([32, 3, 224, 224])\n",
            "entity_name: torch.Size([32])\n",
            "group_id: torch.Size([32])\n",
            "target: torch.Size([32, 50])\n"
          ]
        },
        {
          "output_type": "stream",
          "name": "stderr",
          "text": [
            "\rValidation:  32%|███▏      | 50/157 [01:35<04:23,  2.46s/it]"
          ]
        },
        {
          "output_type": "stream",
          "name": "stdout",
          "text": [
            "output_probs: torch.Size([32, 50, 46])\n",
            "Reshaped output_probs: torch.Size([1600, 46])\n",
            "Reshaped target: torch.Size([1600])\n",
            "Validation batch shapes:\n",
            "img: torch.Size([32, 3, 224, 224])\n",
            "entity_name: torch.Size([32])\n",
            "group_id: torch.Size([32])\n",
            "target: torch.Size([32, 50])\n"
          ]
        },
        {
          "output_type": "stream",
          "name": "stderr",
          "text": [
            "\rValidation:  32%|███▏      | 51/157 [01:37<04:02,  2.29s/it]"
          ]
        },
        {
          "output_type": "stream",
          "name": "stdout",
          "text": [
            "output_probs: torch.Size([32, 50, 46])\n",
            "Reshaped output_probs: torch.Size([1600, 46])\n",
            "Reshaped target: torch.Size([1600])\n",
            "Validation batch shapes:\n",
            "img: torch.Size([32, 3, 224, 224])\n",
            "entity_name: torch.Size([32])\n",
            "group_id: torch.Size([32])\n",
            "target: torch.Size([32, 50])\n"
          ]
        },
        {
          "output_type": "stream",
          "name": "stderr",
          "text": [
            "\rValidation:  33%|███▎      | 52/157 [01:39<03:51,  2.20s/it]"
          ]
        },
        {
          "output_type": "stream",
          "name": "stdout",
          "text": [
            "output_probs: torch.Size([32, 50, 46])\n",
            "Reshaped output_probs: torch.Size([1600, 46])\n",
            "Reshaped target: torch.Size([1600])\n",
            "Validation batch shapes:\n",
            "img: torch.Size([32, 3, 224, 224])\n",
            "entity_name: torch.Size([32])\n",
            "group_id: torch.Size([32])\n",
            "target: torch.Size([32, 50])\n"
          ]
        },
        {
          "output_type": "stream",
          "name": "stderr",
          "text": [
            "\rValidation:  34%|███▍      | 53/157 [01:42<03:51,  2.22s/it]"
          ]
        },
        {
          "output_type": "stream",
          "name": "stdout",
          "text": [
            "output_probs: torch.Size([32, 50, 46])\n",
            "Reshaped output_probs: torch.Size([1600, 46])\n",
            "Reshaped target: torch.Size([1600])\n",
            "Validation batch shapes:\n",
            "img: torch.Size([32, 3, 224, 224])\n",
            "entity_name: torch.Size([32])\n",
            "group_id: torch.Size([32])\n",
            "target: torch.Size([32, 50])\n"
          ]
        },
        {
          "output_type": "stream",
          "name": "stderr",
          "text": [
            "\rValidation:  34%|███▍      | 54/157 [01:43<03:13,  1.88s/it]"
          ]
        },
        {
          "output_type": "stream",
          "name": "stdout",
          "text": [
            "output_probs: torch.Size([32, 50, 46])\n",
            "Reshaped output_probs: torch.Size([1600, 46])\n",
            "Reshaped target: torch.Size([1600])\n",
            "Validation batch shapes:\n",
            "img: torch.Size([32, 3, 224, 224])\n",
            "entity_name: torch.Size([32])\n",
            "group_id: torch.Size([32])\n",
            "target: torch.Size([32, 50])\n"
          ]
        },
        {
          "output_type": "stream",
          "name": "stderr",
          "text": [
            "\rValidation:  35%|███▌      | 55/157 [01:44<02:51,  1.68s/it]"
          ]
        },
        {
          "output_type": "stream",
          "name": "stdout",
          "text": [
            "output_probs: torch.Size([32, 50, 46])\n",
            "Reshaped output_probs: torch.Size([1600, 46])\n",
            "Reshaped target: torch.Size([1600])\n",
            "Validation batch shapes:\n",
            "img: torch.Size([32, 3, 224, 224])\n",
            "entity_name: torch.Size([32])\n",
            "group_id: torch.Size([32])\n",
            "target: torch.Size([32, 50])\n"
          ]
        },
        {
          "output_type": "stream",
          "name": "stderr",
          "text": [
            "\rValidation:  36%|███▌      | 56/157 [01:45<02:40,  1.59s/it]"
          ]
        },
        {
          "output_type": "stream",
          "name": "stdout",
          "text": [
            "output_probs: torch.Size([32, 50, 46])\n",
            "Reshaped output_probs: torch.Size([1600, 46])\n",
            "Reshaped target: torch.Size([1600])\n",
            "Validation batch shapes:\n",
            "img: torch.Size([32, 3, 224, 224])\n",
            "entity_name: torch.Size([32])\n",
            "group_id: torch.Size([32])\n",
            "target: torch.Size([32, 50])\n"
          ]
        },
        {
          "output_type": "stream",
          "name": "stderr",
          "text": [
            "\rValidation:  36%|███▋      | 57/157 [01:47<02:31,  1.51s/it]"
          ]
        },
        {
          "output_type": "stream",
          "name": "stdout",
          "text": [
            "output_probs: torch.Size([32, 50, 46])\n",
            "Reshaped output_probs: torch.Size([1600, 46])\n",
            "Reshaped target: torch.Size([1600])\n",
            "Validation batch shapes:\n",
            "img: torch.Size([32, 3, 224, 224])\n",
            "entity_name: torch.Size([32])\n",
            "group_id: torch.Size([32])\n",
            "target: torch.Size([32, 50])\n"
          ]
        },
        {
          "output_type": "stream",
          "name": "stderr",
          "text": [
            "\rValidation:  37%|███▋      | 58/157 [01:48<02:23,  1.45s/it]"
          ]
        },
        {
          "output_type": "stream",
          "name": "stdout",
          "text": [
            "output_probs: torch.Size([32, 50, 46])\n",
            "Reshaped output_probs: torch.Size([1600, 46])\n",
            "Reshaped target: torch.Size([1600])\n",
            "Validation batch shapes:\n",
            "img: torch.Size([32, 3, 224, 224])\n",
            "entity_name: torch.Size([32])\n",
            "group_id: torch.Size([32])\n",
            "target: torch.Size([32, 50])\n"
          ]
        },
        {
          "output_type": "stream",
          "name": "stderr",
          "text": [
            "\rValidation:  38%|███▊      | 59/157 [01:49<02:13,  1.37s/it]"
          ]
        },
        {
          "output_type": "stream",
          "name": "stdout",
          "text": [
            "output_probs: torch.Size([32, 50, 46])\n",
            "Reshaped output_probs: torch.Size([1600, 46])\n",
            "Reshaped target: torch.Size([1600])\n",
            "Validation batch shapes:\n",
            "img: torch.Size([32, 3, 224, 224])\n",
            "entity_name: torch.Size([32])\n",
            "group_id: torch.Size([32])\n",
            "target: torch.Size([32, 50])\n"
          ]
        },
        {
          "output_type": "stream",
          "name": "stderr",
          "text": [
            "\rValidation:  38%|███▊      | 60/157 [01:50<02:12,  1.36s/it]"
          ]
        },
        {
          "output_type": "stream",
          "name": "stdout",
          "text": [
            "output_probs: torch.Size([32, 50, 46])\n",
            "Reshaped output_probs: torch.Size([1600, 46])\n",
            "Reshaped target: torch.Size([1600])\n",
            "Validation batch shapes:\n",
            "img: torch.Size([32, 3, 224, 224])\n",
            "entity_name: torch.Size([32])\n",
            "group_id: torch.Size([32])\n",
            "target: torch.Size([32, 50])\n"
          ]
        },
        {
          "output_type": "stream",
          "name": "stderr",
          "text": [
            "\rValidation:  39%|███▉      | 61/157 [01:52<02:07,  1.33s/it]"
          ]
        },
        {
          "output_type": "stream",
          "name": "stdout",
          "text": [
            "output_probs: torch.Size([32, 50, 46])\n",
            "Reshaped output_probs: torch.Size([1600, 46])\n",
            "Reshaped target: torch.Size([1600])\n",
            "Validation batch shapes:\n",
            "img: torch.Size([32, 3, 224, 224])\n",
            "entity_name: torch.Size([32])\n",
            "group_id: torch.Size([32])\n",
            "target: torch.Size([32, 50])\n"
          ]
        },
        {
          "output_type": "stream",
          "name": "stderr",
          "text": [
            "\rValidation:  39%|███▉      | 62/157 [01:54<02:23,  1.51s/it]"
          ]
        },
        {
          "output_type": "stream",
          "name": "stdout",
          "text": [
            "output_probs: torch.Size([32, 50, 46])\n",
            "Reshaped output_probs: torch.Size([1600, 46])\n",
            "Reshaped target: torch.Size([1600])\n",
            "Validation batch shapes:\n",
            "img: torch.Size([32, 3, 224, 224])\n",
            "entity_name: torch.Size([32])\n",
            "group_id: torch.Size([32])\n",
            "target: torch.Size([32, 50])\n"
          ]
        },
        {
          "output_type": "stream",
          "name": "stderr",
          "text": [
            "\rValidation:  40%|████      | 63/157 [01:56<02:39,  1.69s/it]"
          ]
        },
        {
          "output_type": "stream",
          "name": "stdout",
          "text": [
            "output_probs: torch.Size([32, 50, 46])\n",
            "Reshaped output_probs: torch.Size([1600, 46])\n",
            "Reshaped target: torch.Size([1600])\n",
            "Validation batch shapes:\n",
            "img: torch.Size([32, 3, 224, 224])\n",
            "entity_name: torch.Size([32])\n",
            "group_id: torch.Size([32])\n",
            "target: torch.Size([32, 50])\n"
          ]
        },
        {
          "output_type": "stream",
          "name": "stderr",
          "text": [
            "\rValidation:  41%|████      | 64/157 [01:58<02:52,  1.85s/it]"
          ]
        },
        {
          "output_type": "stream",
          "name": "stdout",
          "text": [
            "output_probs: torch.Size([32, 50, 46])\n",
            "Reshaped output_probs: torch.Size([1600, 46])\n",
            "Reshaped target: torch.Size([1600])\n",
            "Validation batch shapes:\n",
            "img: torch.Size([32, 3, 224, 224])\n",
            "entity_name: torch.Size([32])\n",
            "group_id: torch.Size([32])\n",
            "target: torch.Size([32, 50])\n"
          ]
        },
        {
          "output_type": "stream",
          "name": "stderr",
          "text": [
            "\rValidation:  41%|████▏     | 65/157 [02:00<02:55,  1.91s/it]"
          ]
        },
        {
          "output_type": "stream",
          "name": "stdout",
          "text": [
            "output_probs: torch.Size([32, 50, 46])\n",
            "Reshaped output_probs: torch.Size([1600, 46])\n",
            "Reshaped target: torch.Size([1600])\n",
            "Validation batch shapes:\n",
            "img: torch.Size([32, 3, 224, 224])\n",
            "entity_name: torch.Size([32])\n",
            "group_id: torch.Size([32])\n",
            "target: torch.Size([32, 50])\n"
          ]
        },
        {
          "output_type": "stream",
          "name": "stderr",
          "text": [
            "\rValidation:  42%|████▏     | 66/157 [02:02<02:51,  1.89s/it]"
          ]
        },
        {
          "output_type": "stream",
          "name": "stdout",
          "text": [
            "output_probs: torch.Size([32, 50, 46])\n",
            "Reshaped output_probs: torch.Size([1600, 46])\n",
            "Reshaped target: torch.Size([1600])\n",
            "Validation batch shapes:\n",
            "img: torch.Size([32, 3, 224, 224])\n",
            "entity_name: torch.Size([32])\n",
            "group_id: torch.Size([32])\n",
            "target: torch.Size([32, 50])\n"
          ]
        },
        {
          "output_type": "stream",
          "name": "stderr",
          "text": [
            "\rValidation:  43%|████▎     | 67/157 [02:03<02:36,  1.73s/it]"
          ]
        },
        {
          "output_type": "stream",
          "name": "stdout",
          "text": [
            "output_probs: torch.Size([32, 50, 46])\n",
            "Reshaped output_probs: torch.Size([1600, 46])\n",
            "Reshaped target: torch.Size([1600])\n",
            "Validation batch shapes:\n",
            "img: torch.Size([32, 3, 224, 224])\n",
            "entity_name: torch.Size([32])\n",
            "group_id: torch.Size([32])\n",
            "target: torch.Size([32, 50])\n"
          ]
        },
        {
          "output_type": "stream",
          "name": "stderr",
          "text": [
            "\rValidation:  43%|████▎     | 68/157 [02:05<02:22,  1.60s/it]"
          ]
        },
        {
          "output_type": "stream",
          "name": "stdout",
          "text": [
            "output_probs: torch.Size([32, 50, 46])\n",
            "Reshaped output_probs: torch.Size([1600, 46])\n",
            "Reshaped target: torch.Size([1600])\n",
            "Validation batch shapes:\n",
            "img: torch.Size([32, 3, 224, 224])\n",
            "entity_name: torch.Size([32])\n",
            "group_id: torch.Size([32])\n",
            "target: torch.Size([32, 50])\n"
          ]
        },
        {
          "output_type": "stream",
          "name": "stderr",
          "text": [
            "\rValidation:  44%|████▍     | 69/157 [02:06<02:17,  1.57s/it]"
          ]
        },
        {
          "output_type": "stream",
          "name": "stdout",
          "text": [
            "output_probs: torch.Size([32, 50, 46])\n",
            "Reshaped output_probs: torch.Size([1600, 46])\n",
            "Reshaped target: torch.Size([1600])\n",
            "Validation batch shapes:\n",
            "img: torch.Size([32, 3, 224, 224])\n",
            "entity_name: torch.Size([32])\n",
            "group_id: torch.Size([32])\n",
            "target: torch.Size([32, 50])\n"
          ]
        },
        {
          "output_type": "stream",
          "name": "stderr",
          "text": [
            "\rValidation:  45%|████▍     | 70/157 [02:07<02:10,  1.50s/it]"
          ]
        },
        {
          "output_type": "stream",
          "name": "stdout",
          "text": [
            "output_probs: torch.Size([32, 50, 46])\n",
            "Reshaped output_probs: torch.Size([1600, 46])\n",
            "Reshaped target: torch.Size([1600])\n",
            "Validation batch shapes:\n",
            "img: torch.Size([32, 3, 224, 224])\n",
            "entity_name: torch.Size([32])\n",
            "group_id: torch.Size([32])\n",
            "target: torch.Size([32, 50])\n"
          ]
        },
        {
          "output_type": "stream",
          "name": "stderr",
          "text": [
            "\rValidation:  45%|████▌     | 71/157 [02:09<02:03,  1.44s/it]"
          ]
        },
        {
          "output_type": "stream",
          "name": "stdout",
          "text": [
            "output_probs: torch.Size([32, 50, 46])\n",
            "Reshaped output_probs: torch.Size([1600, 46])\n",
            "Reshaped target: torch.Size([1600])\n",
            "Validation batch shapes:\n",
            "img: torch.Size([32, 3, 224, 224])\n",
            "entity_name: torch.Size([32])\n",
            "group_id: torch.Size([32])\n",
            "target: torch.Size([32, 50])\n"
          ]
        },
        {
          "output_type": "stream",
          "name": "stderr",
          "text": [
            "\rValidation:  46%|████▌     | 72/157 [02:10<01:58,  1.39s/it]"
          ]
        },
        {
          "output_type": "stream",
          "name": "stdout",
          "text": [
            "output_probs: torch.Size([32, 50, 46])\n",
            "Reshaped output_probs: torch.Size([1600, 46])\n",
            "Reshaped target: torch.Size([1600])\n",
            "Validation batch shapes:\n",
            "img: torch.Size([32, 3, 224, 224])\n",
            "entity_name: torch.Size([32])\n",
            "group_id: torch.Size([32])\n",
            "target: torch.Size([32, 50])\n"
          ]
        },
        {
          "output_type": "stream",
          "name": "stderr",
          "text": [
            "\rValidation:  46%|████▋     | 73/157 [02:11<01:47,  1.28s/it]"
          ]
        },
        {
          "output_type": "stream",
          "name": "stdout",
          "text": [
            "output_probs: torch.Size([32, 50, 46])\n",
            "Reshaped output_probs: torch.Size([1600, 46])\n",
            "Reshaped target: torch.Size([1600])\n",
            "Validation batch shapes:\n",
            "img: torch.Size([32, 3, 224, 224])\n",
            "entity_name: torch.Size([32])\n",
            "group_id: torch.Size([32])\n",
            "target: torch.Size([32, 50])\n"
          ]
        },
        {
          "output_type": "stream",
          "name": "stderr",
          "text": [
            "\rValidation:  47%|████▋     | 74/157 [02:12<01:45,  1.28s/it]"
          ]
        },
        {
          "output_type": "stream",
          "name": "stdout",
          "text": [
            "output_probs: torch.Size([32, 50, 46])\n",
            "Reshaped output_probs: torch.Size([1600, 46])\n",
            "Reshaped target: torch.Size([1600])\n",
            "Validation batch shapes:\n",
            "img: torch.Size([32, 3, 224, 224])\n",
            "entity_name: torch.Size([32])\n",
            "group_id: torch.Size([32])\n",
            "target: torch.Size([32, 50])\n"
          ]
        },
        {
          "output_type": "stream",
          "name": "stderr",
          "text": [
            "\rValidation:  48%|████▊     | 75/157 [02:14<01:59,  1.45s/it]"
          ]
        },
        {
          "output_type": "stream",
          "name": "stdout",
          "text": [
            "output_probs: torch.Size([32, 50, 46])\n",
            "Reshaped output_probs: torch.Size([1600, 46])\n",
            "Reshaped target: torch.Size([1600])\n",
            "Validation batch shapes:\n",
            "img: torch.Size([32, 3, 224, 224])\n",
            "entity_name: torch.Size([32])\n",
            "group_id: torch.Size([32])\n",
            "target: torch.Size([32, 50])\n"
          ]
        },
        {
          "output_type": "stream",
          "name": "stderr",
          "text": [
            "\rValidation:  48%|████▊     | 76/157 [02:16<02:14,  1.66s/it]"
          ]
        },
        {
          "output_type": "stream",
          "name": "stdout",
          "text": [
            "output_probs: torch.Size([32, 50, 46])\n",
            "Reshaped output_probs: torch.Size([1600, 46])\n",
            "Reshaped target: torch.Size([1600])\n",
            "Validation batch shapes:\n",
            "img: torch.Size([32, 3, 224, 224])\n",
            "entity_name: torch.Size([32])\n",
            "group_id: torch.Size([32])\n",
            "target: torch.Size([32, 50])\n"
          ]
        },
        {
          "output_type": "stream",
          "name": "stderr",
          "text": [
            "\rValidation:  49%|████▉     | 77/157 [02:18<02:24,  1.81s/it]"
          ]
        },
        {
          "output_type": "stream",
          "name": "stdout",
          "text": [
            "output_probs: torch.Size([32, 50, 46])\n",
            "Reshaped output_probs: torch.Size([1600, 46])\n",
            "Reshaped target: torch.Size([1600])\n",
            "Validation batch shapes:\n",
            "img: torch.Size([32, 3, 224, 224])\n",
            "entity_name: torch.Size([32])\n",
            "group_id: torch.Size([32])\n",
            "target: torch.Size([32, 50])\n"
          ]
        },
        {
          "output_type": "stream",
          "name": "stderr",
          "text": [
            "\rValidation:  50%|████▉     | 78/157 [02:21<02:31,  1.92s/it]"
          ]
        },
        {
          "output_type": "stream",
          "name": "stdout",
          "text": [
            "output_probs: torch.Size([32, 50, 46])\n",
            "Reshaped output_probs: torch.Size([1600, 46])\n",
            "Reshaped target: torch.Size([1600])\n",
            "Validation batch shapes:\n",
            "img: torch.Size([32, 3, 224, 224])\n",
            "entity_name: torch.Size([32])\n",
            "group_id: torch.Size([32])\n",
            "target: torch.Size([32, 50])\n"
          ]
        },
        {
          "output_type": "stream",
          "name": "stderr",
          "text": [
            "\rValidation:  50%|█████     | 79/157 [02:23<02:30,  1.93s/it]"
          ]
        },
        {
          "output_type": "stream",
          "name": "stdout",
          "text": [
            "output_probs: torch.Size([32, 50, 46])\n",
            "Reshaped output_probs: torch.Size([1600, 46])\n",
            "Reshaped target: torch.Size([1600])\n",
            "Validation batch shapes:\n",
            "img: torch.Size([32, 3, 224, 224])\n",
            "entity_name: torch.Size([32])\n",
            "group_id: torch.Size([32])\n",
            "target: torch.Size([32, 50])\n"
          ]
        },
        {
          "output_type": "stream",
          "name": "stderr",
          "text": [
            "\rValidation:  51%|█████     | 80/157 [02:24<02:20,  1.82s/it]"
          ]
        },
        {
          "output_type": "stream",
          "name": "stdout",
          "text": [
            "output_probs: torch.Size([32, 50, 46])\n",
            "Reshaped output_probs: torch.Size([1600, 46])\n",
            "Reshaped target: torch.Size([1600])\n",
            "Validation batch shapes:\n",
            "img: torch.Size([32, 3, 224, 224])\n",
            "entity_name: torch.Size([32])\n",
            "group_id: torch.Size([32])\n",
            "target: torch.Size([32, 50])\n"
          ]
        },
        {
          "output_type": "stream",
          "name": "stderr",
          "text": [
            "\rValidation:  52%|█████▏    | 81/157 [02:25<02:04,  1.64s/it]"
          ]
        },
        {
          "output_type": "stream",
          "name": "stdout",
          "text": [
            "output_probs: torch.Size([32, 50, 46])\n",
            "Reshaped output_probs: torch.Size([1600, 46])\n",
            "Reshaped target: torch.Size([1600])\n",
            "Validation batch shapes:\n",
            "img: torch.Size([32, 3, 224, 224])\n",
            "entity_name: torch.Size([32])\n",
            "group_id: torch.Size([32])\n",
            "target: torch.Size([32, 50])\n"
          ]
        },
        {
          "output_type": "stream",
          "name": "stderr",
          "text": [
            "\rValidation:  52%|█████▏    | 82/157 [02:27<01:56,  1.55s/it]"
          ]
        },
        {
          "output_type": "stream",
          "name": "stdout",
          "text": [
            "output_probs: torch.Size([32, 50, 46])\n",
            "Reshaped output_probs: torch.Size([1600, 46])\n",
            "Reshaped target: torch.Size([1600])\n",
            "Validation batch shapes:\n",
            "img: torch.Size([32, 3, 224, 224])\n",
            "entity_name: torch.Size([32])\n",
            "group_id: torch.Size([32])\n",
            "target: torch.Size([32, 50])\n"
          ]
        },
        {
          "output_type": "stream",
          "name": "stderr",
          "text": [
            "\rValidation:  53%|█████▎    | 83/157 [02:28<01:51,  1.51s/it]"
          ]
        },
        {
          "output_type": "stream",
          "name": "stdout",
          "text": [
            "output_probs: torch.Size([32, 50, 46])\n",
            "Reshaped output_probs: torch.Size([1600, 46])\n",
            "Reshaped target: torch.Size([1600])\n",
            "Validation batch shapes:\n",
            "img: torch.Size([32, 3, 224, 224])\n",
            "entity_name: torch.Size([32])\n",
            "group_id: torch.Size([32])\n",
            "target: torch.Size([32, 50])\n"
          ]
        },
        {
          "output_type": "stream",
          "name": "stderr",
          "text": [
            "\rValidation:  54%|█████▎    | 84/157 [02:29<01:46,  1.46s/it]"
          ]
        },
        {
          "output_type": "stream",
          "name": "stdout",
          "text": [
            "output_probs: torch.Size([32, 50, 46])\n",
            "Reshaped output_probs: torch.Size([1600, 46])\n",
            "Reshaped target: torch.Size([1600])\n",
            "Validation batch shapes:\n",
            "img: torch.Size([32, 3, 224, 224])\n",
            "entity_name: torch.Size([32])\n",
            "group_id: torch.Size([32])\n",
            "target: torch.Size([32, 50])\n"
          ]
        },
        {
          "output_type": "stream",
          "name": "stderr",
          "text": [
            "\rValidation:  54%|█████▍    | 85/157 [02:31<01:42,  1.42s/it]"
          ]
        },
        {
          "output_type": "stream",
          "name": "stdout",
          "text": [
            "output_probs: torch.Size([32, 50, 46])\n",
            "Reshaped output_probs: torch.Size([1600, 46])\n",
            "Reshaped target: torch.Size([1600])\n",
            "Validation batch shapes:\n",
            "img: torch.Size([32, 3, 224, 224])\n",
            "entity_name: torch.Size([32])\n",
            "group_id: torch.Size([32])\n",
            "target: torch.Size([32, 50])\n"
          ]
        },
        {
          "output_type": "stream",
          "name": "stderr",
          "text": [
            "\rValidation:  55%|█████▍    | 86/157 [02:32<01:37,  1.37s/it]"
          ]
        },
        {
          "output_type": "stream",
          "name": "stdout",
          "text": [
            "output_probs: torch.Size([32, 50, 46])\n",
            "Reshaped output_probs: torch.Size([1600, 46])\n",
            "Reshaped target: torch.Size([1600])\n",
            "Validation batch shapes:\n",
            "img: torch.Size([32, 3, 224, 224])\n",
            "entity_name: torch.Size([32])\n",
            "group_id: torch.Size([32])\n",
            "target: torch.Size([32, 50])\n"
          ]
        },
        {
          "output_type": "stream",
          "name": "stderr",
          "text": [
            "\rValidation:  55%|█████▌    | 87/157 [02:34<01:38,  1.41s/it]"
          ]
        },
        {
          "output_type": "stream",
          "name": "stdout",
          "text": [
            "output_probs: torch.Size([32, 50, 46])\n",
            "Reshaped output_probs: torch.Size([1600, 46])\n",
            "Reshaped target: torch.Size([1600])\n",
            "Validation batch shapes:\n",
            "img: torch.Size([32, 3, 224, 224])\n",
            "entity_name: torch.Size([32])\n",
            "group_id: torch.Size([32])\n",
            "target: torch.Size([32, 50])\n"
          ]
        },
        {
          "output_type": "stream",
          "name": "stderr",
          "text": [
            "\rValidation:  56%|█████▌    | 88/157 [02:36<01:49,  1.58s/it]"
          ]
        },
        {
          "output_type": "stream",
          "name": "stdout",
          "text": [
            "output_probs: torch.Size([32, 50, 46])\n",
            "Reshaped output_probs: torch.Size([1600, 46])\n",
            "Reshaped target: torch.Size([1600])\n",
            "Validation batch shapes:\n",
            "img: torch.Size([32, 3, 224, 224])\n",
            "entity_name: torch.Size([32])\n",
            "group_id: torch.Size([32])\n",
            "target: torch.Size([32, 50])\n"
          ]
        },
        {
          "output_type": "stream",
          "name": "stderr",
          "text": [
            "\rValidation:  57%|█████▋    | 89/157 [02:37<01:52,  1.65s/it]"
          ]
        },
        {
          "output_type": "stream",
          "name": "stdout",
          "text": [
            "output_probs: torch.Size([32, 50, 46])\n",
            "Reshaped output_probs: torch.Size([1600, 46])\n",
            "Reshaped target: torch.Size([1600])\n",
            "Validation batch shapes:\n",
            "img: torch.Size([32, 3, 224, 224])\n",
            "entity_name: torch.Size([32])\n",
            "group_id: torch.Size([32])\n",
            "target: torch.Size([32, 50])\n"
          ]
        },
        {
          "output_type": "stream",
          "name": "stderr",
          "text": [
            "\rValidation:  57%|█████▋    | 90/157 [02:39<01:59,  1.79s/it]"
          ]
        },
        {
          "output_type": "stream",
          "name": "stdout",
          "text": [
            "output_probs: torch.Size([32, 50, 46])\n",
            "Reshaped output_probs: torch.Size([1600, 46])\n",
            "Reshaped target: torch.Size([1600])\n",
            "Validation batch shapes:\n",
            "img: torch.Size([32, 3, 224, 224])\n",
            "entity_name: torch.Size([32])\n",
            "group_id: torch.Size([32])\n",
            "target: torch.Size([32, 50])\n"
          ]
        },
        {
          "output_type": "stream",
          "name": "stderr",
          "text": [
            "\rValidation:  58%|█████▊    | 91/157 [02:41<02:01,  1.83s/it]"
          ]
        },
        {
          "output_type": "stream",
          "name": "stdout",
          "text": [
            "output_probs: torch.Size([32, 50, 46])\n",
            "Reshaped output_probs: torch.Size([1600, 46])\n",
            "Reshaped target: torch.Size([1600])\n",
            "Validation batch shapes:\n",
            "img: torch.Size([32, 3, 224, 224])\n",
            "entity_name: torch.Size([32])\n",
            "group_id: torch.Size([32])\n",
            "target: torch.Size([32, 50])\n"
          ]
        },
        {
          "output_type": "stream",
          "name": "stderr",
          "text": [
            "\rValidation:  59%|█████▊    | 92/157 [02:43<02:00,  1.85s/it]"
          ]
        },
        {
          "output_type": "stream",
          "name": "stdout",
          "text": [
            "output_probs: torch.Size([32, 50, 46])\n",
            "Reshaped output_probs: torch.Size([1600, 46])\n",
            "Reshaped target: torch.Size([1600])\n",
            "Validation batch shapes:\n",
            "img: torch.Size([32, 3, 224, 224])\n",
            "entity_name: torch.Size([32])\n",
            "group_id: torch.Size([32])\n",
            "target: torch.Size([32, 50])\n"
          ]
        },
        {
          "output_type": "stream",
          "name": "stderr",
          "text": [
            "\rValidation:  59%|█████▉    | 93/157 [02:45<01:56,  1.82s/it]"
          ]
        },
        {
          "output_type": "stream",
          "name": "stdout",
          "text": [
            "output_probs: torch.Size([32, 50, 46])\n",
            "Reshaped output_probs: torch.Size([1600, 46])\n",
            "Reshaped target: torch.Size([1600])\n",
            "Validation batch shapes:\n",
            "img: torch.Size([32, 3, 224, 224])\n",
            "entity_name: torch.Size([32])\n",
            "group_id: torch.Size([32])\n",
            "target: torch.Size([32, 50])\n"
          ]
        },
        {
          "output_type": "stream",
          "name": "stderr",
          "text": [
            "\rValidation:  60%|█████▉    | 94/157 [02:46<01:45,  1.67s/it]"
          ]
        },
        {
          "output_type": "stream",
          "name": "stdout",
          "text": [
            "output_probs: torch.Size([32, 50, 46])\n",
            "Reshaped output_probs: torch.Size([1600, 46])\n",
            "Reshaped target: torch.Size([1600])\n",
            "Validation batch shapes:\n",
            "img: torch.Size([32, 3, 224, 224])\n",
            "entity_name: torch.Size([32])\n",
            "group_id: torch.Size([32])\n",
            "target: torch.Size([32, 50])\n"
          ]
        },
        {
          "output_type": "stream",
          "name": "stderr",
          "text": [
            "\rValidation:  61%|██████    | 95/157 [02:48<01:36,  1.56s/it]"
          ]
        },
        {
          "output_type": "stream",
          "name": "stdout",
          "text": [
            "output_probs: torch.Size([32, 50, 46])\n",
            "Reshaped output_probs: torch.Size([1600, 46])\n",
            "Reshaped target: torch.Size([1600])\n",
            "Validation batch shapes:\n",
            "img: torch.Size([32, 3, 224, 224])\n",
            "entity_name: torch.Size([32])\n",
            "group_id: torch.Size([32])\n",
            "target: torch.Size([32, 50])\n"
          ]
        },
        {
          "output_type": "stream",
          "name": "stderr",
          "text": [
            "\rValidation:  61%|██████    | 96/157 [02:49<01:28,  1.45s/it]"
          ]
        },
        {
          "output_type": "stream",
          "name": "stdout",
          "text": [
            "output_probs: torch.Size([32, 50, 46])\n",
            "Reshaped output_probs: torch.Size([1600, 46])\n",
            "Reshaped target: torch.Size([1600])\n",
            "Validation batch shapes:\n",
            "img: torch.Size([32, 3, 224, 224])\n",
            "entity_name: torch.Size([32])\n",
            "group_id: torch.Size([32])\n",
            "target: torch.Size([32, 50])\n"
          ]
        },
        {
          "output_type": "stream",
          "name": "stderr",
          "text": [
            "\rValidation:  62%|██████▏   | 97/157 [02:50<01:26,  1.43s/it]"
          ]
        },
        {
          "output_type": "stream",
          "name": "stdout",
          "text": [
            "output_probs: torch.Size([32, 50, 46])\n",
            "Reshaped output_probs: torch.Size([1600, 46])\n",
            "Reshaped target: torch.Size([1600])\n",
            "Validation batch shapes:\n",
            "img: torch.Size([32, 3, 224, 224])\n",
            "entity_name: torch.Size([32])\n",
            "group_id: torch.Size([32])\n",
            "target: torch.Size([32, 50])\n"
          ]
        },
        {
          "output_type": "stream",
          "name": "stderr",
          "text": [
            "\rValidation:  62%|██████▏   | 98/157 [02:52<01:22,  1.39s/it]"
          ]
        },
        {
          "output_type": "stream",
          "name": "stdout",
          "text": [
            "output_probs: torch.Size([32, 50, 46])\n",
            "Reshaped output_probs: torch.Size([1600, 46])\n",
            "Reshaped target: torch.Size([1600])\n",
            "Validation batch shapes:\n",
            "img: torch.Size([32, 3, 224, 224])\n",
            "entity_name: torch.Size([32])\n",
            "group_id: torch.Size([32])\n",
            "target: torch.Size([32, 50])\n"
          ]
        },
        {
          "output_type": "stream",
          "name": "stderr",
          "text": [
            "\rValidation:  63%|██████▎   | 99/157 [02:53<01:19,  1.37s/it]"
          ]
        },
        {
          "output_type": "stream",
          "name": "stdout",
          "text": [
            "output_probs: torch.Size([32, 50, 46])\n",
            "Reshaped output_probs: torch.Size([1600, 46])\n",
            "Reshaped target: torch.Size([1600])\n",
            "Validation batch shapes:\n",
            "img: torch.Size([32, 3, 224, 224])\n",
            "entity_name: torch.Size([32])\n",
            "group_id: torch.Size([32])\n",
            "target: torch.Size([32, 50])\n"
          ]
        },
        {
          "output_type": "stream",
          "name": "stderr",
          "text": [
            "\rValidation:  64%|██████▎   | 100/157 [02:54<01:16,  1.34s/it]"
          ]
        },
        {
          "output_type": "stream",
          "name": "stdout",
          "text": [
            "output_probs: torch.Size([32, 50, 46])\n",
            "Reshaped output_probs: torch.Size([1600, 46])\n",
            "Reshaped target: torch.Size([1600])\n",
            "Validation batch shapes:\n",
            "img: torch.Size([32, 3, 224, 224])\n",
            "entity_name: torch.Size([32])\n",
            "group_id: torch.Size([32])\n",
            "target: torch.Size([32, 50])\n"
          ]
        },
        {
          "output_type": "stream",
          "name": "stderr",
          "text": [
            "\rValidation:  64%|██████▍   | 101/157 [02:56<01:21,  1.45s/it]"
          ]
        },
        {
          "output_type": "stream",
          "name": "stdout",
          "text": [
            "output_probs: torch.Size([32, 50, 46])\n",
            "Reshaped output_probs: torch.Size([1600, 46])\n",
            "Reshaped target: torch.Size([1600])\n",
            "Validation batch shapes:\n",
            "img: torch.Size([32, 3, 224, 224])\n",
            "entity_name: torch.Size([32])\n",
            "group_id: torch.Size([32])\n",
            "target: torch.Size([32, 50])\n"
          ]
        },
        {
          "output_type": "stream",
          "name": "stderr",
          "text": [
            "\rValidation:  65%|██████▍   | 102/157 [02:58<01:29,  1.63s/it]"
          ]
        },
        {
          "output_type": "stream",
          "name": "stdout",
          "text": [
            "output_probs: torch.Size([32, 50, 46])\n",
            "Reshaped output_probs: torch.Size([1600, 46])\n",
            "Reshaped target: torch.Size([1600])\n",
            "Validation batch shapes:\n",
            "img: torch.Size([32, 3, 224, 224])\n",
            "entity_name: torch.Size([32])\n",
            "group_id: torch.Size([32])\n",
            "target: torch.Size([32, 50])\n"
          ]
        },
        {
          "output_type": "stream",
          "name": "stderr",
          "text": [
            "\rValidation:  66%|██████▌   | 103/157 [03:00<01:32,  1.71s/it]"
          ]
        },
        {
          "output_type": "stream",
          "name": "stdout",
          "text": [
            "output_probs: torch.Size([32, 50, 46])\n",
            "Reshaped output_probs: torch.Size([1600, 46])\n",
            "Reshaped target: torch.Size([1600])\n",
            "Validation batch shapes:\n",
            "img: torch.Size([32, 3, 224, 224])\n",
            "entity_name: torch.Size([32])\n",
            "group_id: torch.Size([32])\n",
            "target: torch.Size([32, 50])\n"
          ]
        },
        {
          "output_type": "stream",
          "name": "stderr",
          "text": [
            "\rValidation:  66%|██████▌   | 104/157 [03:02<01:38,  1.85s/it]"
          ]
        },
        {
          "output_type": "stream",
          "name": "stdout",
          "text": [
            "output_probs: torch.Size([32, 50, 46])\n",
            "Reshaped output_probs: torch.Size([1600, 46])\n",
            "Reshaped target: torch.Size([1600])\n",
            "Validation batch shapes:\n",
            "img: torch.Size([32, 3, 224, 224])\n",
            "entity_name: torch.Size([32])\n",
            "group_id: torch.Size([32])\n",
            "target: torch.Size([32, 50])\n"
          ]
        },
        {
          "output_type": "stream",
          "name": "stderr",
          "text": [
            "\rValidation:  67%|██████▋   | 105/157 [03:04<01:38,  1.90s/it]"
          ]
        },
        {
          "output_type": "stream",
          "name": "stdout",
          "text": [
            "output_probs: torch.Size([32, 50, 46])\n",
            "Reshaped output_probs: torch.Size([1600, 46])\n",
            "Reshaped target: torch.Size([1600])\n",
            "Validation batch shapes:\n",
            "img: torch.Size([32, 3, 224, 224])\n",
            "entity_name: torch.Size([32])\n",
            "group_id: torch.Size([32])\n",
            "target: torch.Size([32, 50])\n"
          ]
        },
        {
          "output_type": "stream",
          "name": "stderr",
          "text": [
            "\rValidation:  68%|██████▊   | 106/157 [03:06<01:36,  1.90s/it]"
          ]
        },
        {
          "output_type": "stream",
          "name": "stdout",
          "text": [
            "output_probs: torch.Size([32, 50, 46])\n",
            "Reshaped output_probs: torch.Size([1600, 46])\n",
            "Reshaped target: torch.Size([1600])\n",
            "Validation batch shapes:\n",
            "img: torch.Size([32, 3, 224, 224])\n",
            "entity_name: torch.Size([32])\n",
            "group_id: torch.Size([32])\n",
            "target: torch.Size([32, 50])\n"
          ]
        },
        {
          "output_type": "stream",
          "name": "stderr",
          "text": [
            "\rValidation:  68%|██████▊   | 107/157 [03:08<01:36,  1.92s/it]"
          ]
        },
        {
          "output_type": "stream",
          "name": "stdout",
          "text": [
            "output_probs: torch.Size([32, 50, 46])\n",
            "Reshaped output_probs: torch.Size([1600, 46])\n",
            "Reshaped target: torch.Size([1600])\n",
            "Validation batch shapes:\n",
            "img: torch.Size([32, 3, 224, 224])\n",
            "entity_name: torch.Size([32])\n",
            "group_id: torch.Size([32])\n",
            "target: torch.Size([32, 50])\n"
          ]
        },
        {
          "output_type": "stream",
          "name": "stderr",
          "text": [
            "\rValidation:  69%|██████▉   | 108/157 [03:09<01:25,  1.75s/it]"
          ]
        },
        {
          "output_type": "stream",
          "name": "stdout",
          "text": [
            "output_probs: torch.Size([32, 50, 46])\n",
            "Reshaped output_probs: torch.Size([1600, 46])\n",
            "Reshaped target: torch.Size([1600])\n",
            "Validation batch shapes:\n",
            "img: torch.Size([32, 3, 224, 224])\n",
            "entity_name: torch.Size([32])\n",
            "group_id: torch.Size([32])\n",
            "target: torch.Size([32, 50])\n"
          ]
        },
        {
          "output_type": "stream",
          "name": "stderr",
          "text": [
            "\rValidation:  69%|██████▉   | 109/157 [03:11<01:17,  1.62s/it]"
          ]
        },
        {
          "output_type": "stream",
          "name": "stdout",
          "text": [
            "output_probs: torch.Size([32, 50, 46])\n",
            "Reshaped output_probs: torch.Size([1600, 46])\n",
            "Reshaped target: torch.Size([1600])\n",
            "Validation batch shapes:\n",
            "img: torch.Size([32, 3, 224, 224])\n",
            "entity_name: torch.Size([32])\n",
            "group_id: torch.Size([32])\n",
            "target: torch.Size([32, 50])\n"
          ]
        },
        {
          "output_type": "stream",
          "name": "stderr",
          "text": [
            "\rValidation:  70%|███████   | 110/157 [03:12<01:09,  1.49s/it]"
          ]
        },
        {
          "output_type": "stream",
          "name": "stdout",
          "text": [
            "output_probs: torch.Size([32, 50, 46])\n",
            "Reshaped output_probs: torch.Size([1600, 46])\n",
            "Reshaped target: torch.Size([1600])\n",
            "Validation batch shapes:\n",
            "img: torch.Size([32, 3, 224, 224])\n",
            "entity_name: torch.Size([32])\n",
            "group_id: torch.Size([32])\n",
            "target: torch.Size([32, 50])\n"
          ]
        },
        {
          "output_type": "stream",
          "name": "stderr",
          "text": [
            "\rValidation:  71%|███████   | 111/157 [03:13<01:04,  1.40s/it]"
          ]
        },
        {
          "output_type": "stream",
          "name": "stdout",
          "text": [
            "output_probs: torch.Size([32, 50, 46])\n",
            "Reshaped output_probs: torch.Size([1600, 46])\n",
            "Reshaped target: torch.Size([1600])\n",
            "Validation batch shapes:\n",
            "img: torch.Size([32, 3, 224, 224])\n",
            "entity_name: torch.Size([32])\n",
            "group_id: torch.Size([32])\n",
            "target: torch.Size([32, 50])\n"
          ]
        },
        {
          "output_type": "stream",
          "name": "stderr",
          "text": [
            "\rValidation:  71%|███████▏  | 112/157 [03:14<01:02,  1.39s/it]"
          ]
        },
        {
          "output_type": "stream",
          "name": "stdout",
          "text": [
            "output_probs: torch.Size([32, 50, 46])\n",
            "Reshaped output_probs: torch.Size([1600, 46])\n",
            "Reshaped target: torch.Size([1600])\n",
            "Validation batch shapes:\n",
            "img: torch.Size([32, 3, 224, 224])\n",
            "entity_name: torch.Size([32])\n",
            "group_id: torch.Size([32])\n",
            "target: torch.Size([32, 50])\n"
          ]
        },
        {
          "output_type": "stream",
          "name": "stderr",
          "text": [
            "\rValidation:  72%|███████▏  | 113/157 [03:16<01:00,  1.37s/it]"
          ]
        },
        {
          "output_type": "stream",
          "name": "stdout",
          "text": [
            "output_probs: torch.Size([32, 50, 46])\n",
            "Reshaped output_probs: torch.Size([1600, 46])\n",
            "Reshaped target: torch.Size([1600])\n",
            "Validation batch shapes:\n",
            "img: torch.Size([32, 3, 224, 224])\n",
            "entity_name: torch.Size([32])\n",
            "group_id: torch.Size([32])\n",
            "target: torch.Size([32, 50])\n"
          ]
        },
        {
          "output_type": "stream",
          "name": "stderr",
          "text": [
            "\rValidation:  73%|███████▎  | 114/157 [03:17<00:58,  1.37s/it]"
          ]
        },
        {
          "output_type": "stream",
          "name": "stdout",
          "text": [
            "output_probs: torch.Size([32, 50, 46])\n",
            "Reshaped output_probs: torch.Size([1600, 46])\n",
            "Reshaped target: torch.Size([1600])\n",
            "Validation batch shapes:\n",
            "img: torch.Size([32, 3, 224, 224])\n",
            "entity_name: torch.Size([32])\n",
            "group_id: torch.Size([32])\n",
            "target: torch.Size([32, 50])\n"
          ]
        },
        {
          "output_type": "stream",
          "name": "stderr",
          "text": [
            "\rValidation:  73%|███████▎  | 115/157 [03:19<01:01,  1.47s/it]"
          ]
        },
        {
          "output_type": "stream",
          "name": "stdout",
          "text": [
            "output_probs: torch.Size([32, 50, 46])\n",
            "Reshaped output_probs: torch.Size([1600, 46])\n",
            "Reshaped target: torch.Size([1600])\n",
            "Validation batch shapes:\n",
            "img: torch.Size([32, 3, 224, 224])\n",
            "entity_name: torch.Size([32])\n",
            "group_id: torch.Size([32])\n",
            "target: torch.Size([32, 50])\n"
          ]
        },
        {
          "output_type": "stream",
          "name": "stderr",
          "text": [
            "\rValidation:  74%|███████▍  | 116/157 [03:21<01:06,  1.62s/it]"
          ]
        },
        {
          "output_type": "stream",
          "name": "stdout",
          "text": [
            "output_probs: torch.Size([32, 50, 46])\n",
            "Reshaped output_probs: torch.Size([1600, 46])\n",
            "Reshaped target: torch.Size([1600])\n",
            "Validation batch shapes:\n",
            "img: torch.Size([32, 3, 224, 224])\n",
            "entity_name: torch.Size([32])\n",
            "group_id: torch.Size([32])\n",
            "target: torch.Size([32, 50])\n"
          ]
        },
        {
          "output_type": "stream",
          "name": "stderr",
          "text": [
            "\rValidation:  75%|███████▍  | 117/157 [03:23<01:10,  1.77s/it]"
          ]
        },
        {
          "output_type": "stream",
          "name": "stdout",
          "text": [
            "output_probs: torch.Size([32, 50, 46])\n",
            "Reshaped output_probs: torch.Size([1600, 46])\n",
            "Reshaped target: torch.Size([1600])\n",
            "Validation batch shapes:\n",
            "img: torch.Size([32, 3, 224, 224])\n",
            "entity_name: torch.Size([32])\n",
            "group_id: torch.Size([32])\n",
            "target: torch.Size([32, 50])\n"
          ]
        },
        {
          "output_type": "stream",
          "name": "stderr",
          "text": [
            "\rValidation:  75%|███████▌  | 118/157 [03:25<01:15,  1.93s/it]"
          ]
        },
        {
          "output_type": "stream",
          "name": "stdout",
          "text": [
            "output_probs: torch.Size([32, 50, 46])\n",
            "Reshaped output_probs: torch.Size([1600, 46])\n",
            "Reshaped target: torch.Size([1600])\n",
            "Validation batch shapes:\n",
            "img: torch.Size([32, 3, 224, 224])\n",
            "entity_name: torch.Size([32])\n",
            "group_id: torch.Size([32])\n",
            "target: torch.Size([32, 50])\n"
          ]
        },
        {
          "output_type": "stream",
          "name": "stderr",
          "text": [
            "\rValidation:  76%|███████▌  | 119/157 [03:27<01:14,  1.97s/it]"
          ]
        },
        {
          "output_type": "stream",
          "name": "stdout",
          "text": [
            "output_probs: torch.Size([32, 50, 46])\n",
            "Reshaped output_probs: torch.Size([1600, 46])\n",
            "Reshaped target: torch.Size([1600])\n",
            "Validation batch shapes:\n",
            "img: torch.Size([32, 3, 224, 224])\n",
            "entity_name: torch.Size([32])\n",
            "group_id: torch.Size([32])\n",
            "target: torch.Size([32, 50])\n"
          ]
        },
        {
          "output_type": "stream",
          "name": "stderr",
          "text": [
            "\rValidation:  76%|███████▋  | 120/157 [03:29<01:10,  1.92s/it]"
          ]
        },
        {
          "output_type": "stream",
          "name": "stdout",
          "text": [
            "output_probs: torch.Size([32, 50, 46])\n",
            "Reshaped output_probs: torch.Size([1600, 46])\n",
            "Reshaped target: torch.Size([1600])\n",
            "Validation batch shapes:\n",
            "img: torch.Size([32, 3, 224, 224])\n",
            "entity_name: torch.Size([32])\n",
            "group_id: torch.Size([32])\n",
            "target: torch.Size([32, 50])\n"
          ]
        },
        {
          "output_type": "stream",
          "name": "stderr",
          "text": [
            "\rValidation:  77%|███████▋  | 121/157 [03:31<01:07,  1.87s/it]"
          ]
        },
        {
          "output_type": "stream",
          "name": "stdout",
          "text": [
            "output_probs: torch.Size([32, 50, 46])\n",
            "Reshaped output_probs: torch.Size([1600, 46])\n",
            "Reshaped target: torch.Size([1600])\n",
            "Validation batch shapes:\n",
            "img: torch.Size([32, 3, 224, 224])\n",
            "entity_name: torch.Size([32])\n",
            "group_id: torch.Size([32])\n",
            "target: torch.Size([32, 50])\n"
          ]
        },
        {
          "output_type": "stream",
          "name": "stderr",
          "text": [
            "\rValidation:  78%|███████▊  | 122/157 [03:32<01:04,  1.84s/it]"
          ]
        },
        {
          "output_type": "stream",
          "name": "stdout",
          "text": [
            "output_probs: torch.Size([32, 50, 46])\n",
            "Reshaped output_probs: torch.Size([1600, 46])\n",
            "Reshaped target: torch.Size([1600])\n",
            "Validation batch shapes:\n",
            "img: torch.Size([32, 3, 224, 224])\n",
            "entity_name: torch.Size([32])\n",
            "group_id: torch.Size([32])\n",
            "target: torch.Size([32, 50])\n"
          ]
        },
        {
          "output_type": "stream",
          "name": "stderr",
          "text": [
            "\rValidation:  78%|███████▊  | 123/157 [03:34<00:59,  1.74s/it]"
          ]
        },
        {
          "output_type": "stream",
          "name": "stdout",
          "text": [
            "output_probs: torch.Size([32, 50, 46])\n",
            "Reshaped output_probs: torch.Size([1600, 46])\n",
            "Reshaped target: torch.Size([1600])\n",
            "Validation batch shapes:\n",
            "img: torch.Size([32, 3, 224, 224])\n",
            "entity_name: torch.Size([32])\n",
            "group_id: torch.Size([32])\n",
            "target: torch.Size([32, 50])\n"
          ]
        },
        {
          "output_type": "stream",
          "name": "stderr",
          "text": [
            "\rValidation:  79%|███████▉  | 124/157 [03:35<00:53,  1.63s/it]"
          ]
        },
        {
          "output_type": "stream",
          "name": "stdout",
          "text": [
            "output_probs: torch.Size([32, 50, 46])\n",
            "Reshaped output_probs: torch.Size([1600, 46])\n",
            "Reshaped target: torch.Size([1600])\n",
            "Validation batch shapes:\n",
            "img: torch.Size([32, 3, 224, 224])\n",
            "entity_name: torch.Size([32])\n",
            "group_id: torch.Size([32])\n",
            "target: torch.Size([32, 50])\n"
          ]
        },
        {
          "output_type": "stream",
          "name": "stderr",
          "text": [
            "\rValidation:  80%|███████▉  | 125/157 [03:36<00:47,  1.48s/it]"
          ]
        },
        {
          "output_type": "stream",
          "name": "stdout",
          "text": [
            "output_probs: torch.Size([32, 50, 46])\n",
            "Reshaped output_probs: torch.Size([1600, 46])\n",
            "Reshaped target: torch.Size([1600])\n",
            "Validation batch shapes:\n",
            "img: torch.Size([32, 3, 224, 224])\n",
            "entity_name: torch.Size([32])\n",
            "group_id: torch.Size([32])\n",
            "target: torch.Size([32, 50])\n"
          ]
        },
        {
          "output_type": "stream",
          "name": "stderr",
          "text": [
            "\rValidation:  80%|████████  | 126/157 [03:38<00:42,  1.38s/it]"
          ]
        },
        {
          "output_type": "stream",
          "name": "stdout",
          "text": [
            "output_probs: torch.Size([32, 50, 46])\n",
            "Reshaped output_probs: torch.Size([1600, 46])\n",
            "Reshaped target: torch.Size([1600])\n",
            "Validation batch shapes:\n",
            "img: torch.Size([32, 3, 224, 224])\n",
            "entity_name: torch.Size([32])\n",
            "group_id: torch.Size([32])\n",
            "target: torch.Size([32, 50])\n"
          ]
        },
        {
          "output_type": "stream",
          "name": "stderr",
          "text": [
            "\rValidation:  81%|████████  | 127/157 [03:39<00:41,  1.38s/it]"
          ]
        },
        {
          "output_type": "stream",
          "name": "stdout",
          "text": [
            "output_probs: torch.Size([32, 50, 46])\n",
            "Reshaped output_probs: torch.Size([1600, 46])\n",
            "Reshaped target: torch.Size([1600])\n",
            "Validation batch shapes:\n",
            "img: torch.Size([32, 3, 224, 224])\n",
            "entity_name: torch.Size([32])\n",
            "group_id: torch.Size([32])\n",
            "target: torch.Size([32, 50])\n"
          ]
        },
        {
          "output_type": "stream",
          "name": "stderr",
          "text": [
            "\rValidation:  82%|████████▏ | 128/157 [03:40<00:39,  1.37s/it]"
          ]
        },
        {
          "output_type": "stream",
          "name": "stdout",
          "text": [
            "output_probs: torch.Size([32, 50, 46])\n",
            "Reshaped output_probs: torch.Size([1600, 46])\n",
            "Reshaped target: torch.Size([1600])\n",
            "Validation batch shapes:\n",
            "img: torch.Size([32, 3, 224, 224])\n",
            "entity_name: torch.Size([32])\n",
            "group_id: torch.Size([32])\n",
            "target: torch.Size([32, 50])\n"
          ]
        },
        {
          "output_type": "stream",
          "name": "stderr",
          "text": [
            "\rValidation:  82%|████████▏ | 129/157 [03:42<00:37,  1.36s/it]"
          ]
        },
        {
          "output_type": "stream",
          "name": "stdout",
          "text": [
            "output_probs: torch.Size([32, 50, 46])\n",
            "Reshaped output_probs: torch.Size([1600, 46])\n",
            "Reshaped target: torch.Size([1600])\n",
            "Validation batch shapes:\n",
            "img: torch.Size([32, 3, 224, 224])\n",
            "entity_name: torch.Size([32])\n",
            "group_id: torch.Size([32])\n",
            "target: torch.Size([32, 50])\n"
          ]
        },
        {
          "output_type": "stream",
          "name": "stderr",
          "text": [
            "\rValidation:  83%|████████▎ | 130/157 [03:43<00:38,  1.43s/it]"
          ]
        },
        {
          "output_type": "stream",
          "name": "stdout",
          "text": [
            "output_probs: torch.Size([32, 50, 46])\n",
            "Reshaped output_probs: torch.Size([1600, 46])\n",
            "Reshaped target: torch.Size([1600])\n",
            "Validation batch shapes:\n",
            "img: torch.Size([32, 3, 224, 224])\n",
            "entity_name: torch.Size([32])\n",
            "group_id: torch.Size([32])\n",
            "target: torch.Size([32, 50])\n"
          ]
        },
        {
          "output_type": "stream",
          "name": "stderr",
          "text": [
            "\rValidation:  83%|████████▎ | 131/157 [03:45<00:43,  1.66s/it]"
          ]
        },
        {
          "output_type": "stream",
          "name": "stdout",
          "text": [
            "output_probs: torch.Size([32, 50, 46])\n",
            "Reshaped output_probs: torch.Size([1600, 46])\n",
            "Reshaped target: torch.Size([1600])\n",
            "Validation batch shapes:\n",
            "img: torch.Size([32, 3, 224, 224])\n",
            "entity_name: torch.Size([32])\n",
            "group_id: torch.Size([32])\n",
            "target: torch.Size([32, 50])\n"
          ]
        },
        {
          "output_type": "stream",
          "name": "stderr",
          "text": [
            "\rValidation:  84%|████████▍ | 132/157 [03:48<00:45,  1.81s/it]"
          ]
        },
        {
          "output_type": "stream",
          "name": "stdout",
          "text": [
            "output_probs: torch.Size([32, 50, 46])\n",
            "Reshaped output_probs: torch.Size([1600, 46])\n",
            "Reshaped target: torch.Size([1600])\n",
            "Validation batch shapes:\n",
            "img: torch.Size([32, 3, 224, 224])\n",
            "entity_name: torch.Size([32])\n",
            "group_id: torch.Size([32])\n",
            "target: torch.Size([32, 50])\n"
          ]
        },
        {
          "output_type": "stream",
          "name": "stderr",
          "text": [
            "\rValidation:  85%|████████▍ | 133/157 [03:50<00:45,  1.91s/it]"
          ]
        },
        {
          "output_type": "stream",
          "name": "stdout",
          "text": [
            "output_probs: torch.Size([32, 50, 46])\n",
            "Reshaped output_probs: torch.Size([1600, 46])\n",
            "Reshaped target: torch.Size([1600])\n",
            "Validation batch shapes:\n",
            "img: torch.Size([32, 3, 224, 224])\n",
            "entity_name: torch.Size([32])\n",
            "group_id: torch.Size([32])\n",
            "target: torch.Size([32, 50])\n"
          ]
        },
        {
          "output_type": "stream",
          "name": "stderr",
          "text": [
            "\rValidation:  85%|████████▌ | 134/157 [03:52<00:43,  1.91s/it]"
          ]
        },
        {
          "output_type": "stream",
          "name": "stdout",
          "text": [
            "output_probs: torch.Size([32, 50, 46])\n",
            "Reshaped output_probs: torch.Size([1600, 46])\n",
            "Reshaped target: torch.Size([1600])\n",
            "Validation batch shapes:\n",
            "img: torch.Size([32, 3, 224, 224])\n",
            "entity_name: torch.Size([32])\n",
            "group_id: torch.Size([32])\n",
            "target: torch.Size([32, 50])\n"
          ]
        },
        {
          "output_type": "stream",
          "name": "stderr",
          "text": [
            "\rValidation:  86%|████████▌ | 135/157 [03:54<00:42,  1.92s/it]"
          ]
        },
        {
          "output_type": "stream",
          "name": "stdout",
          "text": [
            "output_probs: torch.Size([32, 50, 46])\n",
            "Reshaped output_probs: torch.Size([1600, 46])\n",
            "Reshaped target: torch.Size([1600])\n",
            "Validation batch shapes:\n",
            "img: torch.Size([32, 3, 224, 224])\n",
            "entity_name: torch.Size([32])\n",
            "group_id: torch.Size([32])\n",
            "target: torch.Size([32, 50])\n"
          ]
        },
        {
          "output_type": "stream",
          "name": "stderr",
          "text": [
            "\rValidation:  87%|████████▋ | 136/157 [03:55<00:37,  1.81s/it]"
          ]
        },
        {
          "output_type": "stream",
          "name": "stdout",
          "text": [
            "output_probs: torch.Size([32, 50, 46])\n",
            "Reshaped output_probs: torch.Size([1600, 46])\n",
            "Reshaped target: torch.Size([1600])\n",
            "Validation batch shapes:\n",
            "img: torch.Size([32, 3, 224, 224])\n",
            "entity_name: torch.Size([32])\n",
            "group_id: torch.Size([32])\n",
            "target: torch.Size([32, 50])\n"
          ]
        },
        {
          "output_type": "stream",
          "name": "stderr",
          "text": [
            "\rValidation:  87%|████████▋ | 137/157 [03:56<00:33,  1.66s/it]"
          ]
        },
        {
          "output_type": "stream",
          "name": "stdout",
          "text": [
            "output_probs: torch.Size([32, 50, 46])\n",
            "Reshaped output_probs: torch.Size([1600, 46])\n",
            "Reshaped target: torch.Size([1600])\n",
            "Validation batch shapes:\n",
            "img: torch.Size([32, 3, 224, 224])\n",
            "entity_name: torch.Size([32])\n",
            "group_id: torch.Size([32])\n",
            "target: torch.Size([32, 50])\n"
          ]
        },
        {
          "output_type": "stream",
          "name": "stderr",
          "text": [
            "\rValidation:  88%|████████▊ | 138/157 [03:58<00:29,  1.54s/it]"
          ]
        },
        {
          "output_type": "stream",
          "name": "stdout",
          "text": [
            "output_probs: torch.Size([32, 50, 46])\n",
            "Reshaped output_probs: torch.Size([1600, 46])\n",
            "Reshaped target: torch.Size([1600])\n",
            "Validation batch shapes:\n",
            "img: torch.Size([32, 3, 224, 224])\n",
            "entity_name: torch.Size([32])\n",
            "group_id: torch.Size([32])\n",
            "target: torch.Size([32, 50])\n"
          ]
        },
        {
          "output_type": "stream",
          "name": "stderr",
          "text": [
            "\rValidation:  89%|████████▊ | 139/157 [03:59<00:27,  1.50s/it]"
          ]
        },
        {
          "output_type": "stream",
          "name": "stdout",
          "text": [
            "output_probs: torch.Size([32, 50, 46])\n",
            "Reshaped output_probs: torch.Size([1600, 46])\n",
            "Reshaped target: torch.Size([1600])\n",
            "Validation batch shapes:\n",
            "img: torch.Size([32, 3, 224, 224])\n",
            "entity_name: torch.Size([32])\n",
            "group_id: torch.Size([32])\n",
            "target: torch.Size([32, 50])\n"
          ]
        },
        {
          "output_type": "stream",
          "name": "stderr",
          "text": [
            "\rValidation:  89%|████████▉ | 140/157 [04:00<00:24,  1.44s/it]"
          ]
        },
        {
          "output_type": "stream",
          "name": "stdout",
          "text": [
            "output_probs: torch.Size([32, 50, 46])\n",
            "Reshaped output_probs: torch.Size([1600, 46])\n",
            "Reshaped target: torch.Size([1600])\n",
            "Validation batch shapes:\n",
            "img: torch.Size([32, 3, 224, 224])\n",
            "entity_name: torch.Size([32])\n",
            "group_id: torch.Size([32])\n",
            "target: torch.Size([32, 50])\n"
          ]
        },
        {
          "output_type": "stream",
          "name": "stderr",
          "text": [
            "\rValidation:  90%|████████▉ | 141/157 [04:02<00:22,  1.39s/it]"
          ]
        },
        {
          "output_type": "stream",
          "name": "stdout",
          "text": [
            "output_probs: torch.Size([32, 50, 46])\n",
            "Reshaped output_probs: torch.Size([1600, 46])\n",
            "Reshaped target: torch.Size([1600])\n",
            "Validation batch shapes:\n",
            "img: torch.Size([32, 3, 224, 224])\n",
            "entity_name: torch.Size([32])\n",
            "group_id: torch.Size([32])\n",
            "target: torch.Size([32, 50])\n"
          ]
        },
        {
          "output_type": "stream",
          "name": "stderr",
          "text": [
            "\rValidation:  90%|█████████ | 142/157 [04:03<00:20,  1.34s/it]"
          ]
        },
        {
          "output_type": "stream",
          "name": "stdout",
          "text": [
            "output_probs: torch.Size([32, 50, 46])\n",
            "Reshaped output_probs: torch.Size([1600, 46])\n",
            "Reshaped target: torch.Size([1600])\n",
            "Validation batch shapes:\n",
            "img: torch.Size([32, 3, 224, 224])\n",
            "entity_name: torch.Size([32])\n",
            "group_id: torch.Size([32])\n",
            "target: torch.Size([32, 50])\n"
          ]
        },
        {
          "output_type": "stream",
          "name": "stderr",
          "text": [
            "\rValidation:  91%|█████████ | 143/157 [04:04<00:18,  1.30s/it]"
          ]
        },
        {
          "output_type": "stream",
          "name": "stdout",
          "text": [
            "output_probs: torch.Size([32, 50, 46])\n",
            "Reshaped output_probs: torch.Size([1600, 46])\n",
            "Reshaped target: torch.Size([1600])\n",
            "Validation batch shapes:\n",
            "img: torch.Size([32, 3, 224, 224])\n",
            "entity_name: torch.Size([32])\n",
            "group_id: torch.Size([32])\n",
            "target: torch.Size([32, 50])\n"
          ]
        },
        {
          "output_type": "stream",
          "name": "stderr",
          "text": [
            "\rValidation:  92%|█████████▏| 144/157 [04:06<00:19,  1.47s/it]"
          ]
        },
        {
          "output_type": "stream",
          "name": "stdout",
          "text": [
            "output_probs: torch.Size([32, 50, 46])\n",
            "Reshaped output_probs: torch.Size([1600, 46])\n",
            "Reshaped target: torch.Size([1600])\n",
            "Validation batch shapes:\n",
            "img: torch.Size([32, 3, 224, 224])\n",
            "entity_name: torch.Size([32])\n",
            "group_id: torch.Size([32])\n",
            "target: torch.Size([32, 50])\n"
          ]
        },
        {
          "output_type": "stream",
          "name": "stderr",
          "text": [
            "\rValidation:  92%|█████████▏| 145/157 [04:08<00:20,  1.68s/it]"
          ]
        },
        {
          "output_type": "stream",
          "name": "stdout",
          "text": [
            "output_probs: torch.Size([32, 50, 46])\n",
            "Reshaped output_probs: torch.Size([1600, 46])\n",
            "Reshaped target: torch.Size([1600])\n",
            "Validation batch shapes:\n",
            "img: torch.Size([32, 3, 224, 224])\n",
            "entity_name: torch.Size([32])\n",
            "group_id: torch.Size([32])\n",
            "target: torch.Size([32, 50])\n"
          ]
        },
        {
          "output_type": "stream",
          "name": "stderr",
          "text": [
            "\rValidation:  93%|█████████▎| 146/157 [04:10<00:20,  1.84s/it]"
          ]
        },
        {
          "output_type": "stream",
          "name": "stdout",
          "text": [
            "output_probs: torch.Size([32, 50, 46])\n",
            "Reshaped output_probs: torch.Size([1600, 46])\n",
            "Reshaped target: torch.Size([1600])\n",
            "Validation batch shapes:\n",
            "img: torch.Size([32, 3, 224, 224])\n",
            "entity_name: torch.Size([32])\n",
            "group_id: torch.Size([32])\n",
            "target: torch.Size([32, 50])\n"
          ]
        },
        {
          "output_type": "stream",
          "name": "stderr",
          "text": [
            "\rValidation:  94%|█████████▎| 147/157 [04:12<00:19,  1.92s/it]"
          ]
        },
        {
          "output_type": "stream",
          "name": "stdout",
          "text": [
            "output_probs: torch.Size([32, 50, 46])\n",
            "Reshaped output_probs: torch.Size([1600, 46])\n",
            "Reshaped target: torch.Size([1600])\n",
            "Validation batch shapes:\n",
            "img: torch.Size([32, 3, 224, 224])\n",
            "entity_name: torch.Size([32])\n",
            "group_id: torch.Size([32])\n",
            "target: torch.Size([32, 50])\n"
          ]
        },
        {
          "output_type": "stream",
          "name": "stderr",
          "text": [
            "\rValidation:  94%|█████████▍| 148/157 [04:15<00:18,  2.02s/it]"
          ]
        },
        {
          "output_type": "stream",
          "name": "stdout",
          "text": [
            "output_probs: torch.Size([32, 50, 46])\n",
            "Reshaped output_probs: torch.Size([1600, 46])\n",
            "Reshaped target: torch.Size([1600])\n",
            "Validation batch shapes:\n",
            "img: torch.Size([32, 3, 224, 224])\n",
            "entity_name: torch.Size([32])\n",
            "group_id: torch.Size([32])\n",
            "target: torch.Size([32, 50])\n"
          ]
        },
        {
          "output_type": "stream",
          "name": "stderr",
          "text": [
            "\rValidation:  95%|█████████▍| 149/157 [04:17<00:16,  2.05s/it]"
          ]
        },
        {
          "output_type": "stream",
          "name": "stdout",
          "text": [
            "output_probs: torch.Size([32, 50, 46])\n",
            "Reshaped output_probs: torch.Size([1600, 46])\n",
            "Reshaped target: torch.Size([1600])\n",
            "Validation batch shapes:\n",
            "img: torch.Size([32, 3, 224, 224])\n",
            "entity_name: torch.Size([32])\n",
            "group_id: torch.Size([32])\n",
            "target: torch.Size([32, 50])\n"
          ]
        },
        {
          "output_type": "stream",
          "name": "stderr",
          "text": [
            "\rValidation:  96%|█████████▌| 150/157 [04:19<00:15,  2.16s/it]"
          ]
        },
        {
          "output_type": "stream",
          "name": "stdout",
          "text": [
            "output_probs: torch.Size([32, 50, 46])\n",
            "Reshaped output_probs: torch.Size([1600, 46])\n",
            "Reshaped target: torch.Size([1600])\n",
            "Validation batch shapes:\n",
            "img: torch.Size([32, 3, 224, 224])\n",
            "entity_name: torch.Size([32])\n",
            "group_id: torch.Size([32])\n",
            "target: torch.Size([32, 50])\n"
          ]
        },
        {
          "output_type": "stream",
          "name": "stderr",
          "text": [
            "\rValidation:  96%|█████████▌| 151/157 [04:22<00:13,  2.21s/it]"
          ]
        },
        {
          "output_type": "stream",
          "name": "stdout",
          "text": [
            "output_probs: torch.Size([32, 50, 46])\n",
            "Reshaped output_probs: torch.Size([1600, 46])\n",
            "Reshaped target: torch.Size([1600])\n",
            "Validation batch shapes:\n",
            "img: torch.Size([32, 3, 224, 224])\n",
            "entity_name: torch.Size([32])\n",
            "group_id: torch.Size([32])\n",
            "target: torch.Size([32, 50])\n"
          ]
        },
        {
          "output_type": "stream",
          "name": "stderr",
          "text": [
            "\rValidation:  97%|█████████▋| 152/157 [04:23<00:10,  2.02s/it]"
          ]
        },
        {
          "output_type": "stream",
          "name": "stdout",
          "text": [
            "output_probs: torch.Size([32, 50, 46])\n",
            "Reshaped output_probs: torch.Size([1600, 46])\n",
            "Reshaped target: torch.Size([1600])\n",
            "Validation batch shapes:\n",
            "img: torch.Size([32, 3, 224, 224])\n",
            "entity_name: torch.Size([32])\n",
            "group_id: torch.Size([32])\n",
            "target: torch.Size([32, 50])\n"
          ]
        },
        {
          "output_type": "stream",
          "name": "stderr",
          "text": [
            "\rValidation:  97%|█████████▋| 153/157 [04:24<00:06,  1.68s/it]"
          ]
        },
        {
          "output_type": "stream",
          "name": "stdout",
          "text": [
            "output_probs: torch.Size([32, 50, 46])\n",
            "Reshaped output_probs: torch.Size([1600, 46])\n",
            "Reshaped target: torch.Size([1600])\n",
            "Validation batch shapes:\n",
            "img: torch.Size([32, 3, 224, 224])\n",
            "entity_name: torch.Size([32])\n",
            "group_id: torch.Size([32])\n",
            "target: torch.Size([32, 50])\n"
          ]
        },
        {
          "output_type": "stream",
          "name": "stderr",
          "text": [
            "\rValidation:  98%|█████████▊| 154/157 [04:25<00:04,  1.44s/it]"
          ]
        },
        {
          "output_type": "stream",
          "name": "stdout",
          "text": [
            "output_probs: torch.Size([32, 50, 46])\n",
            "Reshaped output_probs: torch.Size([1600, 46])\n",
            "Reshaped target: torch.Size([1600])\n",
            "Validation batch shapes:\n",
            "img: torch.Size([32, 3, 224, 224])\n",
            "entity_name: torch.Size([32])\n",
            "group_id: torch.Size([32])\n",
            "target: torch.Size([32, 50])\n"
          ]
        },
        {
          "output_type": "stream",
          "name": "stderr",
          "text": [
            "\rValidation:  99%|█████████▊| 155/157 [04:26<00:02,  1.27s/it]"
          ]
        },
        {
          "output_type": "stream",
          "name": "stdout",
          "text": [
            "output_probs: torch.Size([32, 50, 46])\n",
            "Reshaped output_probs: torch.Size([1600, 46])\n",
            "Reshaped target: torch.Size([1600])\n",
            "Validation batch shapes:\n",
            "img: torch.Size([32, 3, 224, 224])\n",
            "entity_name: torch.Size([32])\n",
            "group_id: torch.Size([32])\n",
            "target: torch.Size([32, 50])\n"
          ]
        },
        {
          "output_type": "stream",
          "name": "stderr",
          "text": [
            "\rValidation:  99%|█████████▉| 156/157 [04:27<00:01,  1.15s/it]"
          ]
        },
        {
          "output_type": "stream",
          "name": "stdout",
          "text": [
            "output_probs: torch.Size([32, 50, 46])\n",
            "Reshaped output_probs: torch.Size([1600, 46])\n",
            "Reshaped target: torch.Size([1600])\n",
            "Validation batch shapes:\n",
            "img: torch.Size([8, 3, 224, 224])\n",
            "entity_name: torch.Size([8])\n",
            "group_id: torch.Size([8])\n",
            "target: torch.Size([8, 50])\n"
          ]
        },
        {
          "output_type": "stream",
          "name": "stderr",
          "text": [
            "Validation: 100%|██████████| 157/157 [04:27<00:00,  1.70s/it]"
          ]
        },
        {
          "output_type": "stream",
          "name": "stdout",
          "text": [
            "output_probs: torch.Size([8, 50, 46])\n",
            "Reshaped output_probs: torch.Size([400, 46])\n",
            "Reshaped target: torch.Size([400])\n",
            "Validation Loss: 7.8482, Accuracy: 0.0421\n"
          ]
        },
        {
          "output_type": "stream",
          "name": "stderr",
          "text": [
            "\n"
          ]
        }
      ]
    },
    {
      "cell_type": "markdown",
      "source": [
        "## Save Model"
      ],
      "metadata": {
        "id": "CopyrxWygeKa"
      }
    },
    {
      "cell_type": "code",
      "source": [
        "save_path = \"model_v1_bs25k_no_1.pth\""
      ],
      "metadata": {
        "id": "hGRWuzBjgtjQ"
      },
      "execution_count": 28,
      "outputs": []
    },
    {
      "cell_type": "code",
      "source": [
        "torch.save(model.state_dict(), save_path)\n",
        "print(f\"Model saved to {save_path}\")"
      ],
      "metadata": {
        "id": "AXsBJMqdggAr",
        "outputId": "ad86d4d2-3f24-4c8b-d0c5-6f42633e7a67",
        "colab": {
          "base_uri": "https://localhost:8080/"
        }
      },
      "execution_count": 29,
      "outputs": [
        {
          "output_type": "stream",
          "name": "stdout",
          "text": [
            "Model saved to model_v1_bs25k_no_1.pth\n"
          ]
        }
      ]
    },
    {
      "cell_type": "markdown",
      "source": [
        "## Evaluation and dumping the Model"
      ],
      "metadata": {
        "id": "aP0J22qCfQml"
      }
    },
    {
      "cell_type": "code",
      "source": [
        "from sklearn.metrics import accuracy_score, precision_recall_fscore_support\n",
        "import json\n",
        "\n",
        "def save_model_and_calculate_metrics(model, test_loader, tokenizer, device, save_path='trained_model.pth'):\n",
        "    # Save the model\n",
        "    torch.save(model.state_dict(), save_path)\n",
        "    print(f\"Model saved to {save_path}\")\n",
        "\n",
        "    # Set model to evaluation mode\n",
        "    model.eval()\n",
        "\n",
        "    all_predictions = []\n",
        "    all_targets = []\n",
        "\n",
        "    # Disable gradient calculations\n",
        "    with torch.no_grad():\n",
        "        for batch in tqdm(test_loader, desc=\"Evaluating\"):\n",
        "            images, entity_names, group_ids, targets = batch\n",
        "            images = images.to(device)\n",
        "            entity_names = entity_names.to(device)\n",
        "            group_ids = group_ids.to(device)\n",
        "\n",
        "            # Generate predictions\n",
        "            outputs = model.generate(images, entity_names, group_ids)\n",
        "\n",
        "            # Convert predictions and targets to text\n",
        "            pred_texts = [tokenizer.decode(pred) for pred in outputs.cpu().numpy()]\n",
        "            target_texts = [tokenizer.decode(target) for target in targets.cpu().numpy()]\n",
        "\n",
        "            all_predictions.extend(pred_texts)\n",
        "            all_targets.extend(target_texts)\n",
        "\n",
        "    # Calculate metrics\n",
        "    accuracy = accuracy_score(all_targets, all_predictions)\n",
        "    precision, recall, f1, _ = precision_recall_fscore_support(all_targets, all_predictions, average='weighted')\n",
        "\n",
        "    # Print metrics\n",
        "    print(f\"Accuracy: {accuracy:.4f}\")\n",
        "    print(f\"Precision: {precision:.4f}\")\n",
        "    print(f\"Recall: {recall:.4f}\")\n",
        "    print(f\"F1 Score: {f1:.4f}\")\n",
        "\n",
        "    # Save metrics to a file\n",
        "    metrics = {\n",
        "        \"accuracy\": accuracy,\n",
        "        \"precision\": precision,\n",
        "        \"recall\": recall,\n",
        "        \"f1_score\": f1\n",
        "    }\n",
        "    with open('metrics.json', 'w') as f:\n",
        "        json.dump(metrics, f, indent=4)\n",
        "    print(\"Metrics saved to metrics.json\")"
      ],
      "metadata": {
        "id": "0T62URf_JyA-"
      },
      "execution_count": 30,
      "outputs": []
    },
    {
      "cell_type": "code",
      "source": [
        " # Load your test dataset\n",
        "test_df = pd.read_csv('https://raw.githubusercontent.com/Dhyanesh-Panchal/amazon_ml_2024_deepinsight/refs/heads/master/student_resource%203/dataset/test.csv')\n",
        "test_df = test_df.sample(frac=0.1, random_state=42)"
      ],
      "metadata": {
        "id": "aVfwxvgab2Jg"
      },
      "execution_count": 31,
      "outputs": []
    },
    {
      "cell_type": "code",
      "source": [
        "test_df"
      ],
      "metadata": {
        "id": "FekDAJnsgCAv",
        "outputId": "e5b9bfc8-a265-41d7-a7c3-29dbfc986707",
        "colab": {
          "base_uri": "https://localhost:8080/",
          "height": 423
        }
      },
      "execution_count": 32,
      "outputs": [
        {
          "output_type": "execute_result",
          "data": {
            "text/plain": [
              "         index                                         image_link  group_id  \\\n",
              "81509    81578  https://m.media-amazon.com/images/I/610apmjypy...    311997   \n",
              "120375  120463  https://m.media-amazon.com/images/I/71WGncjrqQ...    355666   \n",
              "89356    89428  https://m.media-amazon.com/images/I/6158kNWFcS...    407808   \n",
              "53381    53428  https://m.media-amazon.com/images/I/51Zj1+VgNT...    267482   \n",
              "40962    41007  https://m.media-amazon.com/images/I/51M9bDawya...    245652   \n",
              "...        ...                                                ...       ...   \n",
              "23476    23506  https://m.media-amazon.com/images/I/5131GDDywM...    242256   \n",
              "68929    68990  https://m.media-amazon.com/images/I/51qjw2sj1o...    683885   \n",
              "94818    94892  https://m.media-amazon.com/images/I/618MHecxNz...    656960   \n",
              "5374      5384  https://m.media-amazon.com/images/I/41CtkPNJYs...    709627   \n",
              "64128    64186  https://m.media-amazon.com/images/I/51lUxbx2jW...    281678   \n",
              "\n",
              "        entity_name  \n",
              "81509        height  \n",
              "120375  item_weight  \n",
              "89356   item_weight  \n",
              "53381   item_weight  \n",
              "40962         width  \n",
              "...             ...  \n",
              "23476         depth  \n",
              "68929        height  \n",
              "94818         depth  \n",
              "5374        voltage  \n",
              "64128   item_weight  \n",
              "\n",
              "[13119 rows x 4 columns]"
            ],
            "text/html": [
              "\n",
              "  <div id=\"df-e7d37ac3-2acc-4748-a637-b7bc1d3f6bd6\" class=\"colab-df-container\">\n",
              "    <div>\n",
              "<style scoped>\n",
              "    .dataframe tbody tr th:only-of-type {\n",
              "        vertical-align: middle;\n",
              "    }\n",
              "\n",
              "    .dataframe tbody tr th {\n",
              "        vertical-align: top;\n",
              "    }\n",
              "\n",
              "    .dataframe thead th {\n",
              "        text-align: right;\n",
              "    }\n",
              "</style>\n",
              "<table border=\"1\" class=\"dataframe\">\n",
              "  <thead>\n",
              "    <tr style=\"text-align: right;\">\n",
              "      <th></th>\n",
              "      <th>index</th>\n",
              "      <th>image_link</th>\n",
              "      <th>group_id</th>\n",
              "      <th>entity_name</th>\n",
              "    </tr>\n",
              "  </thead>\n",
              "  <tbody>\n",
              "    <tr>\n",
              "      <th>81509</th>\n",
              "      <td>81578</td>\n",
              "      <td>https://m.media-amazon.com/images/I/610apmjypy...</td>\n",
              "      <td>311997</td>\n",
              "      <td>height</td>\n",
              "    </tr>\n",
              "    <tr>\n",
              "      <th>120375</th>\n",
              "      <td>120463</td>\n",
              "      <td>https://m.media-amazon.com/images/I/71WGncjrqQ...</td>\n",
              "      <td>355666</td>\n",
              "      <td>item_weight</td>\n",
              "    </tr>\n",
              "    <tr>\n",
              "      <th>89356</th>\n",
              "      <td>89428</td>\n",
              "      <td>https://m.media-amazon.com/images/I/6158kNWFcS...</td>\n",
              "      <td>407808</td>\n",
              "      <td>item_weight</td>\n",
              "    </tr>\n",
              "    <tr>\n",
              "      <th>53381</th>\n",
              "      <td>53428</td>\n",
              "      <td>https://m.media-amazon.com/images/I/51Zj1+VgNT...</td>\n",
              "      <td>267482</td>\n",
              "      <td>item_weight</td>\n",
              "    </tr>\n",
              "    <tr>\n",
              "      <th>40962</th>\n",
              "      <td>41007</td>\n",
              "      <td>https://m.media-amazon.com/images/I/51M9bDawya...</td>\n",
              "      <td>245652</td>\n",
              "      <td>width</td>\n",
              "    </tr>\n",
              "    <tr>\n",
              "      <th>...</th>\n",
              "      <td>...</td>\n",
              "      <td>...</td>\n",
              "      <td>...</td>\n",
              "      <td>...</td>\n",
              "    </tr>\n",
              "    <tr>\n",
              "      <th>23476</th>\n",
              "      <td>23506</td>\n",
              "      <td>https://m.media-amazon.com/images/I/5131GDDywM...</td>\n",
              "      <td>242256</td>\n",
              "      <td>depth</td>\n",
              "    </tr>\n",
              "    <tr>\n",
              "      <th>68929</th>\n",
              "      <td>68990</td>\n",
              "      <td>https://m.media-amazon.com/images/I/51qjw2sj1o...</td>\n",
              "      <td>683885</td>\n",
              "      <td>height</td>\n",
              "    </tr>\n",
              "    <tr>\n",
              "      <th>94818</th>\n",
              "      <td>94892</td>\n",
              "      <td>https://m.media-amazon.com/images/I/618MHecxNz...</td>\n",
              "      <td>656960</td>\n",
              "      <td>depth</td>\n",
              "    </tr>\n",
              "    <tr>\n",
              "      <th>5374</th>\n",
              "      <td>5384</td>\n",
              "      <td>https://m.media-amazon.com/images/I/41CtkPNJYs...</td>\n",
              "      <td>709627</td>\n",
              "      <td>voltage</td>\n",
              "    </tr>\n",
              "    <tr>\n",
              "      <th>64128</th>\n",
              "      <td>64186</td>\n",
              "      <td>https://m.media-amazon.com/images/I/51lUxbx2jW...</td>\n",
              "      <td>281678</td>\n",
              "      <td>item_weight</td>\n",
              "    </tr>\n",
              "  </tbody>\n",
              "</table>\n",
              "<p>13119 rows × 4 columns</p>\n",
              "</div>\n",
              "    <div class=\"colab-df-buttons\">\n",
              "\n",
              "  <div class=\"colab-df-container\">\n",
              "    <button class=\"colab-df-convert\" onclick=\"convertToInteractive('df-e7d37ac3-2acc-4748-a637-b7bc1d3f6bd6')\"\n",
              "            title=\"Convert this dataframe to an interactive table.\"\n",
              "            style=\"display:none;\">\n",
              "\n",
              "  <svg xmlns=\"http://www.w3.org/2000/svg\" height=\"24px\" viewBox=\"0 -960 960 960\">\n",
              "    <path d=\"M120-120v-720h720v720H120Zm60-500h600v-160H180v160Zm220 220h160v-160H400v160Zm0 220h160v-160H400v160ZM180-400h160v-160H180v160Zm440 0h160v-160H620v160ZM180-180h160v-160H180v160Zm440 0h160v-160H620v160Z\"/>\n",
              "  </svg>\n",
              "    </button>\n",
              "\n",
              "  <style>\n",
              "    .colab-df-container {\n",
              "      display:flex;\n",
              "      gap: 12px;\n",
              "    }\n",
              "\n",
              "    .colab-df-convert {\n",
              "      background-color: #E8F0FE;\n",
              "      border: none;\n",
              "      border-radius: 50%;\n",
              "      cursor: pointer;\n",
              "      display: none;\n",
              "      fill: #1967D2;\n",
              "      height: 32px;\n",
              "      padding: 0 0 0 0;\n",
              "      width: 32px;\n",
              "    }\n",
              "\n",
              "    .colab-df-convert:hover {\n",
              "      background-color: #E2EBFA;\n",
              "      box-shadow: 0px 1px 2px rgba(60, 64, 67, 0.3), 0px 1px 3px 1px rgba(60, 64, 67, 0.15);\n",
              "      fill: #174EA6;\n",
              "    }\n",
              "\n",
              "    .colab-df-buttons div {\n",
              "      margin-bottom: 4px;\n",
              "    }\n",
              "\n",
              "    [theme=dark] .colab-df-convert {\n",
              "      background-color: #3B4455;\n",
              "      fill: #D2E3FC;\n",
              "    }\n",
              "\n",
              "    [theme=dark] .colab-df-convert:hover {\n",
              "      background-color: #434B5C;\n",
              "      box-shadow: 0px 1px 3px 1px rgba(0, 0, 0, 0.15);\n",
              "      filter: drop-shadow(0px 1px 2px rgba(0, 0, 0, 0.3));\n",
              "      fill: #FFFFFF;\n",
              "    }\n",
              "  </style>\n",
              "\n",
              "    <script>\n",
              "      const buttonEl =\n",
              "        document.querySelector('#df-e7d37ac3-2acc-4748-a637-b7bc1d3f6bd6 button.colab-df-convert');\n",
              "      buttonEl.style.display =\n",
              "        google.colab.kernel.accessAllowed ? 'block' : 'none';\n",
              "\n",
              "      async function convertToInteractive(key) {\n",
              "        const element = document.querySelector('#df-e7d37ac3-2acc-4748-a637-b7bc1d3f6bd6');\n",
              "        const dataTable =\n",
              "          await google.colab.kernel.invokeFunction('convertToInteractive',\n",
              "                                                    [key], {});\n",
              "        if (!dataTable) return;\n",
              "\n",
              "        const docLinkHtml = 'Like what you see? Visit the ' +\n",
              "          '<a target=\"_blank\" href=https://colab.research.google.com/notebooks/data_table.ipynb>data table notebook</a>'\n",
              "          + ' to learn more about interactive tables.';\n",
              "        element.innerHTML = '';\n",
              "        dataTable['output_type'] = 'display_data';\n",
              "        await google.colab.output.renderOutput(dataTable, element);\n",
              "        const docLink = document.createElement('div');\n",
              "        docLink.innerHTML = docLinkHtml;\n",
              "        element.appendChild(docLink);\n",
              "      }\n",
              "    </script>\n",
              "  </div>\n",
              "\n",
              "\n",
              "<div id=\"df-ea322719-2d70-43c7-a08e-f1d18ffd587d\">\n",
              "  <button class=\"colab-df-quickchart\" onclick=\"quickchart('df-ea322719-2d70-43c7-a08e-f1d18ffd587d')\"\n",
              "            title=\"Suggest charts\"\n",
              "            style=\"display:none;\">\n",
              "\n",
              "<svg xmlns=\"http://www.w3.org/2000/svg\" height=\"24px\"viewBox=\"0 0 24 24\"\n",
              "     width=\"24px\">\n",
              "    <g>\n",
              "        <path d=\"M19 3H5c-1.1 0-2 .9-2 2v14c0 1.1.9 2 2 2h14c1.1 0 2-.9 2-2V5c0-1.1-.9-2-2-2zM9 17H7v-7h2v7zm4 0h-2V7h2v10zm4 0h-2v-4h2v4z\"/>\n",
              "    </g>\n",
              "</svg>\n",
              "  </button>\n",
              "\n",
              "<style>\n",
              "  .colab-df-quickchart {\n",
              "      --bg-color: #E8F0FE;\n",
              "      --fill-color: #1967D2;\n",
              "      --hover-bg-color: #E2EBFA;\n",
              "      --hover-fill-color: #174EA6;\n",
              "      --disabled-fill-color: #AAA;\n",
              "      --disabled-bg-color: #DDD;\n",
              "  }\n",
              "\n",
              "  [theme=dark] .colab-df-quickchart {\n",
              "      --bg-color: #3B4455;\n",
              "      --fill-color: #D2E3FC;\n",
              "      --hover-bg-color: #434B5C;\n",
              "      --hover-fill-color: #FFFFFF;\n",
              "      --disabled-bg-color: #3B4455;\n",
              "      --disabled-fill-color: #666;\n",
              "  }\n",
              "\n",
              "  .colab-df-quickchart {\n",
              "    background-color: var(--bg-color);\n",
              "    border: none;\n",
              "    border-radius: 50%;\n",
              "    cursor: pointer;\n",
              "    display: none;\n",
              "    fill: var(--fill-color);\n",
              "    height: 32px;\n",
              "    padding: 0;\n",
              "    width: 32px;\n",
              "  }\n",
              "\n",
              "  .colab-df-quickchart:hover {\n",
              "    background-color: var(--hover-bg-color);\n",
              "    box-shadow: 0 1px 2px rgba(60, 64, 67, 0.3), 0 1px 3px 1px rgba(60, 64, 67, 0.15);\n",
              "    fill: var(--button-hover-fill-color);\n",
              "  }\n",
              "\n",
              "  .colab-df-quickchart-complete:disabled,\n",
              "  .colab-df-quickchart-complete:disabled:hover {\n",
              "    background-color: var(--disabled-bg-color);\n",
              "    fill: var(--disabled-fill-color);\n",
              "    box-shadow: none;\n",
              "  }\n",
              "\n",
              "  .colab-df-spinner {\n",
              "    border: 2px solid var(--fill-color);\n",
              "    border-color: transparent;\n",
              "    border-bottom-color: var(--fill-color);\n",
              "    animation:\n",
              "      spin 1s steps(1) infinite;\n",
              "  }\n",
              "\n",
              "  @keyframes spin {\n",
              "    0% {\n",
              "      border-color: transparent;\n",
              "      border-bottom-color: var(--fill-color);\n",
              "      border-left-color: var(--fill-color);\n",
              "    }\n",
              "    20% {\n",
              "      border-color: transparent;\n",
              "      border-left-color: var(--fill-color);\n",
              "      border-top-color: var(--fill-color);\n",
              "    }\n",
              "    30% {\n",
              "      border-color: transparent;\n",
              "      border-left-color: var(--fill-color);\n",
              "      border-top-color: var(--fill-color);\n",
              "      border-right-color: var(--fill-color);\n",
              "    }\n",
              "    40% {\n",
              "      border-color: transparent;\n",
              "      border-right-color: var(--fill-color);\n",
              "      border-top-color: var(--fill-color);\n",
              "    }\n",
              "    60% {\n",
              "      border-color: transparent;\n",
              "      border-right-color: var(--fill-color);\n",
              "    }\n",
              "    80% {\n",
              "      border-color: transparent;\n",
              "      border-right-color: var(--fill-color);\n",
              "      border-bottom-color: var(--fill-color);\n",
              "    }\n",
              "    90% {\n",
              "      border-color: transparent;\n",
              "      border-bottom-color: var(--fill-color);\n",
              "    }\n",
              "  }\n",
              "</style>\n",
              "\n",
              "  <script>\n",
              "    async function quickchart(key) {\n",
              "      const quickchartButtonEl =\n",
              "        document.querySelector('#' + key + ' button');\n",
              "      quickchartButtonEl.disabled = true;  // To prevent multiple clicks.\n",
              "      quickchartButtonEl.classList.add('colab-df-spinner');\n",
              "      try {\n",
              "        const charts = await google.colab.kernel.invokeFunction(\n",
              "            'suggestCharts', [key], {});\n",
              "      } catch (error) {\n",
              "        console.error('Error during call to suggestCharts:', error);\n",
              "      }\n",
              "      quickchartButtonEl.classList.remove('colab-df-spinner');\n",
              "      quickchartButtonEl.classList.add('colab-df-quickchart-complete');\n",
              "    }\n",
              "    (() => {\n",
              "      let quickchartButtonEl =\n",
              "        document.querySelector('#df-ea322719-2d70-43c7-a08e-f1d18ffd587d button');\n",
              "      quickchartButtonEl.style.display =\n",
              "        google.colab.kernel.accessAllowed ? 'block' : 'none';\n",
              "    })();\n",
              "  </script>\n",
              "</div>\n",
              "\n",
              "  <div id=\"id_abf2c9db-2e23-4608-9c60-22c6bfd086be\">\n",
              "    <style>\n",
              "      .colab-df-generate {\n",
              "        background-color: #E8F0FE;\n",
              "        border: none;\n",
              "        border-radius: 50%;\n",
              "        cursor: pointer;\n",
              "        display: none;\n",
              "        fill: #1967D2;\n",
              "        height: 32px;\n",
              "        padding: 0 0 0 0;\n",
              "        width: 32px;\n",
              "      }\n",
              "\n",
              "      .colab-df-generate:hover {\n",
              "        background-color: #E2EBFA;\n",
              "        box-shadow: 0px 1px 2px rgba(60, 64, 67, 0.3), 0px 1px 3px 1px rgba(60, 64, 67, 0.15);\n",
              "        fill: #174EA6;\n",
              "      }\n",
              "\n",
              "      [theme=dark] .colab-df-generate {\n",
              "        background-color: #3B4455;\n",
              "        fill: #D2E3FC;\n",
              "      }\n",
              "\n",
              "      [theme=dark] .colab-df-generate:hover {\n",
              "        background-color: #434B5C;\n",
              "        box-shadow: 0px 1px 3px 1px rgba(0, 0, 0, 0.15);\n",
              "        filter: drop-shadow(0px 1px 2px rgba(0, 0, 0, 0.3));\n",
              "        fill: #FFFFFF;\n",
              "      }\n",
              "    </style>\n",
              "    <button class=\"colab-df-generate\" onclick=\"generateWithVariable('test_df')\"\n",
              "            title=\"Generate code using this dataframe.\"\n",
              "            style=\"display:none;\">\n",
              "\n",
              "  <svg xmlns=\"http://www.w3.org/2000/svg\" height=\"24px\"viewBox=\"0 0 24 24\"\n",
              "       width=\"24px\">\n",
              "    <path d=\"M7,19H8.4L18.45,9,17,7.55,7,17.6ZM5,21V16.75L18.45,3.32a2,2,0,0,1,2.83,0l1.4,1.43a1.91,1.91,0,0,1,.58,1.4,1.91,1.91,0,0,1-.58,1.4L9.25,21ZM18.45,9,17,7.55Zm-12,3A5.31,5.31,0,0,0,4.9,8.1,5.31,5.31,0,0,0,1,6.5,5.31,5.31,0,0,0,4.9,4.9,5.31,5.31,0,0,0,6.5,1,5.31,5.31,0,0,0,8.1,4.9,5.31,5.31,0,0,0,12,6.5,5.46,5.46,0,0,0,6.5,12Z\"/>\n",
              "  </svg>\n",
              "    </button>\n",
              "    <script>\n",
              "      (() => {\n",
              "      const buttonEl =\n",
              "        document.querySelector('#id_abf2c9db-2e23-4608-9c60-22c6bfd086be button.colab-df-generate');\n",
              "      buttonEl.style.display =\n",
              "        google.colab.kernel.accessAllowed ? 'block' : 'none';\n",
              "\n",
              "      buttonEl.onclick = () => {\n",
              "        google.colab.notebook.generateWithVariable('test_df');\n",
              "      }\n",
              "      })();\n",
              "    </script>\n",
              "  </div>\n",
              "\n",
              "    </div>\n",
              "  </div>\n"
            ],
            "application/vnd.google.colaboratory.intrinsic+json": {
              "type": "dataframe",
              "variable_name": "test_df",
              "summary": "{\n  \"name\": \"test_df\",\n  \"rows\": 13119,\n  \"fields\": [\n    {\n      \"column\": \"index\",\n      \"properties\": {\n        \"dtype\": \"number\",\n        \"std\": 38073,\n        \"min\": 0,\n        \"max\": 131287,\n        \"num_unique_values\": 13119,\n        \"samples\": [\n          67246,\n          12521,\n          50493\n        ],\n        \"semantic_type\": \"\",\n        \"description\": \"\"\n      }\n    },\n    {\n      \"column\": \"image_link\",\n      \"properties\": {\n        \"dtype\": \"string\",\n        \"num_unique_values\": 12662,\n        \"samples\": [\n          \"https://m.media-amazon.com/images/I/51odrSe0HrL.jpg\",\n          \"https://m.media-amazon.com/images/I/41LEKQEBAxL.jpg\",\n          \"https://m.media-amazon.com/images/I/81nXQFjlUhL.jpg\"\n        ],\n        \"semantic_type\": \"\",\n        \"description\": \"\"\n      }\n    },\n    {\n      \"column\": \"group_id\",\n      \"properties\": {\n        \"dtype\": \"number\",\n        \"std\": 263884,\n        \"min\": 104874,\n        \"max\": 998545,\n        \"num_unique_values\": 673,\n        \"samples\": [\n          635528,\n          998545,\n          180410\n        ],\n        \"semantic_type\": \"\",\n        \"description\": \"\"\n      }\n    },\n    {\n      \"column\": \"entity_name\",\n      \"properties\": {\n        \"dtype\": \"category\",\n        \"num_unique_values\": 8,\n        \"samples\": [\n          \"item_weight\",\n          \"wattage\",\n          \"height\"\n        ],\n        \"semantic_type\": \"\",\n        \"description\": \"\"\n      }\n    }\n  ]\n}"
            }
          },
          "metadata": {},
          "execution_count": 32
        }
      ]
    },
    {
      "cell_type": "code",
      "source": [],
      "metadata": {
        "id": "_oDYbsZFgK4n"
      },
      "execution_count": 32,
      "outputs": []
    }
  ],
  "metadata": {
    "language_info": {
      "name": "python"
    },
    "colab": {
      "provenance": [],
      "gpuType": "T4",
      "include_colab_link": true
    },
    "accelerator": "GPU",
    "kernelspec": {
      "name": "python3",
      "display_name": "Python 3"
    }
  },
  "nbformat": 4,
  "nbformat_minor": 0
}